{
 "cells": [
  {
   "cell_type": "code",
   "execution_count": 1,
   "id": "739d81b6-74d8-4fbf-830e-6b9bf8f1e5a1",
   "metadata": {},
   "outputs": [
    {
     "name": "stdout",
     "output_type": "stream",
     "text": [
      "Project directories and files created successfully!\n"
     ]
    }
   ],
   "source": [
    "import os\n",
    "\n",
    "def create_directories(base_dir=\"HybridMalwareDetector\"):\n",
    "    directories = [\n",
    "        \"data\",\n",
    "        \"models\",\n",
    "        \"logs\",\n",
    "        \"feature_extraction\",\n",
    "        \"dynamic_analysis\",\n",
    "        \"ml_models\"\n",
    "    ]\n",
    "    \n",
    "    files = {\n",
    "        \"feature_extraction\": [\"pe_parser.py\", \"pdf_parser.py\", \"script_parser.py\", \"office_parser.py\"],\n",
    "        \"dynamic_analysis\": [\"sandbox_runner.py\", \"behavior_to_image.py\"],\n",
    "        \"ml_models\": [\"static_classifier.py\", \"cnn_classifier.py\"],\n",
    "        \"\": [\"main.py\", \"gui.py\", \"requirements.txt\", \"README.md\"]\n",
    "    }\n",
    "    \n",
    "    # Create base directory\n",
    "    os.makedirs(base_dir, exist_ok=True)\n",
    "    \n",
    "    # Create subdirectories\n",
    "    for directory in directories:\n",
    "        os.makedirs(os.path.join(base_dir, directory), exist_ok=True)\n",
    "    \n",
    "    # Create files inside respective directories\n",
    "    for folder, file_list in files.items():\n",
    "        for file_name in file_list:\n",
    "            file_path = os.path.join(base_dir, folder, file_name) if folder else os.path.join(base_dir, file_name)\n",
    "            with open(file_path, \"w\") as f:\n",
    "                f.write(\"\" if file_name.endswith(\".py\") else \"# \" + file_name)\n",
    "    \n",
    "    print(\"Project directories and files created successfully!\")\n",
    "\n",
    "if __name__ == \"__main__\":\n",
    "    create_directories()"
   ]
  },
  {
   "cell_type": "code",
   "execution_count": 5,
   "id": "0608045c-886d-4a27-9d52-b4a24c5ab2a6",
   "metadata": {},
   "outputs": [
    {
     "name": "stdout",
     "output_type": "stream",
     "text": [
      "Collecting pypdf2\n",
      "  Downloading pypdf2-3.0.1-py3-none-any.whl.metadata (6.8 kB)\n",
      "Downloading pypdf2-3.0.1-py3-none-any.whl (232 kB)\n",
      "Installing collected packages: pypdf2\n",
      "Successfully installed pypdf2-3.0.1\n"
     ]
    }
   ],
   "source": [
    "!pip install pypdf2"
   ]
  },
  {
   "cell_type": "code",
   "execution_count": 3,
   "id": "bd9f5c44-1a28-46e4-8364-a53f7c7ded00",
   "metadata": {},
   "outputs": [
    {
     "name": "stdout",
     "output_type": "stream",
     "text": [
      "Requirement already satisfied: lief in c:\\users\\uniq games\\appdata\\local\\programs\\python\\python310\\lib\\site-packages (0.16.4)\n",
      "Collecting pdfid\n",
      "  Downloading pdfid-1.1.3-py3-none-any.whl.metadata (740 bytes)\n",
      "Collecting oletools\n",
      "  Downloading oletools-0.60.2-py2.py3-none-any.whl.metadata (16 kB)\n",
      "Requirement already satisfied: scikit-learn in c:\\users\\uniq games\\appdata\\local\\programs\\python\\python310\\lib\\site-packages (1.6.1)\n",
      "Requirement already satisfied: torch in c:\\users\\uniq games\\appdata\\local\\programs\\python\\python310\\lib\\site-packages (2.6.0)\n",
      "Requirement already satisfied: numpy in c:\\users\\uniq games\\appdata\\local\\programs\\python\\python310\\lib\\site-packages (2.2.3)\n",
      "Requirement already satisfied: matplotlib in c:\\users\\uniq games\\appdata\\local\\programs\\python\\python310\\lib\\site-packages (3.10.1)\n",
      "Requirement already satisfied: joblib in c:\\users\\uniq games\\appdata\\local\\programs\\python\\python310\\lib\\site-packages (1.4.2)\n",
      "Requirement already satisfied: pyparsing<4,>=2.1.0 in c:\\users\\uniq games\\appdata\\local\\programs\\python\\python310\\lib\\site-packages (from oletools) (3.2.1)\n",
      "Collecting olefile>=0.46 (from oletools)\n",
      "  Downloading olefile-0.47-py2.py3-none-any.whl.metadata (9.7 kB)\n",
      "Collecting easygui (from oletools)\n",
      "  Downloading easygui-0.98.3-py2.py3-none-any.whl.metadata (8.4 kB)\n",
      "Collecting colorclass (from oletools)\n",
      "  Downloading colorclass-2.2.2-py2.py3-none-any.whl.metadata (5.2 kB)\n",
      "Collecting pcodedmp>=1.2.5 (from oletools)\n",
      "  Downloading pcodedmp-1.2.6-py2.py3-none-any.whl.metadata (11 kB)\n",
      "Collecting msoffcrypto-tool (from oletools)\n",
      "  Downloading msoffcrypto_tool-5.4.2-py3-none-any.whl.metadata (10 kB)\n",
      "Requirement already satisfied: scipy>=1.6.0 in c:\\users\\uniq games\\appdata\\local\\programs\\python\\python310\\lib\\site-packages (from scikit-learn) (1.15.2)\n",
      "Requirement already satisfied: threadpoolctl>=3.1.0 in c:\\users\\uniq games\\appdata\\local\\programs\\python\\python310\\lib\\site-packages (from scikit-learn) (3.5.0)\n",
      "Requirement already satisfied: filelock in c:\\users\\uniq games\\appdata\\local\\programs\\python\\python310\\lib\\site-packages (from torch) (3.17.0)\n",
      "Requirement already satisfied: typing-extensions>=4.10.0 in c:\\users\\uniq games\\appdata\\local\\programs\\python\\python310\\lib\\site-packages (from torch) (4.12.2)\n",
      "Requirement already satisfied: networkx in c:\\users\\uniq games\\appdata\\local\\programs\\python\\python310\\lib\\site-packages (from torch) (3.4.2)\n",
      "Requirement already satisfied: jinja2 in c:\\users\\uniq games\\appdata\\local\\programs\\python\\python310\\lib\\site-packages (from torch) (3.1.5)\n",
      "Requirement already satisfied: fsspec in c:\\users\\uniq games\\appdata\\local\\programs\\python\\python310\\lib\\site-packages (from torch) (2025.3.0)\n",
      "Requirement already satisfied: sympy==1.13.1 in c:\\users\\uniq games\\appdata\\local\\programs\\python\\python310\\lib\\site-packages (from torch) (1.13.1)\n",
      "Requirement already satisfied: mpmath<1.4,>=1.1.0 in c:\\users\\uniq games\\appdata\\local\\programs\\python\\python310\\lib\\site-packages (from sympy==1.13.1->torch) (1.3.0)\n",
      "Requirement already satisfied: contourpy>=1.0.1 in c:\\users\\uniq games\\appdata\\local\\programs\\python\\python310\\lib\\site-packages (from matplotlib) (1.3.1)\n",
      "Requirement already satisfied: cycler>=0.10 in c:\\users\\uniq games\\appdata\\local\\programs\\python\\python310\\lib\\site-packages (from matplotlib) (0.12.1)\n",
      "Requirement already satisfied: fonttools>=4.22.0 in c:\\users\\uniq games\\appdata\\local\\programs\\python\\python310\\lib\\site-packages (from matplotlib) (4.56.0)\n",
      "Requirement already satisfied: kiwisolver>=1.3.1 in c:\\users\\uniq games\\appdata\\local\\programs\\python\\python310\\lib\\site-packages (from matplotlib) (1.4.8)\n",
      "Requirement already satisfied: packaging>=20.0 in c:\\users\\uniq games\\appdata\\local\\programs\\python\\python310\\lib\\site-packages (from matplotlib) (24.2)\n",
      "Requirement already satisfied: pillow>=8 in c:\\users\\uniq games\\appdata\\local\\programs\\python\\python310\\lib\\site-packages (from matplotlib) (11.1.0)\n",
      "Requirement already satisfied: python-dateutil>=2.7 in c:\\users\\uniq games\\appdata\\local\\programs\\python\\python310\\lib\\site-packages (from matplotlib) (2.9.0.post0)\n",
      "Collecting win-unicode-console (from pcodedmp>=1.2.5->oletools)\n",
      "  Downloading win_unicode_console-0.5.zip (31 kB)\n",
      "  Preparing metadata (setup.py): started\n",
      "  Preparing metadata (setup.py): finished with status 'done'\n",
      "Requirement already satisfied: six>=1.5 in c:\\users\\uniq games\\appdata\\local\\programs\\python\\python310\\lib\\site-packages (from python-dateutil>=2.7->matplotlib) (1.17.0)\n",
      "Requirement already satisfied: MarkupSafe>=2.0 in c:\\users\\uniq games\\appdata\\local\\programs\\python\\python310\\lib\\site-packages (from jinja2->torch) (3.0.2)\n",
      "Collecting cryptography>=39.0 (from msoffcrypto-tool->oletools)\n",
      "  Downloading cryptography-44.0.2-cp39-abi3-win_amd64.whl.metadata (5.7 kB)\n",
      "Requirement already satisfied: cffi>=1.12 in c:\\users\\uniq games\\appdata\\local\\programs\\python\\python310\\lib\\site-packages (from cryptography>=39.0->msoffcrypto-tool->oletools) (1.17.1)\n",
      "Requirement already satisfied: pycparser in c:\\users\\uniq games\\appdata\\local\\programs\\python\\python310\\lib\\site-packages (from cffi>=1.12->cryptography>=39.0->msoffcrypto-tool->oletools) (2.22)\n",
      "Downloading pdfid-1.1.3-py3-none-any.whl (13 kB)\n",
      "Downloading oletools-0.60.2-py2.py3-none-any.whl (989 kB)\n",
      "   ---------------------------------------- 0.0/989.4 kB ? eta -:--:--\n",
      "   ---------------------------------------- 989.4/989.4 kB 5.2 MB/s eta 0:00:00\n",
      "Downloading olefile-0.47-py2.py3-none-any.whl (114 kB)\n",
      "Downloading pcodedmp-1.2.6-py2.py3-none-any.whl (30 kB)\n",
      "Downloading colorclass-2.2.2-py2.py3-none-any.whl (18 kB)\n",
      "Downloading easygui-0.98.3-py2.py3-none-any.whl (92 kB)\n",
      "Downloading msoffcrypto_tool-5.4.2-py3-none-any.whl (48 kB)\n",
      "Downloading cryptography-44.0.2-cp39-abi3-win_amd64.whl (3.2 MB)\n",
      "   ---------------------------------------- 0.0/3.2 MB ? eta -:--:--\n",
      "   ------ --------------------------------- 0.5/3.2 MB 1.9 MB/s eta 0:00:02\n",
      "   ---------------------- ----------------- 1.8/3.2 MB 4.4 MB/s eta 0:00:01\n",
      "   ---------------------------------------  3.1/3.2 MB 5.0 MB/s eta 0:00:01\n",
      "   ---------------------------------------- 3.2/3.2 MB 5.0 MB/s eta 0:00:00\n",
      "Building wheels for collected packages: win-unicode-console\n",
      "  Building wheel for win-unicode-console (setup.py): started\n",
      "  Building wheel for win-unicode-console (setup.py): finished with status 'done'\n",
      "  Created wheel for win-unicode-console: filename=win_unicode_console-0.5-py3-none-any.whl size=20240 sha256=ab0a8be76de9039262e766584bf5bdf9f15d1640b4ecca90ef05d309dec761ab\n",
      "  Stored in directory: c:\\users\\uniq games\\appdata\\local\\pip\\cache\\wheels\\01\\90\\39\\480b7553719a742763eb73c7d5db9c6a8ceb54582adfdc77c6\n",
      "Successfully built win-unicode-console\n",
      "Installing collected packages: win-unicode-console, easygui, pdfid, olefile, colorclass, cryptography, msoffcrypto-tool, pcodedmp, oletools\n",
      "Successfully installed colorclass-2.2.2 cryptography-44.0.2 easygui-0.98.3 msoffcrypto-tool-5.4.2 olefile-0.47 oletools-0.60.2 pcodedmp-1.2.6 pdfid-1.1.3 win-unicode-console-0.5\n"
     ]
    }
   ],
   "source": [
    "!pip install lief pdfid oletools scikit-learn torch numpy matplotlib joblib"
   ]
  },
  {
   "cell_type": "code",
   "execution_count": 32,
   "id": "56f4f1fd-4157-4305-b23e-b27d87c2771b",
   "metadata": {},
   "outputs": [
    {
     "name": "stdout",
     "output_type": "stream",
     "text": [
      "{\n",
      "    \"obj\": 15,\n",
      "    \"endobj\": 15,\n",
      "    \"stream\": 4,\n",
      "    \"endstream\": 4,\n",
      "    \"xref\": 1,\n",
      "    \"trailer\": 1,\n",
      "    \"startxref\": 1,\n",
      "    \"/Page\": 1,\n",
      "    \"/Encrypt\": 0,\n",
      "    \"/ObjStm\": 0,\n",
      "    \"/JS\": 0,\n",
      "    \"/JavaScript\": 0,\n",
      "    \"/AA\": 0,\n",
      "    \"/OpenAction\": 0,\n",
      "    \"/AcroForm\": 0,\n",
      "    \"/JBIG2Decode\": 0,\n",
      "    \"/RichMedia\": 0,\n",
      "    \"/Launch\": 0,\n",
      "    \"/EmbeddedFile\": 0,\n",
      "    \"/XFA\": 0\n",
      "}\n",
      "Features for exe: {'imports': 15, 'sections': 8, 'entry_point': 1828064, 'size_of_code': 3429376, 'size_of_image': 10481664}\n"
     ]
    }
   ],
   "source": [
    "!python \"HybridMalwareDetector/main.py\" sample.py"
   ]
  },
  {
   "cell_type": "code",
   "execution_count": 1,
   "id": "c59ba0e6-0c91-41d8-967e-f9d9ae4b490d",
   "metadata": {},
   "outputs": [
    {
     "name": "stdout",
     "output_type": "stream",
     "text": [
      "Requirement already satisfied: pefile in c:\\users\\uniq games\\appdata\\local\\programs\\python\\python310\\lib\\site-packages (2024.8.26)\n",
      "Note: you may need to restart the kernel to use updated packages.\n"
     ]
    }
   ],
   "source": [
    "pip install pefile"
   ]
  },
  {
   "cell_type": "code",
   "execution_count": 5,
   "id": "4386b4b6-2c83-4464-ba30-c7dbc7698b9c",
   "metadata": {},
   "outputs": [
    {
     "name": "stdout",
     "output_type": "stream",
     "text": [
      "Requirement already satisfied: pefile in c:\\users\\uniq games\\appdata\\local\\programs\\python\\python310\\lib\\site-packages (2024.8.26)\n",
      "Requirement already satisfied: pypdf2 in c:\\users\\uniq games\\appdata\\local\\programs\\python\\python310\\lib\\site-packages (3.0.1)\n"
     ]
    }
   ],
   "source": [
    "!pip install pefile pypdf2"
   ]
  },
  {
   "cell_type": "code",
   "execution_count": 6,
   "id": "8ccc1a11-4f42-44d6-9ae7-3bddc28afeb5",
   "metadata": {},
   "outputs": [
    {
     "name": "stdout",
     "output_type": "stream",
     "text": [
      "2024.8.26\n"
     ]
    }
   ],
   "source": [
    "!python -c \"import pefile; print(pefile.__version__)\""
   ]
  },
  {
   "cell_type": "code",
   "execution_count": 7,
   "id": "9ff7c2e5-6923-4a76-b8d8-2252797b8dab",
   "metadata": {},
   "outputs": [],
   "source": [
    "!python \"HybridMalwareDetector/feature_extraction/pdf_parser.py\" sample.pdf"
   ]
  },
  {
   "cell_type": "code",
   "execution_count": 11,
   "id": "5d97989f-aab2-471b-aeb5-01ed5005429d",
   "metadata": {},
   "outputs": [
    {
     "name": "stdout",
     "output_type": "stream",
     "text": [
      "Features for exe: {'imports': 15, 'sections': 8, 'entry_point': 1828064, 'size_of_code': 3429376, 'size_of_image': 10481664}\n"
     ]
    }
   ],
   "source": [
    "!python HybridMalwareDetector/main.py sample.pdf"
   ]
  },
  {
   "cell_type": "code",
   "execution_count": 13,
   "id": "89ca9294-884e-4c61-ad85-19a5a748b115",
   "metadata": {},
   "outputs": [
    {
     "name": "stdout",
     "output_type": "stream",
     "text": [
      "{'/Author': 'Arun kumar U21CS040', '/CreationDate': \"D:20240807125553+05'30'\", '/ModDate': \"D:20240807125553+05'30'\", '/Producer': 'Microsoft: Print To PDF', '/Title': 'Microsoft Word - base form'}\n"
     ]
    }
   ],
   "source": [
    "!python -c \"from PyPDF2 import PdfReader; print(PdfReader('sample.pdf').metadata)\""
   ]
  },
  {
   "cell_type": "code",
   "execution_count": 15,
   "id": "9d3f5443-04c0-4912-955a-bafa2078fa26",
   "metadata": {},
   "outputs": [],
   "source": [
    "!python HybridMalwareDetector/feature_extraction/pdf_parser.py sample.pdf"
   ]
  },
  {
   "cell_type": "code",
   "execution_count": 17,
   "id": "4d9fef2a-dbe0-4b1c-9bd2-4562f66c6461",
   "metadata": {},
   "outputs": [
    {
     "name": "stdout",
     "output_type": "stream",
     "text": [
      "PDFiD is installed!\n"
     ]
    }
   ],
   "source": [
    "!python -c \"import pdfid; print('PDFiD is installed!')\"\n"
   ]
  },
  {
   "cell_type": "code",
   "execution_count": 20,
   "id": "d058f498-a08f-4056-92a2-bb25865e6360",
   "metadata": {},
   "outputs": [
    {
     "name": "stdout",
     "output_type": "stream",
     "text": [
      "PDF Parsing Error: [WinError 2] The system cannot find the file specified\n",
      "Features for PDF: {}\n"
     ]
    }
   ],
   "source": [
    "!python HybridMalwareDetector/feature_extraction/pdf_parser.py sample.pdf"
   ]
  },
  {
   "cell_type": "code",
   "execution_count": 27,
   "id": "704c64a8-443f-485d-82a6-33fe46714d47",
   "metadata": {},
   "outputs": [
    {
     "name": "stdout",
     "output_type": "stream",
     "text": [
      "{\n",
      "    \"obj\": 15,\n",
      "    \"endobj\": 15,\n",
      "    \"stream\": 4,\n",
      "    \"endstream\": 4,\n",
      "    \"xref\": 1,\n",
      "    \"trailer\": 1,\n",
      "    \"startxref\": 1,\n",
      "    \"/Page\": 1,\n",
      "    \"/Encrypt\": 0,\n",
      "    \"/ObjStm\": 0,\n",
      "    \"/JS\": 0,\n",
      "    \"/JavaScript\": 0,\n",
      "    \"/AA\": 0,\n",
      "    \"/OpenAction\": 0,\n",
      "    \"/AcroForm\": 0,\n",
      "    \"/JBIG2Decode\": 0,\n",
      "    \"/RichMedia\": 0,\n",
      "    \"/Launch\": 0,\n",
      "    \"/EmbeddedFile\": 0,\n",
      "    \"/XFA\": 0\n",
      "}\n"
     ]
    }
   ],
   "source": [
    "!python HybridMalwareDetector/feature_extraction/pdf_parser.py sample.pdf"
   ]
  },
  {
   "cell_type": "code",
   "execution_count": 1,
   "id": "d4fb9f82-49e7-4e9e-8cab-35cb0503e8e8",
   "metadata": {},
   "outputs": [
    {
     "name": "stdout",
     "output_type": "stream",
     "text": [
      "{\n",
      "    \"obj\": 15,\n",
      "    \"endobj\": 15,\n",
      "    \"stream\": 4,\n",
      "    \"endstream\": 4,\n",
      "    \"xref\": 1,\n",
      "    \"trailer\": 1,\n",
      "    \"startxref\": 1,\n",
      "    \"/Page\": 1,\n",
      "    \"/Encrypt\": 0,\n",
      "    \"/ObjStm\": 0,\n",
      "    \"/JS\": 0,\n",
      "    \"/JavaScript\": 0,\n",
      "    \"/AA\": 0,\n",
      "    \"/OpenAction\": 0,\n",
      "    \"/AcroForm\": 0,\n",
      "    \"/JBIG2Decode\": 0,\n",
      "    \"/RichMedia\": 0,\n",
      "    \"/Launch\": 0,\n",
      "    \"/EmbeddedFile\": 0,\n",
      "    \"/XFA\": 0\n",
      "}\n"
     ]
    },
    {
     "name": "stderr",
     "output_type": "stream",
     "text": [
      "Traceback (most recent call last):\n",
      "  File \"U:\\Projects\\HMD\\HybridMalwareDetector\\gui.py\", line 125, in analyze_file\n",
      "    prediction = model.predict(feature_values)\n",
      "  File \"C:\\Users\\UNIQ GAMES\\AppData\\Local\\Programs\\Python\\Python310\\lib\\site-packages\\sklearn\\ensemble\\_forest.py\", line 904, in predict\n",
      "    proba = self.predict_proba(X)\n",
      "  File \"C:\\Users\\UNIQ GAMES\\AppData\\Local\\Programs\\Python\\Python310\\lib\\site-packages\\sklearn\\ensemble\\_forest.py\", line 946, in predict_proba\n",
      "    X = self._validate_X_predict(X)\n",
      "  File \"C:\\Users\\UNIQ GAMES\\AppData\\Local\\Programs\\Python\\Python310\\lib\\site-packages\\sklearn\\ensemble\\_forest.py\", line 638, in _validate_X_predict\n",
      "    X = validate_data(\n",
      "  File \"C:\\Users\\UNIQ GAMES\\AppData\\Local\\Programs\\Python\\Python310\\lib\\site-packages\\sklearn\\utils\\validation.py\", line 2965, in validate_data\n",
      "    _check_n_features(_estimator, X, reset=reset)\n",
      "  File \"C:\\Users\\UNIQ GAMES\\AppData\\Local\\Programs\\Python\\Python310\\lib\\site-packages\\sklearn\\utils\\validation.py\", line 2829, in _check_n_features\n",
      "    raise ValueError(\n",
      "ValueError: X has 5 features, but RandomForestClassifier is expecting 1804 features as input.\n"
     ]
    }
   ],
   "source": [
    "!python \"HybridMalwareDetector/gui.py\""
   ]
  },
  {
   "cell_type": "code",
   "execution_count": 2,
   "id": "96c559b4-7113-4cd5-866a-d6fbdbf37552",
   "metadata": {},
   "outputs": [
    {
     "name": "stdout",
     "output_type": "stream",
     "text": [
      "Collecting pyarrow\n",
      "  Downloading pyarrow-19.0.1-cp310-cp310-win_amd64.whl.metadata (3.4 kB)\n",
      "Downloading pyarrow-19.0.1-cp310-cp310-win_amd64.whl (25.3 MB)\n",
      "   ---------------------------------------- 0.0/25.3 MB ? eta -:--:--\n",
      "   -- ------------------------------------- 1.8/25.3 MB 9.1 MB/s eta 0:00:03\n",
      "   --- ------------------------------------ 2.4/25.3 MB 5.8 MB/s eta 0:00:04\n",
      "   ---- ----------------------------------- 2.9/25.3 MB 5.1 MB/s eta 0:00:05\n",
      "   ----- ---------------------------------- 3.7/25.3 MB 4.4 MB/s eta 0:00:05\n",
      "   ------ --------------------------------- 4.2/25.3 MB 4.0 MB/s eta 0:00:06\n",
      "   ------- -------------------------------- 4.7/25.3 MB 4.0 MB/s eta 0:00:06\n",
      "   -------- ------------------------------- 5.2/25.3 MB 3.7 MB/s eta 0:00:06\n",
      "   --------- ------------------------------ 5.8/25.3 MB 3.6 MB/s eta 0:00:06\n",
      "   --------- ------------------------------ 6.3/25.3 MB 3.4 MB/s eta 0:00:06\n",
      "   ----------- ---------------------------- 7.1/25.3 MB 3.4 MB/s eta 0:00:06\n",
      "   ------------ --------------------------- 7.6/25.3 MB 3.4 MB/s eta 0:00:06\n",
      "   ------------- -------------------------- 8.4/25.3 MB 3.3 MB/s eta 0:00:06\n",
      "   -------------- ------------------------- 8.9/25.3 MB 3.3 MB/s eta 0:00:05\n",
      "   -------------- ------------------------- 9.4/25.3 MB 3.3 MB/s eta 0:00:05\n",
      "   --------------- ------------------------ 10.0/25.3 MB 3.2 MB/s eta 0:00:05\n",
      "   ---------------- ----------------------- 10.2/25.3 MB 3.1 MB/s eta 0:00:05\n",
      "   ----------------- ---------------------- 10.7/25.3 MB 3.0 MB/s eta 0:00:05\n",
      "   ----------------- ---------------------- 11.0/25.3 MB 3.0 MB/s eta 0:00:05\n",
      "   ------------------ --------------------- 11.5/25.3 MB 2.9 MB/s eta 0:00:05\n",
      "   ------------------ --------------------- 11.8/25.3 MB 2.9 MB/s eta 0:00:05\n",
      "   ------------------- -------------------- 12.3/25.3 MB 2.8 MB/s eta 0:00:05\n",
      "   -------------------- ------------------- 12.8/25.3 MB 2.8 MB/s eta 0:00:05\n",
      "   --------------------- ------------------ 13.4/25.3 MB 2.8 MB/s eta 0:00:05\n",
      "   --------------------- ------------------ 13.9/25.3 MB 2.7 MB/s eta 0:00:05\n",
      "   ---------------------- ----------------- 14.4/25.3 MB 2.7 MB/s eta 0:00:04\n",
      "   ----------------------- ---------------- 14.9/25.3 MB 2.7 MB/s eta 0:00:04\n",
      "   ------------------------ --------------- 15.5/25.3 MB 2.7 MB/s eta 0:00:04\n",
      "   ------------------------- -------------- 16.0/25.3 MB 2.7 MB/s eta 0:00:04\n",
      "   -------------------------- ------------- 16.5/25.3 MB 2.7 MB/s eta 0:00:04\n",
      "   -------------------------- ------------- 17.0/25.3 MB 2.7 MB/s eta 0:00:04\n",
      "   --------------------------- ------------ 17.6/25.3 MB 2.7 MB/s eta 0:00:03\n",
      "   ---------------------------- ----------- 18.1/25.3 MB 2.7 MB/s eta 0:00:03\n",
      "   ----------------------------- ---------- 18.6/25.3 MB 2.7 MB/s eta 0:00:03\n",
      "   ------------------------------ --------- 19.1/25.3 MB 2.7 MB/s eta 0:00:03\n",
      "   ------------------------------- -------- 19.7/25.3 MB 2.7 MB/s eta 0:00:03\n",
      "   ------------------------------- -------- 19.9/25.3 MB 2.7 MB/s eta 0:00:03\n",
      "   ------------------------------- -------- 20.2/25.3 MB 2.6 MB/s eta 0:00:02\n",
      "   --------------------------------- ------ 21.0/25.3 MB 2.6 MB/s eta 0:00:02\n",
      "   ---------------------------------- ----- 21.5/25.3 MB 2.6 MB/s eta 0:00:02\n",
      "   ---------------------------------- ----- 22.0/25.3 MB 2.6 MB/s eta 0:00:02\n",
      "   ------------------------------------ --- 22.8/25.3 MB 2.6 MB/s eta 0:00:01\n",
      "   ------------------------------------ --- 23.3/25.3 MB 2.7 MB/s eta 0:00:01\n",
      "   ------------------------------------- -- 23.9/25.3 MB 2.7 MB/s eta 0:00:01\n",
      "   -------------------------------------- - 24.6/25.3 MB 2.7 MB/s eta 0:00:01\n",
      "   ---------------------------------------- 25.3/25.3 MB 2.7 MB/s eta 0:00:00\n",
      "Installing collected packages: pyarrow\n",
      "Successfully installed pyarrow-19.0.1\n"
     ]
    }
   ],
   "source": [
    "!pip install pyarrow"
   ]
  },
  {
   "cell_type": "code",
   "execution_count": 3,
   "id": "732781ce-c2ff-42db-82a6-93a72ebd3eb5",
   "metadata": {},
   "outputs": [
    {
     "name": "stdout",
     "output_type": "stream",
     "text": [
      "Processing HybridMalwareDetector/data/ember2018\\test_features.jsonl in batches of 50000...\n",
      "Saved batch 0\n",
      "Saved batch 1\n",
      "Saved batch 2\n",
      "Saved batch 3\n",
      "Processing HybridMalwareDetector/data/ember2018\\train_features_0.jsonl in batches of 50000...\n",
      "Saved batch 0\n",
      "Processing HybridMalwareDetector/data/ember2018\\train_features_1.jsonl in batches of 50000...\n",
      "Saved batch 0\n",
      "Saved batch 1\n",
      "Saved batch 2\n",
      "Final batch saved.\n",
      "Processing HybridMalwareDetector/data/ember2018\\train_features_2.jsonl in batches of 50000...\n",
      "Saved batch 0\n",
      "Saved batch 1\n",
      "Final batch saved.\n",
      "Processing HybridMalwareDetector/data/ember2018\\train_features_3.jsonl in batches of 50000...\n",
      "Saved batch 0\n",
      "Saved batch 1\n",
      "Final batch saved.\n",
      "Processing HybridMalwareDetector/data/ember2018\\train_features_4.jsonl in batches of 50000...\n",
      "Saved batch 0\n",
      "Saved batch 1\n",
      "Final batch saved.\n",
      "Processing HybridMalwareDetector/data/ember2018\\train_features_5.jsonl in batches of 50000...\n",
      "Saved batch 0\n",
      "Saved batch 1\n",
      "Saved batch 2\n",
      "Saved batch 3\n",
      "Final batch saved.\n",
      "All files converted to Parquet successfully!\n"
     ]
    }
   ],
   "source": [
    "!python \"HybridMalwareDetector/feature_extraction/extract_features.py\""
   ]
  },
  {
   "cell_type": "code",
   "execution_count": 3,
   "id": "98fff850-d7eb-42dd-8b0b-e2bd3879544c",
   "metadata": {},
   "outputs": [
    {
     "name": "stdout",
     "output_type": "stream",
     "text": [
      "Checking file: test_features_part0.parquet\n",
      "Available Columns: ['sha256', 'md5', 'appeared', 'label', 'avclass', 'histogram', 'byteentropy', 'strings', 'general', 'header', 'section', 'imports', 'exports', 'datadirectories']\n"
     ]
    }
   ],
   "source": [
    "import pyarrow.parquet as pq\n",
    "import os\n",
    "\n",
    "DATA_DIR = \"HybridMalwareDetector/data/processed\"  \n",
    "\n",
    "def check_columns():\n",
    "    for file in os.listdir(DATA_DIR):\n",
    "        if file.endswith(\".parquet\"):\n",
    "            print(f\"Checking file: {file}\")\n",
    "            parquet_file = os.path.join(DATA_DIR, file)\n",
    "            table = pq.read_table(parquet_file)\n",
    "            \n",
    "            print(\"Available Columns:\", table.schema.names)\n",
    "            break  # Just check the first file\n",
    "\n",
    "# Run check\n",
    "check_columns()"
   ]
  },
  {
   "cell_type": "code",
   "execution_count": 3,
   "id": "447deef0-ddcc-4a50-a651-8d5b98602046",
   "metadata": {},
   "outputs": [
    {
     "name": "stdout",
     "output_type": "stream",
     "text": [
      "Processing: test_features_part0.parquet\n",
      "Processing: test_features_part1.parquet\n",
      "Processing: test_features_part2.parquet\n",
      "Processing: test_features_part3.parquet\n",
      "Processing: train_features_0_part0.parquet\n",
      "Processing: train_features_1_final.parquet\n",
      "Processing: train_features_1_part0.parquet\n",
      "Processing: train_features_1_part1.parquet\n",
      "Processing: train_features_1_part2.parquet\n",
      "Processing: train_features_2_final.parquet\n",
      "Processing: train_features_2_part0.parquet\n",
      "Processing: train_features_2_part1.parquet\n",
      "Processing: train_features_3_final.parquet\n",
      "Processing: train_features_3_part0.parquet\n",
      "Processing: train_features_3_part1.parquet\n",
      "Processing: train_features_4_final.parquet\n",
      "Processing: train_features_4_part0.parquet\n",
      "Processing: train_features_4_part1.parquet\n",
      "Processing: train_features_5_final.parquet\n",
      "Processing: train_features_5_part0.parquet\n",
      "Processing: train_features_5_part1.parquet\n",
      "Processing: train_features_5_part2.parquet\n",
      "Processing: train_features_5_part3.parquet\n",
      "Sampled dataset saved at: HybridMalwareDetector/data/sampled_dataset.csv.gz (Compressed)\n"
     ]
    }
   ],
   "source": [
    "!python data_preprocessing.py"
   ]
  },
  {
   "cell_type": "code",
   "execution_count": 5,
   "id": "73aae560-c5ee-453f-a67d-a5c9b342bdc4",
   "metadata": {},
   "outputs": [
    {
     "name": "stdout",
     "output_type": "stream",
     "text": [
      "Processing complete! Labeled data saved to processed_labeled_data.csv.\n"
     ]
    }
   ],
   "source": [
    "import pandas as pd\n",
    "import gzip\n",
    "\n",
    "# Define the input and output file names\n",
    "input_gz_file = \"HybridMalwareDetector/data/sampled_dataset.csv.gz\"  # Change this to your actual file\n",
    "output_csv_file = \"processed_labeled_data.csv\"\n",
    "\n",
    "# Load the compressed CSV file\n",
    "with gzip.open(input_gz_file, 'rt', encoding='utf-8') as f:\n",
    "    df = pd.read_csv(f, low_memory=False)\n",
    "\n",
    "# Define labeling logic\n",
    "def label_data(row):\n",
    "    # Check for suspicious API calls, DLLs, or system functions\n",
    "    malware_indicators = [\"WriteProcessMemory\", \"VirtualAlloc\", \"LoadLibrary\", \"CreateRemoteThread\",\n",
    "                           \"RegOpenKey\", \"RegSetValue\", \"OpenProcess\", \"CreateProcess\", \"NtQuerySystemInformation\"]\n",
    "    \n",
    "    # Convert row to string and check if any malware indicator is present\n",
    "    if any(indicator in str(row).lower() for indicator in malware_indicators):\n",
    "        return 1  # Malware\n",
    "    return 0  # Safe\n",
    "\n",
    "# Apply the labeling function to each row\n",
    "df[\"Malware_Label\"] = df.apply(label_data, axis=1)\n",
    "\n",
    "# Save the processed file with labels\n",
    "df.to_csv(output_csv_file, index=False)\n",
    "\n",
    "print(f\"Processing complete! Labeled data saved to {output_csv_file}.\")"
   ]
  },
  {
   "cell_type": "code",
   "execution_count": 6,
   "id": "1a86beee-152d-4cee-bdde-7bd21dae1d3c",
   "metadata": {},
   "outputs": [
    {
     "name": "stdout",
     "output_type": "stream",
     "text": [
      "Processing complete! Properly labeled data saved to processed_labeled_data_fixed.csv.\n"
     ]
    }
   ],
   "source": [
    "import pandas as pd\n",
    "import gzip\n",
    "\n",
    "# Define the input and output file names\n",
    "input_gz_file = \"HybridMalwareDetector/data/sampled_dataset.csv.gz\"  # Update with actual filename\n",
    "output_csv_file = \"processed_labeled_data_fixed.csv\"\n",
    "\n",
    "# Load the compressed CSV file properly\n",
    "with gzip.open(input_gz_file, 'rt', encoding='utf-8') as f:\n",
    "    df = pd.read_csv(f, low_memory=False)\n",
    "\n",
    "# Define malware-related indicators for labeling\n",
    "malware_indicators = [\"WriteProcessMemory\", \"VirtualAlloc\", \"LoadLibrary\", \"CreateRemoteThread\",\n",
    "                       \"RegOpenKey\", \"RegSetValue\", \"OpenProcess\", \"CreateProcess\", \"NtQuerySystemInformation\",\n",
    "                       \"TerminateProcess\", \"FindResource\", \"HeapAlloc\", \"SetUnhandledExceptionFilter\"]\n",
    "\n",
    "# Ensure we check the entire row\n",
    "def label_data(row):\n",
    "    row_text = ' '.join(str(x).lower() for x in row.values)  # Convert row to a single text string\n",
    "    return 1 if any(indicator.lower() in row_text for indicator in malware_indicators) else 0\n",
    "\n",
    "# Apply the labeling function to each row\n",
    "df[\"Malware_Label\"] = df.apply(label_data, axis=1)\n",
    "\n",
    "# Move \"Malware_Label\" to the first column for easy training\n",
    "cols = [\"Malware_Label\"] + [col for col in df.columns if col != \"Malware_Label\"]\n",
    "df = df[cols]\n",
    "\n",
    "# Save the corrected labeled CSV\n",
    "df.to_csv(output_csv_file, index=False)\n",
    "\n",
    "print(f\"Processing complete! Properly labeled data saved to {output_csv_file}.\")\n"
   ]
  },
  {
   "cell_type": "code",
   "execution_count": 1,
   "id": "a7c11d46-acda-427d-a548-c6eb6e197b54",
   "metadata": {},
   "outputs": [
    {
     "name": "stdout",
     "output_type": "stream",
     "text": [
      "Opcode features saved to: HybridMalwareDetector/data\\opcode_features.csv\n"
     ]
    }
   ],
   "source": [
    "import os\n",
    "import re\n",
    "import pandas as pd\n",
    "from collections import Counter\n",
    "\n",
    "# Define the path to your BIG2015 .asm files\n",
    "ASM_FOLDER = \"HybridMalwareDetector/data\"\n",
    "\n",
    "# List of common assembly opcodes (extendable)\n",
    "OPCODE_PATTERN = re.compile(r'\\b(mov|push|pop|call|jmp|cmp|add|sub|xor|lea|test|ret|nop)\\b', re.IGNORECASE)\n",
    "\n",
    "def extract_opcodes(file_path):\n",
    "    \"\"\"Extract opcodes from an .asm file and count occurrences.\"\"\"\n",
    "    opcode_counter = Counter()\n",
    "    try:\n",
    "        with open(file_path, \"r\", encoding=\"utf-8\", errors=\"ignore\") as f:\n",
    "            for line in f:\n",
    "                opcodes = OPCODE_PATTERN.findall(line)\n",
    "                opcode_counter.update(opcodes)\n",
    "    except Exception as e:\n",
    "        print(f\"Error reading {file_path}: {e}\")\n",
    "    return opcode_counter\n",
    "\n",
    "# Process all .asm files and extract opcode frequencies\n",
    "feature_data = []\n",
    "file_names = []\n",
    "\n",
    "for file_name in os.listdir(ASM_FOLDER):\n",
    "    if file_name.endswith(\".asm\"):\n",
    "        file_path = os.path.join(ASM_FOLDER, file_name)\n",
    "        opcode_counts = extract_opcodes(file_path)\n",
    "\n",
    "        if opcode_counts:\n",
    "            feature_data.append(opcode_counts)\n",
    "            file_names.append(file_name)\n",
    "\n",
    "# Convert to DataFrame\n",
    "df = pd.DataFrame(feature_data).fillna(0)\n",
    "df.insert(0, \"File\", file_names)  # Add file names for reference\n",
    "\n",
    "# Save extracted features to CSV\n",
    "csv_path = os.path.join(ASM_FOLDER, \"opcode_features.csv\")\n",
    "df.to_csv(csv_path, index=False)\n",
    "print(f\"Opcode features saved to: {csv_path}\")"
   ]
  },
  {
   "cell_type": "code",
   "execution_count": 2,
   "id": "fcff2418-05b7-414a-b260-59c962154912",
   "metadata": {},
   "outputs": [
    {
     "name": "stdout",
     "output_type": "stream",
     "text": [
      "Byte n-gram features saved to: U:/Projects/HMD/HybridMalwareDetector/data\\byte_features.csv\n"
     ]
    }
   ],
   "source": [
    "import os\n",
    "import pandas as pd\n",
    "from collections import Counter\n",
    "\n",
    "BYTE_FOLDER = \"U:/Projects/HMD/HybridMalwareDetector/data\"\n",
    "NGRAM_SIZE = 2  # Using byte 2-grams\n",
    "\n",
    "def extract_byte_ngrams(file_path, n=NGRAM_SIZE):\n",
    "    \"\"\"Extract byte n-grams from a .bytes file.\"\"\"\n",
    "    byte_counter = Counter()\n",
    "    try:\n",
    "        with open(file_path, \"r\", encoding=\"utf-8\", errors=\"ignore\") as f:\n",
    "            for line in f:\n",
    "                bytes_seq = line.strip().split()\n",
    "                if \"?\" in bytes_seq:  # Ignore unknown bytes\n",
    "                    bytes_seq = [b for b in bytes_seq if b != \"?\"]\n",
    "                \n",
    "                # Extract n-grams\n",
    "                for i in range(len(bytes_seq) - n + 1):\n",
    "                    ngram = \" \".join(bytes_seq[i:i + n])\n",
    "                    byte_counter[ngram] += 1\n",
    "    except Exception as e:\n",
    "        print(f\"Error reading {file_path}: {e}\")\n",
    "    \n",
    "    return byte_counter\n",
    "\n",
    "# Process all .bytes files\n",
    "byte_feature_data = []\n",
    "file_names = []\n",
    "\n",
    "for file_name in os.listdir(BYTE_FOLDER):\n",
    "    if file_name.endswith(\".bytes\"):\n",
    "        file_path = os.path.join(BYTE_FOLDER, file_name)\n",
    "        byte_counts = extract_byte_ngrams(file_path)\n",
    "\n",
    "        if byte_counts:\n",
    "            byte_feature_data.append(byte_counts)\n",
    "            file_names.append(file_name)\n",
    "\n",
    "# Convert to DataFrame\n",
    "df_bytes = pd.DataFrame(byte_feature_data).fillna(0)\n",
    "df_bytes.insert(0, \"File\", file_names)\n",
    "\n",
    "# Save to CSV\n",
    "csv_path_bytes = os.path.join(BYTE_FOLDER, \"byte_features.csv\")\n",
    "df_bytes.to_csv(csv_path_bytes, index=False)\n",
    "print(f\"Byte n-gram features saved to: {csv_path_bytes}\")"
   ]
  },
  {
   "cell_type": "code",
   "execution_count": 1,
   "id": "fda36abd-74f9-4ea1-a4eb-58908d314c3f",
   "metadata": {},
   "outputs": [
    {
     "name": "stdout",
     "output_type": "stream",
     "text": [
      "Final merged dataset saved to: HybridMalwareDetector/data/final_features.csv\n"
     ]
    }
   ],
   "source": [
    "import pandas as pd\n",
    "\n",
    "DATA_PATH = \"HybridMalwareDetector/data\"\n",
    "\n",
    "# Load opcode and byte n-gram feature sets\n",
    "df_opcode = pd.read_csv(f\"{DATA_PATH}/opcode_features.csv\")\n",
    "df_bytes = pd.read_csv(f\"{DATA_PATH}/byte_features.csv\")\n",
    "\n",
    "# Merge on 'File' column\n",
    "df_final = pd.merge(df_opcode, df_bytes, on=\"File\", how=\"inner\")\n",
    "\n",
    "# Save merged dataset\n",
    "final_csv_path = f\"{DATA_PATH}/final_features.csv\"\n",
    "df_final.to_csv(final_csv_path, index=False)\n",
    "\n",
    "print(f\"Final merged dataset saved to: {final_csv_path}\")"
   ]
  },
  {
   "cell_type": "code",
   "execution_count": 2,
   "id": "4524da30-4395-4e44-89c5-ffe2e75b0e69",
   "metadata": {},
   "outputs": [
    {
     "ename": "KeyError",
     "evalue": "\"['Label'] not found in axis\"",
     "output_type": "error",
     "traceback": [
      "\u001b[1;31m---------------------------------------------------------------------------\u001b[0m",
      "\u001b[1;31mKeyError\u001b[0m                                  Traceback (most recent call last)",
      "Cell \u001b[1;32mIn[2], line 12\u001b[0m\n\u001b[0;32m      9\u001b[0m df \u001b[38;5;241m=\u001b[39m pd\u001b[38;5;241m.\u001b[39mread_csv(DATA_PATH)\n\u001b[0;32m     11\u001b[0m \u001b[38;5;66;03m# Separate features & labels\u001b[39;00m\n\u001b[1;32m---> 12\u001b[0m X \u001b[38;5;241m=\u001b[39m \u001b[43mdf\u001b[49m\u001b[38;5;241;43m.\u001b[39;49m\u001b[43mdrop\u001b[49m\u001b[43m(\u001b[49m\u001b[43mcolumns\u001b[49m\u001b[38;5;241;43m=\u001b[39;49m\u001b[43m[\u001b[49m\u001b[38;5;124;43m\"\u001b[39;49m\u001b[38;5;124;43mFile\u001b[39;49m\u001b[38;5;124;43m\"\u001b[39;49m\u001b[43m,\u001b[49m\u001b[43m \u001b[49m\u001b[38;5;124;43m\"\u001b[39;49m\u001b[38;5;124;43mLabel\u001b[39;49m\u001b[38;5;124;43m\"\u001b[39;49m\u001b[43m]\u001b[49m\u001b[43m)\u001b[49m  \u001b[38;5;66;03m# Features\u001b[39;00m\n\u001b[0;32m     13\u001b[0m y \u001b[38;5;241m=\u001b[39m df[\u001b[38;5;124m\"\u001b[39m\u001b[38;5;124mLabel\u001b[39m\u001b[38;5;124m\"\u001b[39m]  \u001b[38;5;66;03m# Target\u001b[39;00m\n\u001b[0;32m     15\u001b[0m \u001b[38;5;66;03m# Split data (80% train, 20% test)\u001b[39;00m\n",
      "File \u001b[1;32m~\\AppData\\Local\\Programs\\Python\\Python310\\lib\\site-packages\\pandas\\core\\frame.py:5581\u001b[0m, in \u001b[0;36mDataFrame.drop\u001b[1;34m(self, labels, axis, index, columns, level, inplace, errors)\u001b[0m\n\u001b[0;32m   5433\u001b[0m \u001b[38;5;28;01mdef\u001b[39;00m\u001b[38;5;250m \u001b[39m\u001b[38;5;21mdrop\u001b[39m(\n\u001b[0;32m   5434\u001b[0m     \u001b[38;5;28mself\u001b[39m,\n\u001b[0;32m   5435\u001b[0m     labels: IndexLabel \u001b[38;5;241m|\u001b[39m \u001b[38;5;28;01mNone\u001b[39;00m \u001b[38;5;241m=\u001b[39m \u001b[38;5;28;01mNone\u001b[39;00m,\n\u001b[1;32m   (...)\u001b[0m\n\u001b[0;32m   5442\u001b[0m     errors: IgnoreRaise \u001b[38;5;241m=\u001b[39m \u001b[38;5;124m\"\u001b[39m\u001b[38;5;124mraise\u001b[39m\u001b[38;5;124m\"\u001b[39m,\n\u001b[0;32m   5443\u001b[0m ) \u001b[38;5;241m-\u001b[39m\u001b[38;5;241m>\u001b[39m DataFrame \u001b[38;5;241m|\u001b[39m \u001b[38;5;28;01mNone\u001b[39;00m:\n\u001b[0;32m   5444\u001b[0m \u001b[38;5;250m    \u001b[39m\u001b[38;5;124;03m\"\"\"\u001b[39;00m\n\u001b[0;32m   5445\u001b[0m \u001b[38;5;124;03m    Drop specified labels from rows or columns.\u001b[39;00m\n\u001b[0;32m   5446\u001b[0m \n\u001b[1;32m   (...)\u001b[0m\n\u001b[0;32m   5579\u001b[0m \u001b[38;5;124;03m            weight  1.0     0.8\u001b[39;00m\n\u001b[0;32m   5580\u001b[0m \u001b[38;5;124;03m    \"\"\"\u001b[39;00m\n\u001b[1;32m-> 5581\u001b[0m     \u001b[38;5;28;01mreturn\u001b[39;00m \u001b[38;5;28;43msuper\u001b[39;49m\u001b[43m(\u001b[49m\u001b[43m)\u001b[49m\u001b[38;5;241;43m.\u001b[39;49m\u001b[43mdrop\u001b[49m\u001b[43m(\u001b[49m\n\u001b[0;32m   5582\u001b[0m \u001b[43m        \u001b[49m\u001b[43mlabels\u001b[49m\u001b[38;5;241;43m=\u001b[39;49m\u001b[43mlabels\u001b[49m\u001b[43m,\u001b[49m\n\u001b[0;32m   5583\u001b[0m \u001b[43m        \u001b[49m\u001b[43maxis\u001b[49m\u001b[38;5;241;43m=\u001b[39;49m\u001b[43maxis\u001b[49m\u001b[43m,\u001b[49m\n\u001b[0;32m   5584\u001b[0m \u001b[43m        \u001b[49m\u001b[43mindex\u001b[49m\u001b[38;5;241;43m=\u001b[39;49m\u001b[43mindex\u001b[49m\u001b[43m,\u001b[49m\n\u001b[0;32m   5585\u001b[0m \u001b[43m        \u001b[49m\u001b[43mcolumns\u001b[49m\u001b[38;5;241;43m=\u001b[39;49m\u001b[43mcolumns\u001b[49m\u001b[43m,\u001b[49m\n\u001b[0;32m   5586\u001b[0m \u001b[43m        \u001b[49m\u001b[43mlevel\u001b[49m\u001b[38;5;241;43m=\u001b[39;49m\u001b[43mlevel\u001b[49m\u001b[43m,\u001b[49m\n\u001b[0;32m   5587\u001b[0m \u001b[43m        \u001b[49m\u001b[43minplace\u001b[49m\u001b[38;5;241;43m=\u001b[39;49m\u001b[43minplace\u001b[49m\u001b[43m,\u001b[49m\n\u001b[0;32m   5588\u001b[0m \u001b[43m        \u001b[49m\u001b[43merrors\u001b[49m\u001b[38;5;241;43m=\u001b[39;49m\u001b[43merrors\u001b[49m\u001b[43m,\u001b[49m\n\u001b[0;32m   5589\u001b[0m \u001b[43m    \u001b[49m\u001b[43m)\u001b[49m\n",
      "File \u001b[1;32m~\\AppData\\Local\\Programs\\Python\\Python310\\lib\\site-packages\\pandas\\core\\generic.py:4788\u001b[0m, in \u001b[0;36mNDFrame.drop\u001b[1;34m(self, labels, axis, index, columns, level, inplace, errors)\u001b[0m\n\u001b[0;32m   4786\u001b[0m \u001b[38;5;28;01mfor\u001b[39;00m axis, labels \u001b[38;5;129;01min\u001b[39;00m axes\u001b[38;5;241m.\u001b[39mitems():\n\u001b[0;32m   4787\u001b[0m     \u001b[38;5;28;01mif\u001b[39;00m labels \u001b[38;5;129;01mis\u001b[39;00m \u001b[38;5;129;01mnot\u001b[39;00m \u001b[38;5;28;01mNone\u001b[39;00m:\n\u001b[1;32m-> 4788\u001b[0m         obj \u001b[38;5;241m=\u001b[39m \u001b[43mobj\u001b[49m\u001b[38;5;241;43m.\u001b[39;49m\u001b[43m_drop_axis\u001b[49m\u001b[43m(\u001b[49m\u001b[43mlabels\u001b[49m\u001b[43m,\u001b[49m\u001b[43m \u001b[49m\u001b[43maxis\u001b[49m\u001b[43m,\u001b[49m\u001b[43m \u001b[49m\u001b[43mlevel\u001b[49m\u001b[38;5;241;43m=\u001b[39;49m\u001b[43mlevel\u001b[49m\u001b[43m,\u001b[49m\u001b[43m \u001b[49m\u001b[43merrors\u001b[49m\u001b[38;5;241;43m=\u001b[39;49m\u001b[43merrors\u001b[49m\u001b[43m)\u001b[49m\n\u001b[0;32m   4790\u001b[0m \u001b[38;5;28;01mif\u001b[39;00m inplace:\n\u001b[0;32m   4791\u001b[0m     \u001b[38;5;28mself\u001b[39m\u001b[38;5;241m.\u001b[39m_update_inplace(obj)\n",
      "File \u001b[1;32m~\\AppData\\Local\\Programs\\Python\\Python310\\lib\\site-packages\\pandas\\core\\generic.py:4830\u001b[0m, in \u001b[0;36mNDFrame._drop_axis\u001b[1;34m(self, labels, axis, level, errors, only_slice)\u001b[0m\n\u001b[0;32m   4828\u001b[0m         new_axis \u001b[38;5;241m=\u001b[39m axis\u001b[38;5;241m.\u001b[39mdrop(labels, level\u001b[38;5;241m=\u001b[39mlevel, errors\u001b[38;5;241m=\u001b[39merrors)\n\u001b[0;32m   4829\u001b[0m     \u001b[38;5;28;01melse\u001b[39;00m:\n\u001b[1;32m-> 4830\u001b[0m         new_axis \u001b[38;5;241m=\u001b[39m \u001b[43maxis\u001b[49m\u001b[38;5;241;43m.\u001b[39;49m\u001b[43mdrop\u001b[49m\u001b[43m(\u001b[49m\u001b[43mlabels\u001b[49m\u001b[43m,\u001b[49m\u001b[43m \u001b[49m\u001b[43merrors\u001b[49m\u001b[38;5;241;43m=\u001b[39;49m\u001b[43merrors\u001b[49m\u001b[43m)\u001b[49m\n\u001b[0;32m   4831\u001b[0m     indexer \u001b[38;5;241m=\u001b[39m axis\u001b[38;5;241m.\u001b[39mget_indexer(new_axis)\n\u001b[0;32m   4833\u001b[0m \u001b[38;5;66;03m# Case for non-unique axis\u001b[39;00m\n\u001b[0;32m   4834\u001b[0m \u001b[38;5;28;01melse\u001b[39;00m:\n",
      "File \u001b[1;32m~\\AppData\\Local\\Programs\\Python\\Python310\\lib\\site-packages\\pandas\\core\\indexes\\base.py:7070\u001b[0m, in \u001b[0;36mIndex.drop\u001b[1;34m(self, labels, errors)\u001b[0m\n\u001b[0;32m   7068\u001b[0m \u001b[38;5;28;01mif\u001b[39;00m mask\u001b[38;5;241m.\u001b[39many():\n\u001b[0;32m   7069\u001b[0m     \u001b[38;5;28;01mif\u001b[39;00m errors \u001b[38;5;241m!=\u001b[39m \u001b[38;5;124m\"\u001b[39m\u001b[38;5;124mignore\u001b[39m\u001b[38;5;124m\"\u001b[39m:\n\u001b[1;32m-> 7070\u001b[0m         \u001b[38;5;28;01mraise\u001b[39;00m \u001b[38;5;167;01mKeyError\u001b[39;00m(\u001b[38;5;124mf\u001b[39m\u001b[38;5;124m\"\u001b[39m\u001b[38;5;132;01m{\u001b[39;00mlabels[mask]\u001b[38;5;241m.\u001b[39mtolist()\u001b[38;5;132;01m}\u001b[39;00m\u001b[38;5;124m not found in axis\u001b[39m\u001b[38;5;124m\"\u001b[39m)\n\u001b[0;32m   7071\u001b[0m     indexer \u001b[38;5;241m=\u001b[39m indexer[\u001b[38;5;241m~\u001b[39mmask]\n\u001b[0;32m   7072\u001b[0m \u001b[38;5;28;01mreturn\u001b[39;00m \u001b[38;5;28mself\u001b[39m\u001b[38;5;241m.\u001b[39mdelete(indexer)\n",
      "\u001b[1;31mKeyError\u001b[0m: \"['Label'] not found in axis\""
     ]
    }
   ],
   "source": [
    "import pandas as pd\n",
    "from sklearn.model_selection import train_test_split\n",
    "from sklearn.ensemble import RandomForestClassifier\n",
    "from sklearn.svm import SVC\n",
    "from sklearn.metrics import accuracy_score, classification_report\n",
    "\n",
    "# Load final dataset\n",
    "DATA_PATH = \"HybridMalwareDetector/data/final_features.csv\"\n",
    "df = pd.read_csv(DATA_PATH)\n",
    "\n",
    "# Separate features & labels\n",
    "X = df.drop(columns=[\"File\", \"Label\"])  # Features\n",
    "y = df[\"Label\"]  # Target\n",
    "\n",
    "# Split data (80% train, 20% test)\n",
    "X_train, X_test, y_train, y_test = train_test_split(X, y, test_size=0.2, random_state=42)\n",
    "\n",
    "# Train Random Forest\n",
    "rf = RandomForestClassifier(n_estimators=100, random_state=42)\n",
    "rf.fit(X_train, y_train)\n",
    "rf_preds = rf.predict(X_test)\n",
    "\n",
    "# Train SVM\n",
    "svm = SVC(kernel=\"linear\", random_state=42)\n",
    "svm.fit(X_train, y_train)\n",
    "svm_preds = svm.predict(X_test)\n",
    "\n",
    "# Evaluate Performance\n",
    "print(\"\\nRandom Forest Results:\")\n",
    "print(classification_report(y_test, rf_preds))\n",
    "print(\"RF Accuracy:\", accuracy_score(y_test, rf_preds))\n",
    "\n",
    "print(\"\\nSVM Results:\")\n",
    "print(classification_report(y_test, svm_preds))\n",
    "print(\"SVM Accuracy:\", accuracy_score(y_test, svm_preds))"
   ]
  },
  {
   "cell_type": "code",
   "execution_count": 4,
   "id": "b56bf227-1d6c-4302-b9de-71e9c47989a0",
   "metadata": {},
   "outputs": [
    {
     "name": "stdout",
     "output_type": "stream",
     "text": [
      "(0, 208466)\n",
      "<class 'pandas.core.frame.DataFrame'>\n",
      "RangeIndex: 0 entries\n",
      "Columns: 208466 entries, File to 00582FF0 ??\n",
      "dtypes: object(208466)\n",
      "memory usage: 124.0+ bytes\n",
      "None\n"
     ]
    }
   ],
   "source": [
    "df = pd.read_csv(DATA_PATH, low_memory=False)\n",
    "print(df.shape)  # Check if any rows exist\n",
    "print(df.info())  # See if columns have valid data types"
   ]
  },
  {
   "cell_type": "code",
   "execution_count": 5,
   "id": "006a6d4d-9ce5-4d2c-8416-b2d16e675065",
   "metadata": {},
   "outputs": [
    {
     "name": "stdout",
     "output_type": "stream",
     "text": [
      "Byte Features File Size: 3956559 bytes\n",
      "Final Features File Size: 2290957 bytes\n"
     ]
    }
   ],
   "source": [
    "import os\n",
    "\n",
    "byte_features_path = \"HybridMalwareDetector/data/byte_features.csv\"\n",
    "final_features_path = \"HybridMalwareDetector/data/final_features.csv\"\n",
    "\n",
    "# Check file sizes\n",
    "print(f\"Byte Features File Size: {os.path.getsize(byte_features_path)} bytes\")\n",
    "print(f\"Final Features File Size: {os.path.getsize(final_features_path)} bytes\")"
   ]
  },
  {
   "cell_type": "code",
   "execution_count": 5,
   "id": "ed3df4f7-aa2a-4435-a92a-3cd7877883d0",
   "metadata": {
    "scrolled": true
   },
   "outputs": [
    {
     "name": "stdout",
     "output_type": "stream",
     "text": [
      "ldrloaddll ldrgetprocedureaddress ldrloaddll ldrgetprocedureaddress ldrgetprocedureaddress ldrgetprocedureaddress ldrgetprocedureaddress ldrgetprocedureaddress ldrgetprocedureaddress ldrgetprocedureaddress ldrgetprocedureaddress ldrgetprocedureaddress ldrgetprocedureaddress ldrgetprocedureaddress ldrgetprocedureaddress ldrgetprocedureaddress ldrgetprocedureaddress ldrgetprocedureaddress ldrgetprocedureaddress ldrgetprocedureaddress ldrgetprocedureaddress ldrgetprocedureaddress ldrgetprocedureaddress ldrgetprocedureaddress ldrgetprocedureaddress ldrgetprocedureaddress ldrgetprocedureaddress ldrgetprocedureaddress ldrgetprocedureaddress ldrgetprocedureaddress ldrgetprocedureaddress ldrgetprocedureaddress ldrgetprocedureaddress ldrgetprocedureaddress ldrgetprocedureaddress ldrgetprocedureaddress ldrgetprocedureaddress ldrgetprocedureaddress ldrgetprocedureaddress ldrgetprocedureaddress ldrgetprocedureaddress ldrgetprocedureaddress ldrgetprocedureaddress ldrgetprocedureaddress ldrgetprocedureaddress ldrgetprocedureaddress ldrloaddll ldrgetprocedureaddress ldrgetprocedureaddress ldrgetprocedureaddress ldrgetprocedureaddress ldrloaddll ldrgetprocedureaddress ldrgetprocedureaddress ldrgetprocedureaddress ldrgetprocedureaddress ldrgetprocedureaddress ldrgetprocedureaddress ldrgetprocedureaddress ldrgetprocedureaddress ldrgetprocedureaddress ldrgetprocedureaddress ldrgetprocedureaddress ldrgetprocedureaddress ldrgetprocedureaddress ldrgetprocedureaddress ldrgetprocedureaddress ldrgetprocedureaddress ldrgetprocedureaddress ldrgetprocedureaddress ldrgetprocedureaddress ldrgetprocedureaddress ldrgetprocedureaddress ldrgetprocedureaddress ldrgetprocedureaddress ldrgetprocedureaddress ldrgetprocedureaddress ldrgetprocedureaddress ldrgetprocedureaddress ldrgetprocedureaddress ldrgetprocedureaddress ldrgetprocedureaddress ldrgetprocedureaddress ldrgetprocedureaddress ldrgetprocedureaddress ldrgetprocedureaddress ldrgetprocedureaddress ldrgetprocedureaddress ldrgetprocedureaddress ldrgetprocedureaddress ldrgetprocedureaddress ldrgetprocedureaddress ldrgetprocedureaddress ldrgetprocedureaddress ldrgetprocedureaddress ldrgetprocedureaddress ldrgetprocedureaddress ldrgetprocedureaddress ldrgetprocedureaddress ldrgetprocedureaddress ldrgetprocedureaddress ldrgetprocedureaddress ldrgetprocedureaddress ldrgetprocedureaddress ldrgetprocedureaddress ldrgetprocedureaddress ldrgetprocedureaddress ldrgetprocedureaddress ldrgetprocedureaddress ldrgetprocedureaddress ldrloaddll ldrgetprocedureaddress ldrgetprocedureaddress ldrgetprocedureaddress ldrloaddll ldrgetprocedureaddress ldrgetprocedureaddress ldrgetprocedureaddress ldrloaddll ldrgetprocedureaddress ldrgetprocedureaddress ldrgetprocedureaddress ldrgetprocedureaddress ldrgetprocedureaddress ldrgetprocedureaddress ldrgetprocedureaddress ldrgetprocedureaddress ldrloaddll ldrgetprocedureaddress ldrgetprocedureaddress ldrgetprocedureaddress ldrloaddll ldrgetprocedureaddress ldrgetprocedureaddress ldrgetprocedureaddress ldrgetprocedureaddress ldrgetprocedureaddress ldrgetprocedureaddress ldrgetprocedureaddress ldrgetprocedureaddress ldrgetprocedureaddress ldrgetprocedureaddress ldrgetprocedureaddress ldrgetprocedureaddress ldrgetprocedureaddress ldrgetprocedureaddress ldrgetprocedureaddress ldrgetprocedureaddress ldrgetprocedureaddress ldrgetprocedureaddress ldrgetprocedureaddress ldrgetprocedureaddress ldrgetprocedureaddress ldrgetprocedureaddress ldrgetprocedureaddress ldrgetprocedureaddress ldrgetprocedureaddress ldrgetprocedureaddress ldrgetprocedureaddress ldrgetprocedureaddress ldrgetprocedureaddress ldrgetprocedureaddress ldrloaddll ldrgetprocedureaddress ldrgetprocedureaddress ldrgetprocedureaddress ldrgetprocedureaddress ldrloaddll ldrgetprocedureaddress ldrgetprocedureaddress ldrgetprocedureaddress ldrgetprocedureaddress ldrgetprocedureaddress ldrgetprocedureaddress ldrgetprocedureaddress ldrloaddll ldrgetprocedureaddress ldrgetprocedureaddress ldrgetprocedureaddress ldrgetprocedureaddress ldrgetprocedureaddress ldrgetprocedureaddress ldrgetprocedureaddress ldrgetprocedureaddress ldrgetprocedureaddress regopenkeyexa regopenkeyexa regopenkeyexa ntopenkey ntqueryvaluekey ntclose ntopenkey ntqueryvaluekey ntclose ntclose ntqueryattributesfile ntqueryattributesfile ntqueryattributesfile ntqueryattributesfile loadstringa ntallocatevirtualmemory ntallocatevirtualmemory loadstringa loadstringa loadstringa loadstringa loadstringa loadstringa loadstringa loadstringa loadstringa loadstringa loadstringa loadstringa loadstringa loadstringa loadstringa loadstringa loadstringa loadstringa loadstringa loadstringa loadstringa loadstringa loadstringa loadstringa loadstringa loadstringa loadstringa loadstringa loadstringa loadstringa ldrgetdllhandle ldrgetprocedureaddress ldrgetdllhandle ldrgetprocedureaddress ldrgetprocedureaddress ldrgetprocedureaddress ldrgetprocedureaddress ldrgetprocedureaddress ldrgetprocedureaddress ldrgetprocedureaddress ldrgetprocedureaddress ldrgetprocedureaddress ldrgetprocedureaddress ldrgetprocedureaddress ldrgetprocedureaddress ldrgetprocedureaddress ldrgetprocedureaddress ldrgetprocedureaddress ldrgetprocedureaddress ldrgetprocedureaddress ldrgetprocedureaddress ldrgetprocedureaddress ldrgetprocedureaddress ldrgetprocedureaddress ldrgetprocedureaddress ldrloaddll ldrgetprocedureaddress ldrunloaddll findfirstfileexw copyfilea regcreatekeyexa regsetvalueexa regclosekey createprocessinternalw ntclose ntclose ntclose ntfreevirtualmemory ntterminateprocess ntterminateprocess ntclose ntclose ntclose ntclose ntclose ntclose ntclose ldrunloaddll ntopenkey ntqueryvaluekey ntclose ntclose ntclose ntclose ntterminateprocess\n",
      "getsystemtimeasfiletime ntallocatevirtualmemory ntfreevirtualmemory ntallocatevirtualmemory ldrgetdllhandle ldrgetprocedureaddress ldrgetprocedureaddress ldrgetprocedureaddress ldrgetprocedureaddress ldrgetdllhandle ldrgetprocedureaddress ldrgetdllhandle ldrgetprocedureaddress ldrgetdllhandle ldrgetprocedureaddress ldrgetdllhandle ldrgetprocedureaddress ldrgetdllhandle ldrgetprocedureaddress ldrgetdllhandle ldrgetprocedureaddress ldrgetdllhandle ldrgetprocedureaddress ldrgetdllhandle ldrgetprocedureaddress ldrgetdllhandle ldrgetprocedureaddress ldrgetdllhandle ldrgetprocedureaddress ldrgetdllhandle ldrgetprocedureaddress ldrgetdllhandle ldrgetprocedureaddress ldrgetdllhandle ldrgetprocedureaddress ldrgetdllhandle ldrgetprocedureaddress ldrgetdllhandle ldrgetprocedureaddress ldrgetdllhandle ldrgetprocedureaddress ldrgetdllhandle ldrgetprocedureaddress ldrgetdllhandle ldrgetprocedureaddress ldrgetdllhandle ldrgetprocedureaddress ldrgetdllhandle ldrgetprocedureaddress ldrgetdllhandle ldrgetprocedureaddress ldrgetdllhandle ldrgetprocedureaddress ldrgetdllhandle ldrgetprocedureaddress ldrgetdllhandle ldrgetprocedureaddress ldrgetdllhandle ldrgetprocedureaddress ldrgetdllhandle ldrgetprocedureaddress ldrgetprocedureaddress ntallocatevirtualmemory ntallocatevirtualmemory setunhandledexceptionfilter getsystemtimeasfiletime ntcreatemutant ntclose ntallocatevirtualmemory ldrloaddll ntallocatevirtualmemory ntallocatevirtualmemory ldrgetdllhandle ldrloaddll ldrloaddll ntallocatevirtualmemory ldrloaddll getsysteminfo ldrloaddll getsystemdirectoryw regopenkeyexa regopenkeyexa ldrloaddll __exception__ __exception__ ldrloaddll ldrgetprocedureaddress ldrloaddll ldrgetprocedureaddress ldrloaddll ldrgetprocedureaddress ldrloaddll ldrgetprocedureaddress ldrgetdllhandle ntallocatevirtualmemory ldrloaddll ntallocatevirtualmemory ntallocatevirtualmemory ntprotectvirtualmemory ntallocatevirtualmemory ldrloaddll __exception__ ntprotectvirtualmemory ntprotectvirtualmemory ntprotectvirtualmemory ldrgetdllhandle ldrloaddll ldrgetprocedureaddress ldrloaddll ldrgetprocedureaddress ldrloaddll ldrgetprocedureaddress ldrloaddll ldrgetprocedureaddress ldrloaddll ldrgetprocedureaddress ldrloaddll ldrgetprocedureaddress ldrloaddll ldrgetprocedureaddress ldrloaddll ldrgetprocedureaddress getsystemtimeasfiletime ntallocatevirtualmemory ntfreevirtualmemory ntallocatevirtualmemory ldrgetdllhandle ldrgetprocedureaddress ldrgetprocedureaddress ldrgetprocedureaddress ldrgetprocedureaddress ldrgetdllhandle ldrgetprocedureaddress ldrgetdllhandle ldrgetprocedureaddress ldrgetdllhandle ldrgetprocedureaddress ldrgetdllhandle ldrgetprocedureaddress ldrgetdllhandle ldrgetprocedureaddress ldrgetdllhandle ldrgetprocedureaddress ldrgetdllhandle ldrgetprocedureaddress ldrgetdllhandle ldrgetprocedureaddress ldrgetdllhandle ldrgetprocedureaddress ldrgetdllhandle ldrgetprocedureaddress ldrgetprocedureaddress ntallocatevirtualmemory ntallocatevirtualmemory ldrgetdllhandle ldrgetprocedureaddress setunhandledexceptionfilter ntallocatevirtualmemory ntallocatevirtualmemory ntallocatevirtualmemory getsysteminfo coinitializeex ntallocatevirtualmemory setunhandledexceptionfilter regopenkeyexa regopenkeyexa regqueryvalueexa ntclose regclosekey regopenkeyexa regopenkeyexa regqueryvalueexa ntclose regclosekey getshortpathnamew getshortpathnamew regopenkeyexa regopenkeyexa regqueryvalueexa ntclose regclosekey regopenkeyexa regopenkeyexa regqueryvalueexa ntclose regclosekey createprocessinternalw ntclose ntcreatefile getfilesize ntallocatevirtualmemory ntreadfile ntclose ntallocatevirtualmemory ntallocatevirtualmemory writeprocessmemory ntallocatevirtualmemory ntallocatevirtualmemory ntallocatevirtualmemory ntallocatevirtualmemory ldrgetdllhandle ldrgetprocedureaddress ldrgetdllhandle ldrgetprocedureaddress ldrgetdllhandle ldrgetprocedureaddress writeprocessmemory writeprocessmemory ntallocatevirtualmemory writeprocessmemory ntallocatevirtualmemory writeprocessmemory createremotethread ntclose ntfreevirtualmemory ntfreevirtualmemory ntcreatesection ntmapviewofsection ntunmapviewofsection createremotethread ntclose ntfreevirtualmemory ntclose ntclose setunhandledexceptionfilter ntfreevirtualmemory couninitialize ldrgetdllhandle ldrgetdllhandle ntterminateprocess ntterminateprocess ntclose ntclose ntclose ntclose ntclose ntclose ntclose ntclose ntclose ntclose ntclose ntclose ntclose ntclose ntclose ntunmapviewofsection ntclose ntclose ntclose ntclose ntfreevirtualmemory ntclose ntclose ntclose ldrunloaddll ntopenkey ntqueryvaluekey ntclose ntclose ntclose ntclose ntterminateprocess\n",
      "ldrgetdllhandle ldrgetprocedureaddress getsystemdirectorya copyfilea regopenkeyexa regsetvalueexa regclosekey regcreatekeyexa regclosekey ntcreatefile ntcreatefile setfilepointer ntwritefile ntclose regopenkeyexa regsetvalueexa regclosekey regopenkeyexa regsetvalueexa regclosekey regopenkeyexa regsetvalueexa regclosekey getsystemdirectorya ntcreatefile ntcreatefile regopenkeyexa regsetvalueexa regclosekey ntcreatefile createthread createthread ntcreatefile setfilepointer ntwritefile ntclose ldrloaddll ldrgetprocedureaddress __exception__ setwindowshookexa ntallocatevirtualmemory ntfreevirtualmemory ntallocatevirtualmemory ldrloaddll ldrgetprocedureaddress isdebuggerpresent getsystemmetrics ntmapviewofsection ntterminateprocess\n",
      "ldrloaddll ldrgetprocedureaddress ldrloaddll ldrgetprocedureaddress ldrgetprocedureaddress ldrgetprocedureaddress ldrgetprocedureaddress ldrgetprocedureaddress ldrgetprocedureaddress ldrgetprocedureaddress ldrgetprocedureaddress ldrgetprocedureaddress ldrgetprocedureaddress ldrgetprocedureaddress ldrgetprocedureaddress ldrgetprocedureaddress ldrgetprocedureaddress ldrgetprocedureaddress ldrgetprocedureaddress ldrgetprocedureaddress ldrgetprocedureaddress ldrgetprocedureaddress ldrgetprocedureaddress ldrgetprocedureaddress ldrgetprocedureaddress ldrgetprocedureaddress ldrgetprocedureaddress ldrgetprocedureaddress ldrgetprocedureaddress ldrgetprocedureaddress ldrgetprocedureaddress ldrgetprocedureaddress ldrgetprocedureaddress ldrgetprocedureaddress ldrgetprocedureaddress ldrgetprocedureaddress ldrgetprocedureaddress ldrgetprocedureaddress ldrgetprocedureaddress ldrgetprocedureaddress ldrgetprocedureaddress ldrgetprocedureaddress ldrgetprocedureaddress ldrgetprocedureaddress ldrloaddll ldrgetprocedureaddress ldrgetprocedureaddress ldrgetprocedureaddress ldrgetprocedureaddress ldrloaddll ldrgetprocedureaddress ldrgetprocedureaddress ldrgetprocedureaddress ldrgetprocedureaddress ldrgetprocedureaddress ldrgetprocedureaddress ldrgetprocedureaddress ldrgetprocedureaddress ldrgetprocedureaddress ldrgetprocedureaddress ldrgetprocedureaddress ldrgetprocedureaddress ldrgetprocedureaddress ldrgetprocedureaddress ldrgetprocedureaddress ldrgetprocedureaddress ldrgetprocedureaddress ldrgetprocedureaddress ldrgetprocedureaddress ldrgetprocedureaddress ldrgetprocedureaddress ldrgetprocedureaddress ldrgetprocedureaddress ldrgetprocedureaddress ldrgetprocedureaddress ldrgetprocedureaddress ldrgetprocedureaddress ldrgetprocedureaddress ldrgetprocedureaddress ldrgetprocedureaddress ldrgetprocedureaddress ldrgetprocedureaddress ldrgetprocedureaddress ldrgetprocedureaddress ldrgetprocedureaddress ldrgetprocedureaddress ldrgetprocedureaddress ldrgetprocedureaddress ldrgetprocedureaddress ldrgetprocedureaddress ldrgetprocedureaddress ldrgetprocedureaddress ldrgetprocedureaddress ldrgetprocedureaddress ldrgetprocedureaddress ldrgetprocedureaddress ldrgetprocedureaddress ldrgetprocedureaddress ldrgetprocedureaddress ldrgetprocedureaddress ldrgetprocedureaddress ldrgetprocedureaddress ldrgetprocedureaddress ldrgetprocedureaddress ldrgetprocedureaddress ldrgetprocedureaddress ldrgetprocedureaddress ldrgetprocedureaddress ldrloaddll ldrgetprocedureaddress ldrgetprocedureaddress ldrgetprocedureaddress ldrloaddll ldrgetprocedureaddress ldrgetprocedureaddress ldrgetprocedureaddress ldrloaddll ldrgetprocedureaddress ldrgetprocedureaddress ldrgetprocedureaddress ldrgetprocedureaddress ldrgetprocedureaddress ldrgetprocedureaddress ldrgetprocedureaddress ldrgetprocedureaddress ldrgetprocedureaddress ldrgetprocedureaddress ldrgetprocedureaddress ldrgetprocedureaddress ldrgetprocedureaddress ldrgetprocedureaddress ldrgetprocedureaddress ldrgetprocedureaddress ldrgetprocedureaddress ldrgetprocedureaddress ldrgetprocedureaddress ldrgetprocedureaddress ldrgetprocedureaddress ldrgetprocedureaddress ldrgetprocedureaddress ldrloaddll ldrgetprocedureaddress ldrloaddll ldrgetprocedureaddress ldrgetprocedureaddress ldrgetprocedureaddress ldrgetprocedureaddress ldrgetprocedureaddress ldrgetprocedureaddress ldrgetprocedureaddress ldrgetprocedureaddress ldrgetprocedureaddress ldrgetprocedureaddress ldrgetprocedureaddress ldrgetprocedureaddress ldrgetprocedureaddress ldrgetprocedureaddress ldrgetprocedureaddress ldrgetprocedureaddress ldrgetprocedureaddress ldrgetprocedureaddress ldrgetprocedureaddress ldrgetprocedureaddress ldrgetprocedureaddress ldrgetprocedureaddress ldrgetprocedureaddress ldrgetprocedureaddress ldrgetprocedureaddress ldrgetprocedureaddress ldrgetprocedureaddress ldrgetprocedureaddress ldrgetprocedureaddress ldrgetprocedureaddress ldrgetprocedureaddress ldrgetprocedureaddress ldrgetprocedureaddress ldrgetprocedureaddress ldrgetprocedureaddress ldrgetprocedureaddress ldrgetprocedureaddress ldrgetprocedureaddress ldrgetprocedureaddress ldrgetprocedureaddress ldrgetprocedureaddress ldrgetprocedureaddress ldrgetprocedureaddress ldrgetprocedureaddress ldrgetprocedureaddress ldrgetprocedureaddress ldrgetprocedureaddress ldrgetprocedureaddress ldrgetprocedureaddress ldrgetprocedureaddress ldrgetprocedureaddress ldrgetprocedureaddress ldrgetprocedureaddress ldrgetprocedureaddress ldrgetprocedureaddress ldrgetprocedureaddress ldrgetprocedureaddress ldrgetprocedureaddress ldrgetprocedureaddress ldrgetprocedureaddress ldrgetprocedureaddress ldrgetprocedureaddress ldrgetprocedureaddress ldrgetprocedureaddress ldrgetprocedureaddress ldrgetprocedureaddress ldrgetprocedureaddress ldrgetprocedureaddress ldrgetprocedureaddress ldrloaddll ldrgetprocedureaddress ldrgetprocedureaddress ldrgetprocedureaddress ldrgetprocedureaddress ldrgetprocedureaddress ldrgetprocedureaddress ldrgetprocedureaddress ldrgetprocedureaddress ldrgetprocedureaddress ldrgetprocedureaddress ldrgetprocedureaddress ldrgetprocedureaddress ldrloaddll ldrgetprocedureaddress ldrgetprocedureaddress ldrgetprocedureaddress ldrloaddll ldrgetprocedureaddress ldrgetprocedureaddress ldrgetprocedureaddress ldrgetprocedureaddress ldrgetprocedureaddress ldrgetprocedureaddress ldrgetprocedureaddress ldrgetprocedureaddress ldrgetprocedureaddress ldrgetprocedureaddress ldrgetprocedureaddress ldrgetprocedureaddress ldrgetprocedureaddress ldrgetprocedureaddress ldrgetprocedureaddress ldrgetprocedureaddress ldrgetprocedureaddress ldrgetprocedureaddress ldrgetprocedureaddress ldrgetprocedureaddress ldrgetprocedureaddress ldrgetprocedureaddress ldrgetprocedureaddress ldrgetprocedureaddress ldrgetprocedureaddress ldrgetprocedureaddress ldrgetprocedureaddress ldrgetprocedureaddress ldrgetprocedureaddress ldrgetprocedureaddress ldrgetprocedureaddress ldrgetprocedureaddress ldrgetprocedureaddress ldrgetprocedureaddress ldrgetprocedureaddress ldrgetprocedureaddress ldrgetprocedureaddress ldrgetprocedureaddress ldrgetprocedureaddress ldrgetprocedureaddress ldrgetprocedureaddress ldrgetprocedureaddress ldrgetprocedureaddress ldrgetprocedureaddress ldrgetprocedureaddress ldrgetprocedureaddress ldrgetprocedureaddress ldrgetprocedureaddress ldrgetprocedureaddress ldrgetprocedureaddress ldrgetprocedureaddress ldrgetprocedureaddress ldrgetprocedureaddress ldrgetprocedureaddress ldrgetprocedureaddress ldrgetprocedureaddress ldrgetprocedureaddress ldrgetprocedureaddress ldrgetprocedureaddress ldrgetprocedureaddress ldrgetprocedureaddress ldrgetprocedureaddress ldrgetprocedureaddress ldrgetprocedureaddress ldrgetprocedureaddress ldrgetprocedureaddress ldrgetprocedureaddress ldrgetprocedureaddress ldrgetprocedureaddress ldrgetprocedureaddress ldrgetprocedureaddress ldrgetprocedureaddress ldrgetprocedureaddress ldrgetprocedureaddress ldrgetprocedureaddress ldrgetprocedureaddress ldrgetprocedureaddress ldrgetprocedureaddress ldrgetprocedureaddress ldrgetprocedureaddress ldrgetprocedureaddress ldrgetprocedureaddress ldrgetprocedureaddress ldrgetprocedureaddress ldrgetprocedureaddress ldrgetprocedureaddress ldrgetprocedureaddress ldrgetprocedureaddress ldrgetprocedureaddress ldrgetprocedureaddress ldrgetprocedureaddress ldrgetprocedureaddress ldrgetprocedureaddress ldrgetprocedureaddress ldrgetprocedureaddress ldrgetprocedureaddress ldrgetprocedureaddress ldrgetprocedureaddress ldrgetprocedureaddress ldrgetprocedureaddress ldrgetprocedureaddress ldrgetprocedureaddress ldrgetprocedureaddress ldrgetprocedureaddress ldrgetprocedureaddress ldrgetprocedureaddress ldrgetprocedureaddress ldrgetprocedureaddress ldrgetprocedureaddress ldrgetprocedureaddress ldrgetprocedureaddress ldrgetprocedureaddress ldrgetprocedureaddress ldrgetprocedureaddress ldrgetprocedureaddress ldrgetprocedureaddress ldrgetprocedureaddress ldrgetprocedureaddress ldrgetprocedureaddress ldrgetprocedureaddress ldrgetprocedureaddress ldrgetprocedureaddress ldrgetprocedureaddress ldrgetprocedureaddress ldrgetprocedureaddress ldrgetprocedureaddress ldrgetprocedureaddress ldrgetprocedureaddress ldrgetprocedureaddress ldrgetprocedureaddress ldrgetprocedureaddress ldrgetprocedureaddress ldrgetprocedureaddress ldrgetprocedureaddress ldrgetprocedureaddress ldrgetprocedureaddress ldrgetprocedureaddress ldrgetprocedureaddress ldrgetprocedureaddress ldrgetprocedureaddress ldrgetprocedureaddress ldrgetprocedureaddress ldrgetprocedureaddress ldrgetprocedureaddress ldrgetprocedureaddress ldrgetprocedureaddress ldrgetprocedureaddress ldrgetprocedureaddress ldrgetprocedureaddress ldrgetprocedureaddress ldrgetprocedureaddress ldrgetprocedureaddress ldrgetprocedureaddress ldrgetprocedureaddress ldrgetprocedureaddress ldrgetprocedureaddress ldrgetprocedureaddress ldrgetprocedureaddress ldrgetprocedureaddress ldrgetprocedureaddress ldrgetprocedureaddress ldrloaddll ldrgetprocedureaddress ldrgetprocedureaddress ldrgetprocedureaddress ldrgetprocedureaddress regopenkeyexa regopenkeyexa regopenkeyexa ntopenkey ntqueryvaluekey ntclose ntopenkey ntqueryvaluekey ntclose ntclose ntqueryattributesfile ntqueryattributesfile ntqueryattributesfile ntqueryattributesfile loadstringa ntallocatevirtualmemory ntallocatevirtualmemory loadstringa loadstringa loadstringa loadstringa loadstringa loadstringa loadstringa loadstringa loadstringa loadstringa loadstringa loadstringa loadstringa loadstringa loadstringa loadstringa loadstringa loadstringa loadstringa loadstringa loadstringa loadstringa loadstringa loadstringa loadstringa loadstringa loadstringa loadstringa loadstringa loadstringa ldrgetdllhandle ldrgetprocedureaddress ldrgetdllhandle loadstringa loadstringa loadstringa loadstringa loadstringa loadstringa loadstringa loadstringa loadstringa loadstringa loadstringa loadstringa loadstringa loadstringa loadstringa loadstringa loadstringa loadstringa ldrgetprocedureaddress ldrgetprocedureaddress getsystemmetrics getsystemmetrics findresourceexw loadresource findresourceexw loadresource findresourceexw loadresource findresourceexw loadresource findresourceexw loadresource findresourceexw loadresource findresourceexw loadresource findresourceexw loadresource findresourceexw loadresource findresourceexw loadresource findresourceexw loadresource findresourceexw loadresource findresourceexw loadresource findresourceexw loadresource ldrgetprocedureaddress findresourceexw loadresource findresourceexw loadresource ntallocatevirtualmemory getsystemmetrics getsystemmetrics ntclose ntclose getsystemmetrics ntallocatevirtualmemory getsystemmetrics getsystemmetrics ldrloaddll ldrgetprocedureaddress ldrgetdllhandle findresourceexw loadresource findresourceexw loadresource drawtextexw getsystemmetrics getsystemmetrics getsystemmetrics getsystemmetrics getsystemmetrics getsystemmetrics getsystemmetrics getsystemmetrics findresourceexw loadresource getsystemmetrics getsystemmetrics drawtextexw ldrgetdllhandle findresourceexw loadresource findresourceexw loadresource findresourceexw loadresource ldrgetdllhandle ldrgetprocedureaddress ldrgetdllhandle ldrgetprocedureaddress ldrgetprocedureaddress ldrgetprocedureaddress ldrgetprocedureaddress ldrgetprocedureaddress ldrgetprocedureaddress ldrgetprocedureaddress ldrgetprocedureaddress ldrgetprocedureaddress ldrgetprocedureaddress ldrgetprocedureaddress ldrgetprocedureaddress ldrgetdllhandle ldrgetprocedureaddress getsystemmetrics getsystemmetrics findresourcea findresourcea loadresource sizeofresource ntallocatevirtualmemory ntallocatevirtualmemory ntallocatevirtualmemory ldrloaddll ldrgetprocedureaddress ldrgetprocedureaddress getsystemwindowsdirectoryw ntcreatefile ntcreatesection ntmapviewofsection ntclose ntclose getsystemmetrics getsystemmetrics ntallocatevirtualmemory getsystemmetrics getsystemmetrics getsystemmetrics getsystemmetrics findresourceexw loadresource findresourceexw loadresource getsystemmetrics getsystemmetrics getsystemmetrics getsystemmetrics getsystemmetrics getsystemmetrics ldrgetdllhandle findresourceexw loadresource findresourceexw loadresource regopenkeyexw regopenkeyexw regclosekey ldrgetprocedureaddress regopenkeyexw regopenkeyexw regclosekey getsystemmetrics ntallocatevirtualmemory getsystemmetrics getsystemmetrics getsystemmetrics getsystemmetrics getsystemmetrics getsystemmetrics getsystemmetrics getsystemmetrics getsystemmetrics ntallocatevirtualmemory findresourceexw loadresource findresourceexw loadresource getsystemmetrics getsystemmetrics getsystemmetrics drawtextexa drawtextexa drawtextexa drawtextexa drawtextexa drawtextexa drawtextexa drawtextexa drawtextexa drawtextexa drawtextexa drawtextexa drawtextexa drawtextexa drawtextexa drawtextexa drawtextexa drawtextexa drawtextexa ntdelayexecution getsystemmetrics getsystemmetrics findresourcea findresourcea loadresource sizeofresource getsystemmetrics getsystemmetrics getsystemmetrics getsystemmetrics getsystemmetrics getsystemmetrics ldrgetdllhandle findresourceexw loadresource findresourceexw loadresource drawtextexa ntdelayexecution ldrgetprocedureaddress getsystemmetrics getsystemmetrics getsystemmetrics getsystemmetrics getsystemmetrics getsystemmetrics getsystemmetrics getsystemmetrics getsystemmetrics getsystemmetrics getsystemmetrics getsystemmetrics getsystemmetrics getsystemmetrics getsystemmetrics getsystemmetrics drawtextexw getsystemmetrics getsystemmetrics getsystemmetrics getsystemmetrics getsystemmetrics getsystemmetrics getsystemmetrics getsystemmetrics getsystemmetrics getsystemmetrics getsystemmetrics getsystemmetrics ntclose ntclose regopenkeyexw getsystemdirectoryw ldrloaddll ldrgetprocedureaddress ldrgetprocedureaddress coinitializeex ldrgetprocedureaddress ldrgetprocedureaddress ntclose ntclose regopenkeyexw regqueryvalueexw regclosekey ntclose ntclose ntclose ntclose ntclose ntopenmutant ntclose ntopensection ntmapviewofsection ntunmapviewofsection ntclose regopenkeyexw regenumkeyexw regopenkeyexw regenumkeyexw regopenkeyexw regenumkeyexw regopenkeyexw regenumkeyexw regopenkeyexw regenumkeyexw regenumkeyexw regclosekey regenumkeyexw regopenkeyexw regenumkeyexw regopenkeyexw regenumkeyexw regenumkeyexw regenumkeyexw regenumkeyexw regenumkeyexw regenumkeyexw regenumkeyexw regclosekey regenumkeyexw regopenkeyexw regenumkeyexw regopenkeyexw regenumkeyexw regopenkeyexw regenumkeyexw regopenkeyexw regenumkeyexw regopenkeyexw regenumkeyexw regopenkeyexw regenumkeyexw regopenkeyexw regenumkeyexw regopenkeyexw regenumkeyexw regopenkeyexw regenumkeyexw regclosekey ntclose ntopenkey regopenkeyexw regclosekey regqueryvalueexw regqueryvalueexw regqueryvalueexw getsystemmetrics regclosekey getsystemmetrics loadstringw loadstringw loadstringw ntopensection ntmapviewofsection ntunmapviewofsection ntclose loadstringw loadstringw ntclose ntopenkey regopenkeyexw regclosekey regenumkeyexw regclosekey regopenkeyexw regqueryvalueexw regclosekey regopenkeyexw ldrgetdllhandle findresourceexw findresourceexw drawtextexa drawtextexa drawtextexa drawtextexa drawtextexa drawtextexa drawtextexa drawtextexa drawtextexa drawtextexa drawtextexa drawtextexa drawtextexa drawtextexa drawtextexa drawtextexa drawtextexa drawtextexa drawtextexa drawtextexa drawtextexa drawtextexa drawtextexa drawtextexa getcursorpos getcursorpos getcursorpos getcursorpos getcursorpos getcursorpos getcursorpos getcursorpos getcursorpos getcursorpos getcursorpos getcursorpos getcursorpos getcursorpos getcursorpos getcursorpos getcursorpos getcursorpos getcursorpos getcursorpos getcursorpos getcursorpos getcursorpos getcursorpos getcursorpos getcursorpos getforegroundwindow getcursorpos getforegroundwindow getkeystate getcursorpos getforegroundwindow getcursorpos getforegroundwindow getcursorpos getforegroundwindow getcursorpos getforegroundwindow getcursorpos getcursorpos getcursorpos getcursorpos getcursorpos getcursorpos getcursorpos getcursorpos getforegroundwindow getcursorpos getforegroundwindow getkeystate getcursorpos getforegroundwindow getcursorpos getforegroundwindow getcursorpos getforegroundwindow getcursorpos getforegroundwindow getcursorpos getforegroundwindow getcursorpos getcursorpos getcursorpos getcursorpos getcursorpos getcursorpos getcursorpos getcursorpos getcursorpos getcursorpos getcursorpos getcursorpos getcursorpos getcursorpos getcursorpos getcursorpos getcursorpos getcursorpos getcursorpos getcursorpos getcursorpos getcursorpos getcursorpos getcursorpos getforegroundwindow getcursorpos getforegroundwindow getkeystate getcursorpos getforegroundwindow getcursorpos getforegroundwindow getcursorpos getforegroundwindow getcursorpos getforegroundwindow getcursorpos getforegroundwindow getcursorpos getcursorpos getcursorpos getcursorpos getcursorpos getcursorpos getcursorpos getcursorpos getcursorpos getcursorpos getcursorpos getcursorpos getcursorpos getcursorpos getcursorpos getcursorpos getcursorpos getcursorpos getcursorpos getcursorpos getcursorpos getcursorpos getcursorpos getcursorpos getcursorpos getcursorpos getcursorpos getcursorpos getcursorpos getcursorpos getcursorpos getcursorpos getcursorpos getcursorpos getcursorpos getcursorpos getcursorpos getcursorpos getcursorpos getcursorpos getcursorpos getcursorpos getcursorpos getcursorpos getcursorpos getcursorpos getcursorpos getcursorpos getcursorpos getcursorpos getcursorpos getcursorpos getcursorpos getcursorpos getcursorpos getcursorpos getcursorpos getcursorpos getcursorpos getcursorpos getcursorpos getcursorpos getcursorpos getcursorpos getcursorpos getcursorpos getcursorpos getcursorpos getcursorpos getcursorpos getcursorpos getcursorpos getcursorpos getcursorpos getcursorpos getcursorpos getcursorpos getcursorpos getcursorpos getcursorpos getcursorpos getcursorpos getcursorpos getcursorpos getcursorpos getcursorpos getcursorpos getcursorpos getcursorpos getcursorpos getcursorpos getcursorpos getcursorpos getcursorpos getcursorpos getcursorpos getcursorpos getcursorpos getcursorpos getcursorpos getcursorpos getcursorpos getcursorpos getcursorpos getcursorpos getcursorpos getcursorpos getcursorpos getcursorpos getcursorpos getcursorpos getcursorpos getcursorpos getcursorpos getcursorpos getcursorpos getcursorpos getcursorpos getcursorpos getcursorpos\n",
      "ldrloaddll ldrgetprocedureaddress ldrgetprocedureaddress ldrgetprocedureaddress ldrgetprocedureaddress ldrgetprocedureaddress ldrgetprocedureaddress ldrgetprocedureaddress ldrgetprocedureaddress ldrgetprocedureaddress ldrgetprocedureaddress ldrgetprocedureaddress ldrgetprocedureaddress ldrgetprocedureaddress ldrgetprocedureaddress ldrgetprocedureaddress ldrgetprocedureaddress ldrgetprocedureaddress ldrgetprocedureaddress ldrgetprocedureaddress ldrgetprocedureaddress ldrgetprocedureaddress ldrgetprocedureaddress ldrgetprocedureaddress ldrgetprocedureaddress ldrgetprocedureaddress ldrgetprocedureaddress ldrgetprocedureaddress ldrgetprocedureaddress ldrgetprocedureaddress ldrgetprocedureaddress ldrgetprocedureaddress ldrgetprocedureaddress ldrgetprocedureaddress ldrgetprocedureaddress ldrgetprocedureaddress ldrgetprocedureaddress ldrloaddll ldrgetprocedureaddress ldrgetprocedureaddress ldrgetprocedureaddress ldrgetprocedureaddress ldrgetprocedureaddress ldrgetprocedureaddress ldrgetprocedureaddress ldrgetprocedureaddress ldrgetprocedureaddress ldrgetprocedureaddress ldrgetprocedureaddress ldrloaddll ldrgetprocedureaddress ldrloaddll ldrgetprocedureaddress ldrgetprocedureaddress ldrgetprocedureaddress ldrgetprocedureaddress ldrgetprocedureaddress ldrgetprocedureaddress ldrgetprocedureaddress ldrgetprocedureaddress ldrgetprocedureaddress ldrgetprocedureaddress ldrgetprocedureaddress ldrgetprocedureaddress ldrgetprocedureaddress ldrgetprocedureaddress ldrgetprocedureaddress ldrgetprocedureaddress ldrloaddll ldrgetprocedureaddress ldrloaddll ldrgetprocedureaddress ldrgetprocedureaddress ldrgetprocedureaddress ldrgetprocedureaddress ldrgetprocedureaddress ldrgetprocedureaddress ldrgetprocedureaddress ldrgetprocedureaddress ldrgetprocedureaddress ldrgetprocedureaddress ldrgetprocedureaddress ldrgetprocedureaddress ldrgetprocedureaddress ldrloaddll ldrgetprocedureaddress ldrgetprocedureaddress ldrgetprocedureaddress ldrgetprocedureaddress ldrgetprocedureaddress ldrgetprocedureaddress ldrgetprocedureaddress ldrgetprocedureaddress ldrgetprocedureaddress ldrgetprocedureaddress ldrgetprocedureaddress ldrgetprocedureaddress ldrgetprocedureaddress ldrgetprocedureaddress wsastartup ntcreatemutant regopenkeyexa regdeletekeya regclosekey regopenkeyexa regdeletekeya regclosekey regopenkeyexa regdeletekeya regclosekey regopenkeyexa regdeletekeya regclosekey regopenkeyexa regdeletekeya regclosekey regopenkeyexa regdeletekeya regclosekey regopenkeyexa regdeletekeya regclosekey copyfilea regopenkeyexa regsetvalueexa regclosekey ntcreatefile ldrgetdllhandle findresourceexw findresourceexw ntallocatevirtualmemory ntfreevirtualmemory ntallocatevirtualmemory ldrloaddll ldrgetprocedureaddress isdebuggerpresent getsystemmetrics ntmapviewofsection ldrgetdllhandle ldrgetprocedureaddress ntallocatevirtualmemory ntallocatevirtualmemory ntallocatevirtualmemory getsystemmetrics getsystemmetrics ntclose ntclose getsystemmetrics ntallocatevirtualmemory getsystemmetrics getsystemmetrics ldrloaddll ldrgetprocedureaddress createthread ldrloaddll ldrgetprocedureaddress ldrgetprocedureaddress ldrgetprocedureaddress ldrgetprocedureaddress ntallocatevirtualmemory ntallocatevirtualmemory ntquerysysteminformation ntopensection ntopensection ntfreevirtualmemory ntfreevirtualmemory regopenkeyexa regqueryvalueexa regclosekey gethostbyname ntdelayexecution gethostbyname ntdelayexecution gethostbyname ntduplicateobject ntclose ntdelayexecution gethostbyname ntdelayexecution\n",
      "ntprotectvirtualmemory ntprotectvirtualmemory ntprotectvirtualmemory ldrloaddll ldrloaddll ldrloaddll ldrloaddll ldrloaddll ldrloaddll ldrloaddll ntprotectvirtualmemory ntprotectvirtualmemory ntprotectvirtualmemory seterrormode ldrgetdllhandle ldrgetdllhandle ldrunloaddll getsystemdirectorya getsystemdirectorya ntclose ntopenkey ntqueryvaluekey ntclose ntopenkey ntqueryvaluekey ntclose ldrloaddll ldrgetprocedureaddress ldrgetprocedureaddress getsystemwindowsdirectoryw ntcreatefile ntcreatesection ntmapviewofsection ntclose ntclose copyfilea getshortpathnamew ntdelayexecution ntclose ntclose createprocessinternalw ntresumethread ntterminateprocess ntterminateprocess ntclose ntclose ntclose ntclose ntclose ntclose ntclose ntclose ldrunloaddll ntopenkey ntqueryvaluekey ntclose ntclose ntclose ntclose ntterminateprocess\n",
      "ldrloaddll ldrgetprocedureaddress ldrgetprocedureaddress ldrgetprocedureaddress ldrgetprocedureaddress ldrgetdllhandle ldrgetprocedureaddress ldrgetprocedureaddress ntallocatevirtualmemory ntfreevirtualmemory ntallocatevirtualmemory ntfreevirtualmemory ntallocatevirtualmemory ntfreevirtualmemory ldrgetdllhandle ldrgetdllhandle getsystemtimeasfiletime getsysteminfo getsysteminfo ldrloaddll ldrgetprocedureaddress ldrgetprocedureaddress ldrgetprocedureaddress ldrgetprocedureaddress ldrgetprocedureaddress ldrgetprocedureaddress ldrgetprocedureaddress ldrgetprocedureaddress ldrgetprocedureaddress ldrgetprocedureaddress ldrgetprocedureaddress ldrgetprocedureaddress ldrgetprocedureaddress ldrgetprocedureaddress ldrgetprocedureaddress ldrgetprocedureaddress ldrgetdllhandle ldrgetprocedureaddress ldrgetprocedureaddress ldrgetprocedureaddress ldrgetprocedureaddress ldrgetprocedureaddress ldrgetprocedureaddress ldrgetprocedureaddress ldrgetprocedureaddress ldrgetprocedureaddress ldrgetprocedureaddress ldrgetprocedureaddress ldrgetprocedureaddress ldrgetprocedureaddress ldrgetprocedureaddress ldrgetprocedureaddress ldrgetprocedureaddress ldrgetprocedureaddress ldrgetprocedureaddress ldrgetprocedureaddress ldrgetprocedureaddress ldrgetprocedureaddress ldrgetprocedureaddress ldrgetprocedureaddress ldrgetprocedureaddress ldrgetprocedureaddress ldrgetprocedureaddress ldrgetprocedureaddress ldrgetprocedureaddress ldrgetprocedureaddress ldrgetprocedureaddress ldrgetprocedureaddress ldrgetprocedureaddress ldrgetprocedureaddress ldrgetprocedureaddress ldrgetprocedureaddress ldrgetprocedureaddress ldrgetprocedureaddress ldrgetprocedureaddress ldrgetprocedureaddress ldrgetprocedureaddress ldrgetprocedureaddress ldrgetprocedureaddress ldrgetprocedureaddress ldrgetprocedureaddress ldrgetprocedureaddress ldrgetprocedureaddress ldrgetprocedureaddress ldrgetprocedureaddress ldrgetprocedureaddress ldrgetprocedureaddress ldrgetprocedureaddress ldrgetprocedureaddress ldrgetprocedureaddress ldrgetprocedureaddress ldrgetprocedureaddress ldrgetprocedureaddress ldrgetprocedureaddress ldrgetprocedureaddress ldrgetprocedureaddress ldrgetprocedureaddress ldrgetprocedureaddress ldrgetprocedureaddress ldrgetprocedureaddress ldrgetprocedureaddress ldrgetprocedureaddress ldrgetprocedureaddress ldrgetprocedureaddress ldrgetprocedureaddress ldrgetprocedureaddress ldrgetprocedureaddress ldrgetprocedureaddress ldrgetprocedureaddress ldrgetprocedureaddress ldrgetprocedureaddress ldrgetprocedureaddress ldrgetprocedureaddress ldrgetprocedureaddress ldrgetprocedureaddress ldrgetprocedureaddress ldrgetprocedureaddress ldrgetprocedureaddress ldrgetprocedureaddress ldrgetprocedureaddress ldrgetprocedureaddress ldrgetprocedureaddress ldrgetprocedureaddress ldrgetprocedureaddress ldrgetprocedureaddress ldrgetprocedureaddress ldrgetprocedureaddress ldrgetprocedureaddress ldrgetprocedureaddress ldrgetprocedureaddress ldrgetprocedureaddress ldrgetprocedureaddress ldrgetprocedureaddress ldrgetprocedureaddress ldrgetprocedureaddress ldrgetprocedureaddress ldrgetprocedureaddress ldrgetprocedureaddress ldrgetprocedureaddress ldrgetprocedureaddress ldrgetprocedureaddress ldrgetprocedureaddress ldrgetprocedureaddress ldrgetprocedureaddress ldrgetprocedureaddress ldrgetprocedureaddress ldrgetprocedureaddress ldrgetprocedureaddress ntallocatevirtualmemory ntfreevirtualmemory ntallocatevirtualmemory getfiletype getfiletype getfiletype ntallocatevirtualmemory ldrgetdllhandle ldrgetprocedureaddress ldrgetdllhandle ldrgetprocedureaddress ldrgetprocedureaddress ldrgetprocedureaddress ldrgetprocedureaddress ldrgetprocedureaddress ldrgetprocedureaddress ldrgetprocedureaddress ldrgetprocedureaddress ldrgetprocedureaddress ldrgetprocedureaddress ldrgetprocedureaddress ldrgetprocedureaddress ntopenkey ntqueryvaluekey ntqueryvaluekey ntclose ntcreatemutant getsystemtimeasfiletime ntopenkey ntopenkeyex ntquerysysteminformation ntprotectvirtualmemory ntprotectvirtualmemory ntprotectvirtualmemory getsystemdirectoryw ldrgetdllhandle ldrgetdllhandle ldrloaddll getsystemdirectoryw ldrgetdllhandle ntopenkey ntqueryvaluekey ntclose ldrgetdllhandle ldrgetprocedureaddress ldrgetprocedureaddress ldrgetprocedureaddress ldrgetprocedureaddress ntclose ntclose ntopenkeyex ntqueryvaluekey ntclose ldrloaddll ldrgetprocedureaddress ldrgetprocedureaddress ldrgetprocedureaddress ldrgetprocedureaddress ldrgetprocedureaddress ldrgetprocedureaddress ldrgetprocedureaddress ldrgetprocedureaddress ldrgetprocedureaddress ldrgetprocedureaddress ldrgetprocedureaddress ldrgetprocedureaddress ldrgetdllhandle ldrgetprocedureaddress ldrgetprocedureaddress ldrgetprocedureaddress ldrgetprocedureaddress ldrgetprocedureaddress ldrgetprocedureaddress ldrgetprocedureaddress ldrgetprocedureaddress ldrgetprocedureaddress ldrgetprocedureaddress ldrgetprocedureaddress ldrgetprocedureaddress ldrgetprocedureaddress ldrgetprocedureaddress ldrgetprocedureaddress ldrgetprocedureaddress ldrgetprocedureaddress ldrgetprocedureaddress ldrgetdllhandle ldrgetprocedureaddress ldrgetprocedureaddress ldrgetprocedureaddress ldrgetprocedureaddress ldrgetprocedureaddress ldrgetprocedureaddress ldrgetprocedureaddress ldrgetprocedureaddress ldrgetprocedureaddress ldrloaddll ldrgetprocedureaddress ldrgetprocedureaddress ldrgetprocedureaddress ldrgetprocedureaddress ldrgetprocedureaddress ldrgetprocedureaddress ldrgetprocedureaddress ldrgetprocedureaddress ldrgetprocedureaddress ldrgetprocedureaddress ldrgetprocedureaddress ldrgetprocedureaddress ldrgetprocedureaddress ldrgetprocedureaddress ldrgetprocedureaddress ldrgetprocedureaddress ldrgetprocedureaddress ldrgetprocedureaddress ldrgetprocedureaddress ldrgetprocedureaddress ldrgetprocedureaddress ldrgetprocedureaddress ldrgetprocedureaddress ldrgetprocedureaddress ldrgetprocedureaddress ldrgetprocedureaddress ldrgetprocedureaddress ldrgetprocedureaddress ldrgetprocedureaddress ldrgetprocedureaddress ldrgetprocedureaddress getsystemtimeasfiletime ntopenkeyex ntqueryvaluekey ntclose regopenkeyexa regqueryvalueexa regclosekey ntopenkeyex ntqueryvaluekey ntclose ntclose ntclose ldrloaddll ldrgetprocedureaddress ldrgetprocedureaddress ldrgetprocedureaddress ldrgetprocedureaddress ldrgetprocedureaddress ldrgetprocedureaddress ldrgetprocedureaddress ldrgetprocedureaddress ldrgetprocedureaddress ldrgetprocedureaddress internetopena ldrloaddll ldrgetprocedureaddress ldrgetprocedureaddress ldrgetprocedureaddress ldrloaddll ldrgetprocedureaddress ldrgetprocedureaddress ldrgetprocedureaddress ldrgetprocedureaddress ldrgetprocedureaddress ldrgetprocedureaddress ldrgetprocedureaddress ldrgetprocedureaddress ldrgetprocedureaddress ldrgetprocedureaddress ldrgetprocedureaddress ldrloaddll ldrgetprocedureaddress ldrgetprocedureaddress ldrloaddll ldrgetprocedureaddress ldrgetprocedureaddress ntopenkeyex ldrloaddll ldrgetprocedureaddress ldrgetprocedureaddress ldrgetprocedureaddress ldrgetprocedureaddress ldrloaddll ldrgetprocedureaddress ldrgetprocedureaddress regopenkeyexa ntallocatevirtualmemory ntfreevirtualmemory ntallocatevirtualmemory ntallocatevirtualmemory ntallocatevirtualmemory ldrgetdllhandle ldrgetprocedureaddress ldrgetprocedureaddress getsysteminfo getsysteminfo getsysteminfo ldrloaddll loadstringw ntallocatevirtualmemory regopenkeyexw regopenkeyexw regopenkeyexw regopenkeyexw gettemppathw ldrloaddll ldrgetprocedureaddress ldrgetprocedureaddress ldrgetprocedureaddress ldrgetprocedureaddress ldrgetprocedureaddress ldrgetprocedureaddress ntallocatevirtualmemory ntfreevirtualmemory ntallocatevirtualmemory ldrgetdllhandle ldrgetprocedureaddress ldrgetprocedureaddress ldrgetprocedureaddress ldrgetprocedureaddress ldrgetdllhandle ldrgetprocedureaddress ldrgetdllhandle ldrgetprocedureaddress ldrgetdllhandle ldrgetprocedureaddress ldrgetdllhandle ldrgetprocedureaddress ldrgetdllhandle ldrgetprocedureaddress ldrgetdllhandle ldrgetprocedureaddress ldrgetdllhandle ldrgetprocedureaddress ldrgetdllhandle ldrgetprocedureaddress ldrgetdllhandle ldrgetprocedureaddress ldrgetdllhandle ldrgetprocedureaddress ldrgetdllhandle ldrgetprocedureaddress ldrgetdllhandle ldrgetprocedureaddress ldrgetdllhandle ldrgetprocedureaddress ldrgetdllhandle ldrgetprocedureaddress ldrgetdllhandle ldrgetprocedureaddress ldrgetdllhandle ldrgetprocedureaddress ldrgetdllhandle ldrgetprocedureaddress ldrgetdllhandle ldrgetprocedureaddress ldrgetdllhandle ldrgetprocedureaddress ldrgetdllhandle ldrgetprocedureaddress ldrgetdllhandle ldrgetprocedureaddress ldrgetdllhandle ldrgetprocedureaddress ldrgetdllhandle ldrgetprocedureaddress ldrgetdllhandle ldrgetprocedureaddress ldrgetdllhandle ldrgetprocedureaddress ldrgetdllhandle ldrgetprocedureaddress ldrgetprocedureaddress ntallocatevirtualmemory ntallocatevirtualmemory ldrgetdllhandle ldrgetdllhandle ldrgetprocedureaddress ntopenprocess ntclose getsystemmetrics getsystemmetrics getsystemmetrics getsystemmetrics getsystemmetrics getsystemmetrics ntclose ntopenkey getsystemmetrics getsystemmetrics getsystemmetrics getsystemmetrics getsystemmetrics getsystemmetrics getsystemmetrics getsystemmetrics getsystemmetrics getsystemmetrics regclosekey getsystemmetrics getsystemmetrics getsystemmetrics ldrloaddll ldrgetprocedureaddress ldrgetprocedureaddress ldrgetprocedureaddress ldrgetprocedureaddress ldrgetprocedureaddress ldrgetprocedureaddress ldrgetprocedureaddress ldrgetprocedureaddress ldrgetprocedureaddress ldrgetprocedureaddress ldrgetprocedureaddress loadstringw regopenkeyexw loadstringw ldrloaddll ldrgetprocedureaddress ldrgetprocedureaddress seterrormode ntcreatemutant wsastartup getsystemdirectorya getfileattributesw copyfilea ntdelayexecution copyfilea searchpathw ntcreatefile ntqueryinformationfile ntclose ntcreatefile setfileattributesw ntopenprocess createprocessinternalw regcreatekeyexa regsetvalueexa regclosekey regcreatekeyexa regsetvalueexa regclosekey regcreatekeyexa regsetvalueexa regclosekey createthread createthread createthread regopenkeyexa regsetvalueexa regclosekey regopenkeyexa regcreatekeyexa regsetvalueexa regclosekey regcreatekeyexa regsetvalueexa regclosekey regcreatekeyexa regsetvalueexa regclosekey ldrgetprocedureaddress ldrloaddll ldrgetprocedureaddress ldrgetprocedureaddress ldrgetprocedureaddress ldrgetprocedureaddress ldrgetprocedureaddress ldrgetprocedureaddress ldrgetprocedureaddress ldrgetprocedureaddress ldrgetprocedureaddress ldrgetprocedureaddress ldrgetprocedureaddress ldrgetprocedureaddress ldrgetprocedureaddress ldrgetprocedureaddress ldrgetprocedureaddress ldrgetprocedureaddress ldrgetprocedureaddress ldrgetprocedureaddress ldrgetprocedureaddress ldrgetprocedureaddress ldrgetprocedureaddress ldrgetprocedureaddress ldrgetprocedureaddress ldrgetprocedureaddress ldrgetprocedureaddress ldrgetprocedureaddress ldrgetprocedureaddress ldrgetprocedureaddress ldrgetprocedureaddress ldrgetprocedureaddress ldrgetprocedureaddress ldrgetprocedureaddress ldrgetprocedureaddress ldrgetprocedureaddress ldrgetprocedureaddress ldrgetprocedureaddress ldrgetprocedureaddress ldrgetprocedureaddress ldrgetprocedureaddress ldrgetprocedureaddress ldrgetprocedureaddress ldrgetprocedureaddress ldrgetprocedureaddress ldrgetprocedureaddress ldrgetprocedureaddress ldrgetprocedureaddress ldrgetprocedureaddress ldrgetprocedureaddress ldrgetprocedureaddress ldrgetprocedureaddress ldrgetprocedureaddress ldrgetprocedureaddress ldrgetprocedureaddress ldrgetprocedureaddress ldrgetprocedureaddress ldrgetprocedureaddress ldrgetprocedureaddress ldrgetprocedureaddress ldrgetprocedureaddress ldrgetprocedureaddress ldrgetprocedureaddress ldrgetprocedureaddress ldrgetprocedureaddress ldrgetprocedureaddress ldrgetprocedureaddress ldrgetprocedureaddress ldrgetprocedureaddress ldrgetprocedureaddress ldrgetprocedureaddress ldrgetprocedureaddress ldrgetprocedureaddress ldrgetprocedureaddress ldrgetprocedureaddress ldrgetprocedureaddress ldrgetprocedureaddress ldrgetprocedureaddress ldrgetprocedureaddress ldrgetprocedureaddress ldrgetprocedureaddress ldrgetprocedureaddress ldrgetprocedureaddress ldrgetprocedureaddress ldrgetprocedureaddress ldrgetprocedureaddress ldrgetprocedureaddress ldrgetprocedureaddress ldrgetprocedureaddress ldrgetprocedureaddress ldrgetprocedureaddress ldrgetprocedureaddress ldrgetprocedureaddress ldrgetprocedureaddress ldrgetprocedureaddress ldrgetprocedureaddress ldrgetprocedureaddress ldrgetprocedureaddress ldrgetprocedureaddress ldrgetprocedureaddress ldrgetprocedureaddress ldrgetprocedureaddress ldrgetprocedureaddress ldrgetprocedureaddress ldrgetprocedureaddress ldrgetprocedureaddress ldrgetprocedureaddress ldrgetprocedureaddress ldrgetprocedureaddress ldrgetprocedureaddress ldrgetprocedureaddress ldrgetprocedureaddress ldrgetprocedureaddress readprocessmemory readprocessmemory readprocessmemory readprocessmemory readprocessmemory ldrloaddll ldrgetprocedureaddress ntopenkeyex ntcreatekey ntclose ntcreatekey ntsetvaluekey ntsetvaluekey ntsetvaluekey ntsetvaluekey ntsetvaluekey ntsetvaluekey ntqueryvaluekey ntqueryvaluekey ntqueryvaluekey ntqueryvaluekey ntqueryvaluekey ntqueryvaluekey ntqueryvaluekey ntqueryvaluekey ntqueryvaluekey ntqueryvaluekey ntqueryvaluekey ntqueryvaluekey ntqueryvaluekey ntqueryvaluekey ntqueryvaluekey ntqueryvaluekey ntqueryvaluekey ntqueryvaluekey ntqueryvaluekey ntqueryvaluekey ntqueryvaluekey ldrgetprocedureaddress ldrgetdllhandle createthread ntqueryvaluekey ntqueryvaluekey ntqueryvaluekey ntqueryvaluekey ntqueryvaluekey ntqueryvaluekey ntqueryvaluekey ntqueryvaluekey ntqueryvaluekey ntqueryvaluekey ntqueryvaluekey ntqueryvaluekey ntqueryvaluekey ntqueryvaluekey ldrloaddll ldrgetprocedureaddress ntclose ntduplicateobject ldrgetprocedureaddress ntopenkeyex ntqueryvaluekey ntclose ldrgetprocedureaddress ldrloaddll ldrgetprocedureaddress ldrgetprocedureaddress ntallocatevirtualmemory ntallocatevirtualmemory lookupprivilegevaluew ntclose ntclose ntduplicateobject ldrunloaddll createtoolhelp32snapshot process32firstw process32nextw process32nextw process32nextw process32nextw process32nextw process32nextw process32nextw process32nextw process32nextw process32nextw process32nextw process32nextw process32nextw process32nextw process32nextw process32nextw process32nextw process32nextw process32nextw process32nextw process32nextw process32nextw process32nextw process32nextw process32nextw process32nextw process32nextw process32nextw process32nextw process32nextw process32nextw process32nextw process32nextw process32nextw process32nextw process32nextw process32nextw process32nextw process32nextw process32nextw ntclose internetgetconnectedstate lookupprivilegevaluew ntclose ntdelayexecution regcreatekeyexa regsetvalueexa regclosekey regcreatekeyexa regsetvalueexa regclosekey regcreatekeyexa regsetvalueexa regclosekey netshareenum socket connect closesocket ldrloaddll ldrgetprocedureaddress ldrgetprocedureaddress ldrgetprocedureaddress ldrgetprocedureaddress ldrgetprocedureaddress uuidcreate ntopenthread ldrunloaddll ldrgetprocedureaddress ntduplicateobject ldrunloaddll ntclose ntopenthread ldrunloaddll ntdelayexecution regcreatekeyexa regsetvalueexa regclosekey regcreatekeyexa regsetvalueexa regclosekey regcreatekeyexa regsetvalueexa regclosekey ntdelayexecution regcreatekeyexa regsetvalueexa regclosekey regcreatekeyexa regsetvalueexa regclosekey regcreatekeyexa regsetvalueexa regclosekey ntdelayexecution regcreatekeyexa regsetvalueexa regclosekey regcreatekeyexa regsetvalueexa regclosekey regcreatekeyexa regsetvalueexa regclosekey ntdelayexecution regcreatekeyexa regsetvalueexa regclosekey regcreatekeyexa regsetvalueexa regclosekey regcreatekeyexa regsetvalueexa regclosekey ntdelayexecution regcreatekeyexa regsetvalueexa regclosekey regcreatekeyexa regsetvalueexa regclosekey regcreatekeyexa regsetvalueexa regclosekey ntdelayexecution regcreatekeyexa regsetvalueexa regclosekey regcreatekeyexa regsetvalueexa regclosekey regcreatekeyexa regsetvalueexa regclosekey ntdelayexecution regcreatekeyexa regsetvalueexa regclosekey regcreatekeyexa regsetvalueexa regclosekey regcreatekeyexa regsetvalueexa regclosekey ntdelayexecution regcreatekeyexa regsetvalueexa regclosekey regcreatekeyexa regsetvalueexa regclosekey regcreatekeyexa regsetvalueexa regclosekey ntdelayexecution regcreatekeyexa regsetvalueexa regclosekey regcreatekeyexa regsetvalueexa regclosekey regcreatekeyexa regsetvalueexa regclosekey ntdelayexecution regcreatekeyexa regsetvalueexa regclosekey regcreatekeyexa regsetvalueexa regclosekey regcreatekeyexa regsetvalueexa regclosekey ntdelayexecution regcreatekeyexa regsetvalueexa regclosekey regcreatekeyexa regsetvalueexa regclosekey regcreatekeyexa regsetvalueexa regclosekey ntdelayexecution regcreatekeyexa regsetvalueexa regclosekey regcreatekeyexa regsetvalueexa regclosekey regcreatekeyexa regsetvalueexa regclosekey ntdelayexecution regcreatekeyexa regsetvalueexa regclosekey regcreatekeyexa regsetvalueexa regclosekey regcreatekeyexa regsetvalueexa regclosekey ntdelayexecution regcreatekeyexa regsetvalueexa regclosekey regcreatekeyexa regsetvalueexa regclosekey regcreatekeyexa regsetvalueexa regclosekey ntdelayexecution regcreatekeyexa regsetvalueexa regclosekey regcreatekeyexa regsetvalueexa regclosekey regcreatekeyexa regsetvalueexa regclosekey ntdelayexecution regcreatekeyexa regsetvalueexa regclosekey regcreatekeyexa regsetvalueexa regclosekey regcreatekeyexa regsetvalueexa regclosekey ntdelayexecution socket connect closesocket ntdelayexecution regcreatekeyexa regsetvalueexa regclosekey regcreatekeyexa regsetvalueexa regclosekey regcreatekeyexa regsetvalueexa regclosekey ntdelayexecution regcreatekeyexa regsetvalueexa regclosekey regcreatekeyexa regsetvalueexa regclosekey regcreatekeyexa regsetvalueexa regclosekey ntdelayexecution regcreatekeyexa regsetvalueexa regclosekey regcreatekeyexa regsetvalueexa regclosekey regcreatekeyexa regsetvalueexa regclosekey ntdelayexecution regcreatekeyexa regsetvalueexa regclosekey regcreatekeyexa regsetvalueexa regclosekey regcreatekeyexa regsetvalueexa regclosekey ntdelayexecution regcreatekeyexa regsetvalueexa regclosekey regcreatekeyexa regsetvalueexa regclosekey regcreatekeyexa regsetvalueexa regclosekey ntdelayexecution regcreatekeyexa regsetvalueexa regclosekey regcreatekeyexa regsetvalueexa regclosekey regcreatekeyexa regsetvalueexa regclosekey ntdelayexecution regcreatekeyexa regsetvalueexa regclosekey regcreatekeyexa regsetvalueexa regclosekey regcreatekeyexa regsetvalueexa regclosekey ntdelayexecution regcreatekeyexa regsetvalueexa regclosekey regcreatekeyexa regsetvalueexa regclosekey regcreatekeyexa regsetvalueexa regclosekey ntdelayexecution regcreatekeyexa regsetvalueexa regclosekey regcreatekeyexa regsetvalueexa regclosekey regcreatekeyexa regsetvalueexa regclosekey ntdelayexecution regcreatekeyexa regsetvalueexa regclosekey regcreatekeyexa regsetvalueexa regclosekey regcreatekeyexa regsetvalueexa regclosekey ntdelayexecution regcreatekeyexa regsetvalueexa regclosekey regcreatekeyexa regsetvalueexa regclosekey regcreatekeyexa regsetvalueexa regclosekey ntdelayexecution regcreatekeyexa regsetvalueexa regclosekey regcreatekeyexa regsetvalueexa regclosekey regcreatekeyexa regsetvalueexa regclosekey ntdelayexecution regcreatekeyexa regsetvalueexa regclosekey regcreatekeyexa regsetvalueexa regclosekey regcreatekeyexa regsetvalueexa regclosekey ntdelayexecution regcreatekeyexa regsetvalueexa regclosekey regcreatekeyexa regsetvalueexa regclosekey regcreatekeyexa regsetvalueexa regclosekey ntdelayexecution regcreatekeyexa regsetvalueexa regclosekey regcreatekeyexa regsetvalueexa regclosekey regcreatekeyexa regsetvalueexa regclosekey ntdelayexecution regcreatekeyexa regsetvalueexa regclosekey regcreatekeyexa regsetvalueexa regclosekey regcreatekeyexa regsetvalueexa regclosekey ntdelayexecution socket connect closesocket ntdelayexecution regcreatekeyexa regsetvalueexa regclosekey regcreatekeyexa regsetvalueexa regclosekey regcreatekeyexa regsetvalueexa regclosekey ntdelayexecution regcreatekeyexa regsetvalueexa regclosekey regcreatekeyexa regsetvalueexa regclosekey regcreatekeyexa regsetvalueexa regclosekey ntdelayexecution regcreatekeyexa regsetvalueexa regclosekey regcreatekeyexa regsetvalueexa regclosekey regcreatekeyexa regsetvalueexa regclosekey ntdelayexecution regcreatekeyexa regsetvalueexa regclosekey regcreatekeyexa regsetvalueexa regclosekey regcreatekeyexa regsetvalueexa regclosekey ntdelayexecution regcreatekeyexa regsetvalueexa regclosekey regcreatekeyexa regsetvalueexa regclosekey regcreatekeyexa regsetvalueexa regclosekey ntdelayexecution regcreatekeyexa regsetvalueexa regclosekey regcreatekeyexa regsetvalueexa regclosekey regcreatekeyexa regsetvalueexa regclosekey ntdelayexecution regcreatekeyexa regsetvalueexa regclosekey regcreatekeyexa regsetvalueexa regclosekey regcreatekeyexa regsetvalueexa regclosekey ntdelayexecution regcreatekeyexa regsetvalueexa regclosekey regcreatekeyexa regsetvalueexa regclosekey regcreatekeyexa regsetvalueexa regclosekey ntdelayexecution regcreatekeyexa regsetvalueexa regclosekey regcreatekeyexa regsetvalueexa regclosekey regcreatekeyexa regsetvalueexa regclosekey ntdelayexecution regcreatekeyexa regsetvalueexa regclosekey regcreatekeyexa regsetvalueexa regclosekey regcreatekeyexa regsetvalueexa regclosekey ntdelayexecution regcreatekeyexa regsetvalueexa regclosekey regcreatekeyexa regsetvalueexa regclosekey regcreatekeyexa regsetvalueexa regclosekey ntdelayexecution regcreatekeyexa regsetvalueexa regclosekey regcreatekeyexa regsetvalueexa regclosekey regcreatekeyexa regsetvalueexa regclosekey ntdelayexecution regcreatekeyexa regsetvalueexa regclosekey regcreatekeyexa regsetvalueexa regclosekey regcreatekeyexa regsetvalueexa regclosekey ntdelayexecution regcreatekeyexa regsetvalueexa regclosekey regcreatekeyexa regsetvalueexa regclosekey regcreatekeyexa regsetvalueexa regclosekey ntdelayexecution regcreatekeyexa regsetvalueexa regclosekey regcreatekeyexa regsetvalueexa regclosekey regcreatekeyexa regsetvalueexa regclosekey ntdelayexecution regcreatekeyexa regsetvalueexa regclosekey regcreatekeyexa regsetvalueexa regclosekey regcreatekeyexa regsetvalueexa regclosekey ntdelayexecution socket connect closesocket ntdelayexecution regcreatekeyexa regsetvalueexa regclosekey regcreatekeyexa regsetvalueexa regclosekey regcreatekeyexa regsetvalueexa regclosekey ntdelayexecution regcreatekeyexa regsetvalueexa regclosekey regcreatekeyexa regsetvalueexa regclosekey regcreatekeyexa regsetvalueexa regclosekey ntdelayexecution regcreatekeyexa regsetvalueexa regclosekey regcreatekeyexa regsetvalueexa regclosekey regcreatekeyexa regsetvalueexa regclosekey ntdelayexecution regcreatekeyexa regsetvalueexa regclosekey regcreatekeyexa regsetvalueexa regclosekey regcreatekeyexa regsetvalueexa regclosekey ntdelayexecution regcreatekeyexa regsetvalueexa regclosekey regcreatekeyexa regsetvalueexa regclosekey regcreatekeyexa regsetvalueexa regclosekey ntdelayexecution regcreatekeyexa regsetvalueexa regclosekey regcreatekeyexa regsetvalueexa regclosekey regcreatekeyexa regsetvalueexa regclosekey ntdelayexecution regcreatekeyexa regsetvalueexa regclosekey regcreatekeyexa regsetvalueexa regclosekey regcreatekeyexa regsetvalueexa regclosekey ntdelayexecution regcreatekeyexa regsetvalueexa regclosekey regcreatekeyexa regsetvalueexa regclosekey regcreatekeyexa regsetvalueexa regclosekey ntdelayexecution regcreatekeyexa regsetvalueexa regclosekey regcreatekeyexa regsetvalueexa regclosekey regcreatekeyexa regsetvalueexa regclosekey ntdelayexecution regcreatekeyexa regsetvalueexa regclosekey regcreatekeyexa regsetvalueexa regclosekey regcreatekeyexa regsetvalueexa regclosekey ntdelayexecution regcreatekeyexa regsetvalueexa regclosekey regcreatekeyexa regsetvalueexa regclosekey regcreatekeyexa regsetvalueexa regclosekey ntdelayexecution regcreatekeyexa regsetvalueexa regclosekey regcreatekeyexa regsetvalueexa regclosekey regcreatekeyexa regsetvalueexa regclosekey ntdelayexecution regcreatekeyexa regsetvalueexa regclosekey regcreatekeyexa regsetvalueexa regclosekey regcreatekeyexa regsetvalueexa regclosekey ntdelayexecution regcreatekeyexa regsetvalueexa regclosekey regcreatekeyexa regsetvalueexa regclosekey regcreatekeyexa regsetvalueexa regclosekey ntdelayexecution regcreatekeyexa regsetvalueexa regclosekey regcreatekeyexa regsetvalueexa regclosekey regcreatekeyexa regsetvalueexa regclosekey ntdelayexecution regcreatekeyexa regsetvalueexa regclosekey regcreatekeyexa regsetvalueexa regclosekey regcreatekeyexa regsetvalueexa regclosekey ntdelayexecution socket connect closesocket ntdelayexecution regcreatekeyexa regsetvalueexa regclosekey regcreatekeyexa regsetvalueexa regclosekey regcreatekeyexa regsetvalueexa regclosekey ntdelayexecution regcreatekeyexa regsetvalueexa regclosekey regcreatekeyexa regsetvalueexa regclosekey regcreatekeyexa regsetvalueexa regclosekey ntdelayexecution regcreatekeyexa regsetvalueexa regclosekey regcreatekeyexa regsetvalueexa regclosekey regcreatekeyexa regsetvalueexa regclosekey ntdelayexecution regcreatekeyexa regsetvalueexa regclosekey regcreatekeyexa regsetvalueexa regclosekey regcreatekeyexa regsetvalueexa regclosekey ntdelayexecution regcreatekeyexa regsetvalueexa regclosekey regcreatekeyexa regsetvalueexa regclosekey regcreatekeyexa regsetvalueexa regclosekey ntdelayexecution regcreatekeyexa regsetvalueexa regclosekey regcreatekeyexa regsetvalueexa regclosekey regcreatekeyexa regsetvalueexa regclosekey ntdelayexecution regcreatekeyexa regsetvalueexa regclosekey regcreatekeyexa regsetvalueexa regclosekey regcreatekeyexa regsetvalueexa regclosekey ntdelayexecution regcreatekeyexa regsetvalueexa regclosekey regcreatekeyexa regsetvalueexa regclosekey regcreatekeyexa regsetvalueexa regclosekey ntdelayexecution regcreatekeyexa regsetvalueexa regclosekey regcreatekeyexa regsetvalueexa regclosekey regcreatekeyexa regsetvalueexa regclosekey ntdelayexecution regcreatekeyexa regsetvalueexa regclosekey regcreatekeyexa regsetvalueexa regclosekey regcreatekeyexa regsetvalueexa regclosekey ntdelayexecution regcreatekeyexa regsetvalueexa regclosekey regcreatekeyexa regsetvalueexa regclosekey regcreatekeyexa regsetvalueexa regclosekey ntdelayexecution regcreatekeyexa regsetvalueexa regclosekey regcreatekeyexa regsetvalueexa regclosekey regcreatekeyexa regsetvalueexa regclosekey ntdelayexecution regcreatekeyexa regsetvalueexa regclosekey regcreatekeyexa regsetvalueexa regclosekey regcreatekeyexa regsetvalueexa regclosekey ntdelayexecution regcreatekeyexa regsetvalueexa regclosekey regcreatekeyexa regsetvalueexa regclosekey regcreatekeyexa regsetvalueexa regclosekey ntdelayexecution regcreatekeyexa regsetvalueexa regclosekey regcreatekeyexa regsetvalueexa regclosekey regcreatekeyexa regsetvalueexa regclosekey ntdelayexecution regcreatekeyexa regsetvalueexa regclosekey regcreatekeyexa regsetvalueexa regclosekey regcreatekeyexa regsetvalueexa regclosekey ntdelayexecution socket connect closesocket ntdelayexecution regcreatekeyexa regsetvalueexa regclosekey regcreatekeyexa regsetvalueexa regclosekey regcreatekeyexa regsetvalueexa regclosekey ntdelayexecution regcreatekeyexa regsetvalueexa regclosekey regcreatekeyexa regsetvalueexa regclosekey regcreatekeyexa regsetvalueexa regclosekey ntdelayexecution regcreatekeyexa regsetvalueexa regclosekey regcreatekeyexa regsetvalueexa regclosekey regcreatekeyexa regsetvalueexa regclosekey ntdelayexecution regcreatekeyexa regsetvalueexa regclosekey regcreatekeyexa regsetvalueexa regclosekey regcreatekeyexa regsetvalueexa regclosekey ntdelayexecution regcreatekeyexa regsetvalueexa regclosekey regcreatekeyexa regsetvalueexa regclosekey regcreatekeyexa regsetvalueexa regclosekey ntdelayexecution regcreatekeyexa regsetvalueexa regclosekey regcreatekeyexa regsetvalueexa regclosekey regcreatekeyexa regsetvalueexa regclosekey ntdelayexecution regcreatekeyexa regsetvalueexa regclosekey regcreatekeyexa regsetvalueexa regclosekey regcreatekeyexa regsetvalueexa regclosekey ntdelayexecution regcreatekeyexa regsetvalueexa regclosekey regcreatekeyexa regsetvalueexa regclosekey regcreatekeyexa regsetvalueexa regclosekey ntdelayexecution regcreatekeyexa regsetvalueexa regclosekey regcreatekeyexa regsetvalueexa regclosekey regcreatekeyexa regsetvalueexa regclosekey ntdelayexecution regcreatekeyexa regsetvalueexa regclosekey regcreatekeyexa regsetvalueexa regclosekey regcreatekeyexa regsetvalueexa regclosekey ntdelayexecution regcreatekeyexa regsetvalueexa regclosekey regcreatekeyexa regsetvalueexa regclosekey regcreatekeyexa regsetvalueexa regclosekey ntdelayexecution regcreatekeyexa regsetvalueexa regclosekey regcreatekeyexa regsetvalueexa regclosekey regcreatekeyexa regsetvalueexa regclosekey ntdelayexecution regcreatekeyexa regsetvalueexa regclosekey regcreatekeyexa regsetvalueexa regclosekey regcreatekeyexa regsetvalueexa regclosekey ntdelayexecution regcreatekeyexa regsetvalueexa regclosekey regcreatekeyexa regsetvalueexa regclosekey regcreatekeyexa regsetvalueexa regclosekey ntdelayexecution regcreatekeyexa regsetvalueexa regclosekey regcreatekeyexa regsetvalueexa regclosekey regcreatekeyexa regsetvalueexa regclosekey ntdelayexecution regcreatekeyexa regsetvalueexa regclosekey regcreatekeyexa regsetvalueexa regclosekey regcreatekeyexa regsetvalueexa regclosekey ntdelayexecution socket connect closesocket ntdelayexecution regcreatekeyexa regsetvalueexa regclosekey regcreatekeyexa regsetvalueexa regclosekey regcreatekeyexa regsetvalueexa regclosekey ntdelayexecution regcreatekeyexa regsetvalueexa regclosekey regcreatekeyexa regsetvalueexa regclosekey regcreatekeyexa regsetvalueexa regclosekey ntdelayexecution regcreatekeyexa regsetvalueexa regclosekey regcreatekeyexa regsetvalueexa regclosekey regcreatekeyexa regsetvalueexa regclosekey ntdelayexecution regcreatekeyexa regsetvalueexa regclosekey regcreatekeyexa regsetvalueexa regclosekey regcreatekeyexa regsetvalueexa regclosekey ntdelayexecution regcreatekeyexa regsetvalueexa regclosekey regcreatekeyexa regsetvalueexa regclosekey regcreatekeyexa regsetvalueexa regclosekey ntdelayexecution regcreatekeyexa regsetvalueexa regclosekey regcreatekeyexa regsetvalueexa regclosekey regcreatekeyexa regsetvalueexa regclosekey ntdelayexecution regcreatekeyexa regsetvalueexa regclosekey regcreatekeyexa regsetvalueexa regclosekey regcreatekeyexa regsetvalueexa regclosekey ntdelayexecution regcreatekeyexa regsetvalueexa regclosekey regcreatekeyexa regsetvalueexa regclosekey regcreatekeyexa regsetvalueexa regclosekey ntdelayexecution regcreatekeyexa regsetvalueexa regclosekey regcreatekeyexa regsetvalueexa regclosekey regcreatekeyexa regsetvalueexa regclosekey ntdelayexecution regcreatekeyexa regsetvalueexa regclosekey regcreatekeyexa regsetvalueexa regclosekey regcreatekeyexa regsetvalueexa regclosekey ntdelayexecution regcreatekeyexa regsetvalueexa regclosekey regcreatekeyexa regsetvalueexa regclosekey regcreatekeyexa regsetvalueexa regclosekey ntdelayexecution regcreatekeyexa regsetvalueexa regclosekey regcreatekeyexa regsetvalueexa regclosekey regcreatekeyexa regsetvalueexa regclosekey ntdelayexecution regcreatekeyexa regsetvalueexa regclosekey regcreatekeyexa regsetvalueexa regclosekey regcreatekeyexa regsetvalueexa regclosekey ntdelayexecution regcreatekeyexa regsetvalueexa regclosekey regcreatekeyexa regsetvalueexa regclosekey regcreatekeyexa regsetvalueexa regclosekey ntdelayexecution regcreatekeyexa regsetvalueexa regclosekey regcreatekeyexa regsetvalueexa regclosekey regcreatekeyexa regsetvalueexa regclosekey ntdelayexecution regcreatekeyexa regsetvalueexa regclosekey regcreatekeyexa regsetvalueexa regclosekey regcreatekeyexa regsetvalueexa regclosekey ntdelayexecution socket connect closesocket ntdelayexecution regcreatekeyexa regsetvalueexa regclosekey regcreatekeyexa regsetvalueexa regclosekey regcreatekeyexa regsetvalueexa regclosekey ntdelayexecution regcreatekeyexa regsetvalueexa regclosekey regcreatekeyexa regsetvalueexa regclosekey regcreatekeyexa regsetvalueexa regclosekey ntdelayexecution regcreatekeyexa regsetvalueexa regclosekey regcreatekeyexa regsetvalueexa regclosekey regcreatekeyexa regsetvalueexa regclosekey ntdelayexecution regcreatekeyexa regsetvalueexa regclosekey regcreatekeyexa regsetvalueexa regclosekey regcreatekeyexa regsetvalueexa regclosekey ntdelayexecution regcreatekeyexa regsetvalueexa regclosekey regcreatekeyexa regsetvalueexa regclosekey regcreatekeyexa regsetvalueexa regclosekey ntdelayexecution regcreatekeyexa regsetvalueexa regclosekey regcreatekeyexa regsetvalueexa regclosekey regcreatekeyexa regsetvalueexa regclosekey ntdelayexecution regcreatekeyexa regsetvalueexa regclosekey regcreatekeyexa regsetvalueexa regclosekey regcreatekeyexa regsetvalueexa regclosekey ntdelayexecution regcreatekeyexa regsetvalueexa regclosekey regcreatekeyexa regsetvalueexa regclosekey regcreatekeyexa regsetvalueexa regclosekey ntdelayexecution regcreatekeyexa regsetvalueexa regclosekey regcreatekeyexa regsetvalueexa regclosekey regcreatekeyexa regsetvalueexa regclosekey ntdelayexecution regcreatekeyexa regsetvalueexa regclosekey regcreatekeyexa regsetvalueexa regclosekey regcreatekeyexa regsetvalueexa regclosekey ntdelayexecution regcreatekeyexa regsetvalueexa regclosekey regcreatekeyexa regsetvalueexa regclosekey regcreatekeyexa regsetvalueexa regclosekey ntdelayexecution regcreatekeyexa regsetvalueexa regclosekey regcreatekeyexa regsetvalueexa regclosekey regcreatekeyexa regsetvalueexa regclosekey ntdelayexecution regcreatekeyexa regsetvalueexa regclosekey regcreatekeyexa regsetvalueexa regclosekey regcreatekeyexa regsetvalueexa regclosekey ntdelayexecution regcreatekeyexa regsetvalueexa regclosekey regcreatekeyexa regsetvalueexa regclosekey regcreatekeyexa regsetvalueexa regclosekey ntdelayexecution regcreatekeyexa regsetvalueexa regclosekey regcreatekeyexa regsetvalueexa regclosekey regcreatekeyexa regsetvalueexa regclosekey ntdelayexecution regcreatekeyexa regsetvalueexa regclosekey regcreatekeyexa regsetvalueexa regclosekey regcreatekeyexa regsetvalueexa regclosekey ntdelayexecution socket connect closesocket ntdelayexecution regcreatekeyexa regsetvalueexa regclosekey regcreatekeyexa regsetvalueexa regclosekey regcreatekeyexa regsetvalueexa regclosekey ntdelayexecution regcreatekeyexa regsetvalueexa regclosekey regcreatekeyexa regsetvalueexa regclosekey regcreatekeyexa regsetvalueexa regclosekey ntdelayexecution regcreatekeyexa regsetvalueexa regclosekey regcreatekeyexa regsetvalueexa regclosekey regcreatekeyexa regsetvalueexa regclosekey ntdelayexecution regcreatekeyexa regsetvalueexa regclosekey regcreatekeyexa regsetvalueexa regclosekey regcreatekeyexa regsetvalueexa regclosekey ntdelayexecution regcreatekeyexa regsetvalueexa regclosekey regcreatekeyexa regsetvalueexa regclosekey regcreatekeyexa regsetvalueexa regclosekey ntdelayexecution regcreatekeyexa regsetvalueexa regclosekey regcreatekeyexa regsetvalueexa regclosekey regcreatekeyexa regsetvalueexa regclosekey ntdelayexecution regcreatekeyexa regsetvalueexa regclosekey regcreatekeyexa regsetvalueexa regclosekey regcreatekeyexa regsetvalueexa regclosekey ntdelayexecution regcreatekeyexa regsetvalueexa regclosekey regcreatekeyexa regsetvalueexa regclosekey regcreatekeyexa regsetvalueexa regclosekey ntdelayexecution regcreatekeyexa regsetvalueexa regclosekey regcreatekeyexa regsetvalueexa regclosekey regcreatekeyexa regsetvalueexa regclosekey ntdelayexecution regcreatekeyexa regsetvalueexa regclosekey regcreatekeyexa regsetvalueexa regclosekey regcreatekeyexa regsetvalueexa regclosekey ntdelayexecution regcreatekeyexa regsetvalueexa regclosekey regcreatekeyexa regsetvalueexa regclosekey regcreatekeyexa regsetvalueexa regclosekey ntdelayexecution regcreatekeyexa regsetvalueexa regclosekey regcreatekeyexa regsetvalueexa regclosekey regcreatekeyexa regsetvalueexa regclosekey ntdelayexecution regcreatekeyexa regsetvalueexa regclosekey regcreatekeyexa regsetvalueexa regclosekey regcreatekeyexa regsetvalueexa regclosekey ntdelayexecution regcreatekeyexa regsetvalueexa regclosekey regcreatekeyexa regsetvalueexa regclosekey regcreatekeyexa regsetvalueexa regclosekey ntdelayexecution regcreatekeyexa regsetvalueexa regclosekey regcreatekeyexa regsetvalueexa regclosekey regcreatekeyexa regsetvalueexa regclosekey ntdelayexecution regcreatekeyexa regsetvalueexa regclosekey regcreatekeyexa regsetvalueexa regclosekey regcreatekeyexa regsetvalueexa regclosekey ntdelayexecution socket connect closesocket ntdelayexecution regcreatekeyexa regsetvalueexa regclosekey regcreatekeyexa regsetvalueexa regclosekey regcreatekeyexa regsetvalueexa regclosekey ntdelayexecution regcreatekeyexa regsetvalueexa regclosekey regcreatekeyexa regsetvalueexa regclosekey regcreatekeyexa regsetvalueexa regclosekey ntdelayexecution regcreatekeyexa regsetvalueexa regclosekey regcreatekeyexa regsetvalueexa regclosekey regcreatekeyexa regsetvalueexa regclosekey ntdelayexecution regcreatekeyexa regsetvalueexa regclosekey regcreatekeyexa regsetvalueexa regclosekey regcreatekeyexa regsetvalueexa regclosekey ntdelayexecution regcreatekeyexa regsetvalueexa regclosekey regcreatekeyexa regsetvalueexa regclosekey regcreatekeyexa regsetvalueexa regclosekey ntdelayexecution regcreatekeyexa regsetvalueexa regclosekey regcreatekeyexa regsetvalueexa regclosekey regcreatekeyexa regsetvalueexa regclosekey ntdelayexecution regcreatekeyexa regsetvalueexa regclosekey regcreatekeyexa regsetvalueexa regclosekey regcreatekeyexa regsetvalueexa regclosekey ntdelayexecution regcreatekeyexa regsetvalueexa regclosekey regcreatekeyexa regsetvalueexa regclosekey regcreatekeyexa regsetvalueexa regclosekey ntdelayexecution regcreatekeyexa regsetvalueexa regclosekey regcreatekeyexa regsetvalueexa regclosekey regcreatekeyexa regsetvalueexa regclosekey ntdelayexecution regcreatekeyexa regsetvalueexa regclosekey regcreatekeyexa regsetvalueexa regclosekey regcreatekeyexa regsetvalueexa regclosekey ntdelayexecution regcreatekeyexa regsetvalueexa regclosekey regcreatekeyexa regsetvalueexa regclosekey regcreatekeyexa regsetvalueexa regclosekey ntdelayexecution regcreatekeyexa regsetvalueexa regclosekey regcreatekeyexa regsetvalueexa regclosekey regcreatekeyexa regsetvalueexa regclosekey ntdelayexecution regcreatekeyexa regsetvalueexa regclosekey regcreatekeyexa regsetvalueexa regclosekey regcreatekeyexa regsetvalueexa regclosekey ntdelayexecution regcreatekeyexa regsetvalueexa regclosekey regcreatekeyexa regsetvalueexa regclosekey regcreatekeyexa regsetvalueexa regclosekey ntdelayexecution regcreatekeyexa regsetvalueexa regclosekey regcreatekeyexa regsetvalueexa regclosekey regcreatekeyexa regsetvalueexa regclosekey ntdelayexecution regcreatekeyexa regsetvalueexa regclosekey regcreatekeyexa regsetvalueexa regclosekey regcreatekeyexa regsetvalueexa regclosekey ntdelayexecution socket connect closesocket ntdelayexecution regcreatekeyexa regsetvalueexa regclosekey regcreatekeyexa regsetvalueexa regclosekey regcreatekeyexa regsetvalueexa regclosekey ntdelayexecution regcreatekeyexa regsetvalueexa regclosekey regcreatekeyexa regsetvalueexa regclosekey regcreatekeyexa regsetvalueexa regclosekey ntdelayexecution regcreatekeyexa regsetvalueexa regclosekey regcreatekeyexa regsetvalueexa regclosekey regcreatekeyexa regsetvalueexa regclosekey ntdelayexecution regcreatekeyexa regsetvalueexa regclosekey regcreatekeyexa regsetvalueexa regclosekey regcreatekeyexa regsetvalueexa regclosekey ntdelayexecution regcreatekeyexa regsetvalueexa regclosekey regcreatekeyexa regsetvalueexa regclosekey regcreatekeyexa regsetvalueexa regclosekey ntdelayexecution regcreatekeyexa regsetvalueexa regclosekey regcreatekeyexa regsetvalueexa regclosekey regcreatekeyexa regsetvalueexa regclosekey ntdelayexecution regcreatekeyexa regsetvalueexa regclosekey regcreatekeyexa regsetvalueexa regclosekey regcreatekeyexa regsetvalueexa regclosekey ntdelayexecution regcreatekeyexa regsetvalueexa regclosekey regcreatekeyexa regsetvalueexa regclosekey regcreatekeyexa regsetvalueexa regclosekey ntdelayexecution regcreatekeyexa regsetvalueexa regclosekey regcreatekeyexa regsetvalueexa regclosekey regcreatekeyexa regsetvalueexa regclosekey ntdelayexecution regcreatekeyexa regsetvalueexa regclosekey regcreatekeyexa regsetvalueexa regclosekey regcreatekeyexa regsetvalueexa regclosekey ntdelayexecution regcreatekeyexa regsetvalueexa regclosekey regcreatekeyexa regsetvalueexa regclosekey regcreatekeyexa regsetvalueexa regclosekey ntdelayexecution regcreatekeyexa regsetvalueexa regclosekey regcreatekeyexa regsetvalueexa regclosekey regcreatekeyexa regsetvalueexa regclosekey ntdelayexecution regcreatekeyexa regsetvalueexa regclosekey regcreatekeyexa regsetvalueexa regclosekey regcreatekeyexa regsetvalueexa regclosekey ntdelayexecution regcreatekeyexa regsetvalueexa regclosekey regcreatekeyexa regsetvalueexa regclosekey regcreatekeyexa regsetvalueexa regclosekey ntdelayexecution regcreatekeyexa regsetvalueexa regclosekey regcreatekeyexa regsetvalueexa regclosekey regcreatekeyexa regsetvalueexa regclosekey ntdelayexecution regcreatekeyexa regsetvalueexa regclosekey regcreatekeyexa regsetvalueexa regclosekey regcreatekeyexa regsetvalueexa regclosekey ntdelayexecution socket connect closesocket ntdelayexecution regcreatekeyexa regsetvalueexa regclosekey regcreatekeyexa regsetvalueexa regclosekey regcreatekeyexa regsetvalueexa regclosekey ntdelayexecution regcreatekeyexa regsetvalueexa regclosekey regcreatekeyexa regsetvalueexa regclosekey regcreatekeyexa regsetvalueexa regclosekey ntdelayexecution regcreatekeyexa regsetvalueexa regclosekey regcreatekeyexa regsetvalueexa regclosekey regcreatekeyexa regsetvalueexa regclosekey ntdelayexecution regcreatekeyexa regsetvalueexa regclosekey regcreatekeyexa regsetvalueexa regclosekey regcreatekeyexa regsetvalueexa regclosekey ntdelayexecution regcreatekeyexa regsetvalueexa regclosekey regcreatekeyexa regsetvalueexa regclosekey regcreatekeyexa regsetvalueexa regclosekey ntdelayexecution regcreatekeyexa regsetvalueexa regclosekey regcreatekeyexa regsetvalueexa regclosekey regcreatekeyexa regsetvalueexa regclosekey ntdelayexecution regcreatekeyexa regsetvalueexa regclosekey regcreatekeyexa regsetvalueexa regclosekey regcreatekeyexa regsetvalueexa regclosekey ntdelayexecution regcreatekeyexa regsetvalueexa regclosekey regcreatekeyexa regsetvalueexa regclosekey regcreatekeyexa regsetvalueexa regclosekey ntdelayexecution regcreatekeyexa regsetvalueexa regclosekey regcreatekeyexa regsetvalueexa regclosekey regcreatekeyexa regsetvalueexa regclosekey ntdelayexecution regcreatekeyexa regsetvalueexa regclosekey regcreatekeyexa regsetvalueexa regclosekey regcreatekeyexa regsetvalueexa regclosekey ntdelayexecution regcreatekeyexa regsetvalueexa regclosekey regcreatekeyexa regsetvalueexa regclosekey regcreatekeyexa regsetvalueexa regclosekey ntdelayexecution regcreatekeyexa regsetvalueexa regclosekey regcreatekeyexa regsetvalueexa regclosekey regcreatekeyexa regsetvalueexa regclosekey ntdelayexecution regcreatekeyexa regsetvalueexa regclosekey regcreatekeyexa regsetvalueexa regclosekey regcreatekeyexa regsetvalueexa regclosekey ntdelayexecution regcreatekeyexa regsetvalueexa regclosekey regcreatekeyexa regsetvalueexa regclosekey regcreatekeyexa regsetvalueexa regclosekey ntdelayexecution regcreatekeyexa regsetvalueexa regclosekey regcreatekeyexa regsetvalueexa regclosekey regcreatekeyexa regsetvalueexa regclosekey ntdelayexecution regcreatekeyexa regsetvalueexa regclosekey regcreatekeyexa regsetvalueexa regclosekey regcreatekeyexa regsetvalueexa regclosekey ntdelayexecution socket connect closesocket ntdelayexecution regcreatekeyexa regsetvalueexa regclosekey regcreatekeyexa regsetvalueexa regclosekey regcreatekeyexa regsetvalueexa regclosekey ntdelayexecution regcreatekeyexa regsetvalueexa regclosekey regcreatekeyexa regsetvalueexa regclosekey regcreatekeyexa regsetvalueexa regclosekey ntdelayexecution regcreatekeyexa regsetvalueexa regclosekey regcreatekeyexa regsetvalueexa regclosekey regcreatekeyexa regsetvalueexa regclosekey ntdelayexecution regcreatekeyexa regsetvalueexa regclosekey regcreatekeyexa regsetvalueexa regclosekey regcreatekeyexa regsetvalueexa regclosekey ntdelayexecution regcreatekeyexa regsetvalueexa regclosekey regcreatekeyexa regsetvalueexa regclosekey regcreatekeyexa regsetvalueexa regclosekey ntdelayexecution regcreatekeyexa regsetvalueexa regclosekey regcreatekeyexa regsetvalueexa regclosekey regcreatekeyexa regsetvalueexa regclosekey ntdelayexecution regcreatekeyexa regsetvalueexa regclosekey regcreatekeyexa regsetvalueexa regclosekey regcreatekeyexa regsetvalueexa regclosekey ntdelayexecution regcreatekeyexa regsetvalueexa regclosekey regcreatekeyexa regsetvalueexa regclosekey regcreatekeyexa regsetvalueexa regclosekey ntdelayexecution regcreatekeyexa regsetvalueexa regclosekey regcreatekeyexa regsetvalueexa regclosekey regcreatekeyexa regsetvalueexa regclosekey ntdelayexecution regcreatekeyexa regsetvalueexa regclosekey regcreatekeyexa regsetvalueexa regclosekey regcreatekeyexa regsetvalueexa regclosekey ntdelayexecution regcreatekeyexa regsetvalueexa regclosekey regcreatekeyexa regsetvalueexa regclosekey regcreatekeyexa regsetvalueexa regclosekey ntdelayexecution regcreatekeyexa regsetvalueexa regclosekey regcreatekeyexa regsetvalueexa regclosekey regcreatekeyexa regsetvalueexa regclosekey ntdelayexecution regcreatekeyexa regsetvalueexa regclosekey regcreatekeyexa regsetvalueexa regclosekey regcreatekeyexa regsetvalueexa regclosekey ntdelayexecution regcreatekeyexa regsetvalueexa regclosekey regcreatekeyexa regsetvalueexa regclosekey regcreatekeyexa regsetvalueexa regclosekey ntdelayexecution regcreatekeyexa regsetvalueexa regclosekey regcreatekeyexa regsetvalueexa regclosekey regcreatekeyexa regsetvalueexa regclosekey ntdelayexecution regcreatekeyexa regsetvalueexa regclosekey regcreatekeyexa regsetvalueexa regclosekey regcreatekeyexa regsetvalueexa regclosekey ntdelayexecution socket connect closesocket ntdelayexecution regcreatekeyexa regsetvalueexa regclosekey regcreatekeyexa regsetvalueexa regclosekey regcreatekeyexa regsetvalueexa regclosekey ntdelayexecution regcreatekeyexa regsetvalueexa regclosekey regcreatekeyexa regsetvalueexa regclosekey regcreatekeyexa regsetvalueexa regclosekey ntdelayexecution regcreatekeyexa regsetvalueexa regclosekey regcreatekeyexa regsetvalueexa regclosekey regcreatekeyexa regsetvalueexa regclosekey ntdelayexecution regcreatekeyexa regsetvalueexa regclosekey regcreatekeyexa regsetvalueexa regclosekey regcreatekeyexa regsetvalueexa regclosekey ntdelayexecution regcreatekeyexa regsetvalueexa regclosekey regcreatekeyexa regsetvalueexa regclosekey regcreatekeyexa regsetvalueexa regclosekey ntdelayexecution regcreatekeyexa regsetvalueexa regclosekey regcreatekeyexa regsetvalueexa regclosekey regcreatekeyexa regsetvalueexa regclosekey ntdelayexecution regcreatekeyexa regsetvalueexa regclosekey regcreatekeyexa regsetvalueexa regclosekey regcreatekeyexa regsetvalueexa regclosekey ntdelayexecution regcreatekeyexa regsetvalueexa regclosekey regcreatekeyexa regsetvalueexa regclosekey regcreatekeyexa regsetvalueexa regclosekey ntdelayexecution regcreatekeyexa regsetvalueexa regclosekey regcreatekeyexa regsetvalueexa regclosekey regcreatekeyexa regsetvalueexa regclosekey ntdelayexecution regcreatekeyexa regsetvalueexa regclosekey regcreatekeyexa regsetvalueexa regclosekey regcreatekeyexa regsetvalueexa regclosekey ntdelayexecution regcreatekeyexa regsetvalueexa regclosekey regcreatekeyexa regsetvalueexa regclosekey regcreatekeyexa regsetvalueexa regclosekey ntdelayexecution regcreatekeyexa regsetvalueexa regclosekey regcreatekeyexa regsetvalueexa regclosekey regcreatekeyexa regsetvalueexa regclosekey ntdelayexecution regcreatekeyexa regsetvalueexa regclosekey regcreatekeyexa regsetvalueexa regclosekey regcreatekeyexa regsetvalueexa regclosekey ntdelayexecution regcreatekeyexa regsetvalueexa regclosekey regcreatekeyexa regsetvalueexa regclosekey regcreatekeyexa regsetvalueexa regclosekey ntdelayexecution regcreatekeyexa regsetvalueexa regclosekey regcreatekeyexa regsetvalueexa regclosekey regcreatekeyexa regsetvalueexa regclosekey ntdelayexecution regcreatekeyexa regsetvalueexa regclosekey regcreatekeyexa regsetvalueexa regclosekey regcreatekeyexa regsetvalueexa regclosekey ntdelayexecution socket connect closesocket ntdelayexecution regcreatekeyexa regsetvalueexa regclosekey regcreatekeyexa regsetvalueexa regclosekey regcreatekeyexa regsetvalueexa regclosekey ntdelayexecution regcreatekeyexa regsetvalueexa regclosekey regcreatekeyexa regsetvalueexa regclosekey regcreatekeyexa regsetvalueexa regclosekey ntdelayexecution regcreatekeyexa regsetvalueexa regclosekey regcreatekeyexa regsetvalueexa regclosekey regcreatekeyexa regsetvalueexa regclosekey ntdelayexecution regcreatekeyexa regsetvalueexa regclosekey regcreatekeyexa regsetvalueexa regclosekey regcreatekeyexa regsetvalueexa regclosekey ntdelayexecution regcreatekeyexa regsetvalueexa regclosekey regcreatekeyexa regsetvalueexa regclosekey regcreatekeyexa regsetvalueexa regclosekey ntdelayexecution regcreatekeyexa regsetvalueexa regclosekey regcreatekeyexa regsetvalueexa regclosekey regcreatekeyexa regsetvalueexa regclosekey ntdelayexecution regcreatekeyexa regsetvalueexa regclosekey regcreatekeyexa regsetvalueexa regclosekey regcreatekeyexa regsetvalueexa regclosekey ntdelayexecution regcreatekeyexa regsetvalueexa regclosekey regcreatekeyexa regsetvalueexa regclosekey regcreatekeyexa regsetvalueexa regclosekey ntdelayexecution regcreatekeyexa regsetvalueexa regclosekey regcreatekeyexa regsetvalueexa regclosekey regcreatekeyexa regsetvalueexa regclosekey ntdelayexecution regcreatekeyexa regsetvalueexa regclosekey regcreatekeyexa regsetvalueexa regclosekey regcreatekeyexa regsetvalueexa regclosekey ntdelayexecution regcreatekeyexa regsetvalueexa regclosekey regcreatekeyexa regsetvalueexa regclosekey regcreatekeyexa regsetvalueexa regclosekey ntdelayexecution regcreatekeyexa regsetvalueexa regclosekey regcreatekeyexa regsetvalueexa regclosekey regcreatekeyexa regsetvalueexa regclosekey ntdelayexecution regcreatekeyexa regsetvalueexa regclosekey regcreatekeyexa regsetvalueexa regclosekey regcreatekeyexa regsetvalueexa regclosekey ntdelayexecution regcreatekeyexa regsetvalueexa regclosekey regcreatekeyexa regsetvalueexa regclosekey regcreatekeyexa regsetvalueexa regclosekey ntdelayexecution regcreatekeyexa regsetvalueexa regclosekey regcreatekeyexa regsetvalueexa regclosekey regcreatekeyexa regsetvalueexa regclosekey ntduplicateobject ntdelayexecution lookupprivilegevaluew ntclose createtoolhelp32snapshot process32firstw process32nextw process32nextw process32nextw process32nextw process32nextw process32nextw process32nextw process32nextw process32nextw process32nextw process32nextw process32nextw process32nextw process32nextw process32nextw process32nextw process32nextw process32nextw process32nextw process32nextw process32nextw process32nextw process32nextw process32nextw process32nextw process32nextw process32nextw process32nextw process32nextw process32nextw process32nextw process32nextw process32nextw process32nextw process32nextw process32nextw process32nextw process32nextw process32nextw ntclose lookupprivilegevaluew ntclose ntdelayexecution regcreatekeyexa regsetvalueexa regclosekey regcreatekeyexa regsetvalueexa regclosekey regcreatekeyexa regsetvalueexa regclosekey ntdelayexecution socket connect closesocket ntdelayexecution regcreatekeyexa regsetvalueexa regclosekey regcreatekeyexa regsetvalueexa regclosekey regcreatekeyexa regsetvalueexa regclosekey ntdelayexecution regcreatekeyexa regsetvalueexa regclosekey regcreatekeyexa regsetvalueexa regclosekey regcreatekeyexa regsetvalueexa regclosekey ntdelayexecution regcreatekeyexa regsetvalueexa regclosekey regcreatekeyexa regsetvalueexa regclosekey regcreatekeyexa regsetvalueexa regclosekey ntdelayexecution regcreatekeyexa regsetvalueexa regclosekey regcreatekeyexa regsetvalueexa regclosekey regcreatekeyexa regsetvalueexa regclosekey ntdelayexecution regcreatekeyexa regsetvalueexa regclosekey regcreatekeyexa regsetvalueexa regclosekey regcreatekeyexa regsetvalueexa regclosekey ntdelayexecution regcreatekeyexa regsetvalueexa regclosekey regcreatekeyexa regsetvalueexa regclosekey regcreatekeyexa regsetvalueexa regclosekey ntdelayexecution regcreatekeyexa regsetvalueexa regclosekey regcreatekeyexa regsetvalueexa regclosekey regcreatekeyexa regsetvalueexa regclosekey ntdelayexecution regcreatekeyexa regsetvalueexa regclosekey regcreatekeyexa regsetvalueexa regclosekey regcreatekeyexa regsetvalueexa regclosekey ntdelayexecution regcreatekeyexa regsetvalueexa regclosekey regcreatekeyexa regsetvalueexa regclosekey regcreatekeyexa regsetvalueexa regclosekey ntdelayexecution regcreatekeyexa regsetvalueexa regclosekey regcreatekeyexa regsetvalueexa regclosekey regcreatekeyexa regsetvalueexa regclosekey ntdelayexecution regcreatekeyexa regsetvalueexa regclosekey regcreatekeyexa regsetvalueexa regclosekey regcreatekeyexa regsetvalueexa regclosekey ntdelayexecution regcreatekeyexa regsetvalueexa regclosekey regcreatekeyexa regsetvalueexa regclosekey regcreatekeyexa regsetvalueexa regclosekey ntdelayexecution regcreatekeyexa regsetvalueexa regclosekey regcreatekeyexa regsetvalueexa regclosekey regcreatekeyexa regsetvalueexa regclosekey ntdelayexecution regcreatekeyexa regsetvalueexa regclosekey regcreatekeyexa regsetvalueexa regclosekey regcreatekeyexa regsetvalueexa regclosekey ntdelayexecution regcreatekeyexa regsetvalueexa regclosekey regcreatekeyexa regsetvalueexa regclosekey regcreatekeyexa regsetvalueexa regclosekey ntdelayexecution regcreatekeyexa regsetvalueexa regclosekey regcreatekeyexa regsetvalueexa regclosekey regcreatekeyexa regsetvalueexa regclosekey ntdelayexecution socket connect closesocket ntdelayexecution regcreatekeyexa regsetvalueexa regclosekey regcreatekeyexa regsetvalueexa regclosekey regcreatekeyexa regsetvalueexa regclosekey ntdelayexecution regcreatekeyexa regsetvalueexa regclosekey regcreatekeyexa regsetvalueexa regclosekey regcreatekeyexa regsetvalueexa regclosekey ntdelayexecution regcreatekeyexa regsetvalueexa regclosekey regcreatekeyexa regsetvalueexa regclosekey regcreatekeyexa regsetvalueexa regclosekey ntdelayexecution regcreatekeyexa regsetvalueexa regclosekey regcreatekeyexa regsetvalueexa regclosekey regcreatekeyexa regsetvalueexa regclosekey ntdelayexecution regcreatekeyexa regsetvalueexa regclosekey regcreatekeyexa regsetvalueexa regclosekey regcreatekeyexa regsetvalueexa regclosekey ntdelayexecution regcreatekeyexa regsetvalueexa regclosekey regcreatekeyexa regsetvalueexa regclosekey regcreatekeyexa regsetvalueexa regclosekey ntdelayexecution regcreatekeyexa regsetvalueexa regclosekey regcreatekeyexa regsetvalueexa regclosekey regcreatekeyexa regsetvalueexa regclosekey ntdelayexecution regcreatekeyexa regsetvalueexa regclosekey regcreatekeyexa regsetvalueexa regclosekey regcreatekeyexa regsetvalueexa regclosekey ntdelayexecution regcreatekeyexa regsetvalueexa regclosekey regcreatekeyexa regsetvalueexa regclosekey regcreatekeyexa regsetvalueexa regclosekey ntdelayexecution regcreatekeyexa regsetvalueexa regclosekey regcreatekeyexa regsetvalueexa regclosekey regcreatekeyexa regsetvalueexa regclosekey ntdelayexecution regcreatekeyexa regsetvalueexa regclosekey regcreatekeyexa regsetvalueexa regclosekey regcreatekeyexa regsetvalueexa regclosekey ntdelayexecution regcreatekeyexa regsetvalueexa regclosekey regcreatekeyexa regsetvalueexa regclosekey regcreatekeyexa regsetvalueexa regclosekey ntdelayexecution regcreatekeyexa regsetvalueexa regclosekey regcreatekeyexa regsetvalueexa regclosekey regcreatekeyexa regsetvalueexa regclosekey ntdelayexecution regcreatekeyexa regsetvalueexa regclosekey regcreatekeyexa regsetvalueexa regclosekey regcreatekeyexa regsetvalueexa regclosekey ntdelayexecution regcreatekeyexa regsetvalueexa regclosekey regcreatekeyexa regsetvalueexa regclosekey regcreatekeyexa regsetvalueexa regclosekey ntdelayexecution regcreatekeyexa regsetvalueexa regclosekey regcreatekeyexa regsetvalueexa regclosekey regcreatekeyexa regsetvalueexa regclosekey ntdelayexecution socket connect closesocket ntdelayexecution regcreatekeyexa regsetvalueexa regclosekey regcreatekeyexa regsetvalueexa regclosekey regcreatekeyexa regsetvalueexa regclosekey ntdelayexecution regcreatekeyexa regsetvalueexa regclosekey regcreatekeyexa regsetvalueexa regclosekey regcreatekeyexa regsetvalueexa regclosekey ntdelayexecution regcreatekeyexa regsetvalueexa regclosekey regcreatekeyexa regsetvalueexa regclosekey regcreatekeyexa regsetvalueexa regclosekey ntdelayexecution regcreatekeyexa regsetvalueexa regclosekey regcreatekeyexa regsetvalueexa regclosekey regcreatekeyexa regsetvalueexa regclosekey ntdelayexecution regcreatekeyexa regsetvalueexa regclosekey regcreatekeyexa regsetvalueexa regclosekey regcreatekeyexa regsetvalueexa regclosekey ntdelayexecution regcreatekeyexa regsetvalueexa regclosekey regcreatekeyexa regsetvalueexa regclosekey regcreatekeyexa regsetvalueexa regclosekey ntdelayexecution regcreatekeyexa regsetvalueexa regclosekey regcreatekeyexa regsetvalueexa regclosekey regcreatekeyexa regsetvalueexa regclosekey ntdelayexecution regcreatekeyexa regsetvalueexa regclosekey regcreatekeyexa regsetvalueexa regclosekey regcreatekeyexa regsetvalueexa regclosekey ntdelayexecution regcreatekeyexa regsetvalueexa regclosekey regcreatekeyexa regsetvalueexa regclosekey regcreatekeyexa regsetvalueexa regclosekey ntdelayexecution regcreatekeyexa regsetvalueexa regclosekey regcreatekeyexa regsetvalueexa regclosekey regcreatekeyexa regsetvalueexa regclosekey ntdelayexecution regcreatekeyexa regsetvalueexa regclosekey regcreatekeyexa regsetvalueexa regclosekey regcreatekeyexa regsetvalueexa regclosekey ntdelayexecution regcreatekeyexa regsetvalueexa regclosekey regcreatekeyexa regsetvalueexa regclosekey regcreatekeyexa regsetvalueexa regclosekey ntdelayexecution regcreatekeyexa regsetvalueexa regclosekey regcreatekeyexa regsetvalueexa regclosekey regcreatekeyexa regsetvalueexa regclosekey ntdelayexecution regcreatekeyexa regsetvalueexa regclosekey regcreatekeyexa regsetvalueexa regclosekey regcreatekeyexa regsetvalueexa regclosekey ntdelayexecution regcreatekeyexa regsetvalueexa regclosekey regcreatekeyexa regsetvalueexa regclosekey regcreatekeyexa regsetvalueexa regclosekey ntdelayexecution regcreatekeyexa regsetvalueexa regclosekey regcreatekeyexa regsetvalueexa regclosekey regcreatekeyexa regsetvalueexa regclosekey ntdelayexecution socket connect closesocket ntdelayexecution regcreatekeyexa regsetvalueexa regclosekey regcreatekeyexa regsetvalueexa regclosekey regcreatekeyexa regsetvalueexa regclosekey ntdelayexecution regcreatekeyexa regsetvalueexa regclosekey regcreatekeyexa regsetvalueexa regclosekey regcreatekeyexa regsetvalueexa regclosekey ntdelayexecution regcreatekeyexa regsetvalueexa regclosekey regcreatekeyexa regsetvalueexa regclosekey regcreatekeyexa regsetvalueexa regclosekey ntdelayexecution regcreatekeyexa regsetvalueexa regclosekey regcreatekeyexa regsetvalueexa regclosekey regcreatekeyexa regsetvalueexa regclosekey ntdelayexecution regcreatekeyexa regsetvalueexa regclosekey regcreatekeyexa regsetvalueexa regclosekey regcreatekeyexa regsetvalueexa regclosekey ntdelayexecution regcreatekeyexa regsetvalueexa regclosekey regcreatekeyexa regsetvalueexa regclosekey regcreatekeyexa regsetvalueexa regclosekey ntdelayexecution regcreatekeyexa regsetvalueexa regclosekey regcreatekeyexa regsetvalueexa regclosekey regcreatekeyexa regsetvalueexa regclosekey ntdelayexecution regcreatekeyexa regsetvalueexa regclosekey regcreatekeyexa regsetvalueexa regclosekey regcreatekeyexa regsetvalueexa regclosekey ntdelayexecution regcreatekeyexa regsetvalueexa regclosekey regcreatekeyexa regsetvalueexa regclosekey regcreatekeyexa regsetvalueexa regclosekey ntdelayexecution regcreatekeyexa regsetvalueexa regclosekey regcreatekeyexa regsetvalueexa regclosekey regcreatekeyexa regsetvalueexa regclosekey ntdelayexecution regcreatekeyexa regsetvalueexa regclosekey regcreatekeyexa regsetvalueexa regclosekey regcreatekeyexa regsetvalueexa regclosekey ntdelayexecution regcreatekeyexa regsetvalueexa regclosekey regcreatekeyexa regsetvalueexa regclosekey regcreatekeyexa regsetvalueexa regclosekey ntdelayexecution regcreatekeyexa regsetvalueexa regclosekey regcreatekeyexa regsetvalueexa regclosekey regcreatekeyexa regsetvalueexa regclosekey ntdelayexecution regcreatekeyexa regsetvalueexa regclosekey regcreatekeyexa regsetvalueexa regclosekey regcreatekeyexa regsetvalueexa regclosekey ntdelayexecution regcreatekeyexa regsetvalueexa regclosekey regcreatekeyexa regsetvalueexa regclosekey regcreatekeyexa regsetvalueexa regclosekey ntdelayexecution regcreatekeyexa regsetvalueexa regclosekey regcreatekeyexa regsetvalueexa regclosekey regcreatekeyexa regsetvalueexa regclosekey ntdelayexecution socket connect closesocket ntdelayexecution regcreatekeyexa regsetvalueexa regclosekey regcreatekeyexa regsetvalueexa regclosekey regcreatekeyexa regsetvalueexa regclosekey ntdelayexecution regcreatekeyexa regsetvalueexa regclosekey regcreatekeyexa regsetvalueexa regclosekey regcreatekeyexa regsetvalueexa regclosekey ntdelayexecution regcreatekeyexa regsetvalueexa regclosekey regcreatekeyexa regsetvalueexa regclosekey regcreatekeyexa regsetvalueexa regclosekey ntdelayexecution regcreatekeyexa regsetvalueexa regclosekey regcreatekeyexa regsetvalueexa regclosekey regcreatekeyexa regsetvalueexa regclosekey ntdelayexecution regcreatekeyexa regsetvalueexa regclosekey regcreatekeyexa regsetvalueexa regclosekey regcreatekeyexa regsetvalueexa regclosekey ntdelayexecution regcreatekeyexa regsetvalueexa regclosekey regcreatekeyexa regsetvalueexa regclosekey regcreatekeyexa regsetvalueexa regclosekey ntdelayexecution regcreatekeyexa regsetvalueexa regclosekey regcreatekeyexa regsetvalueexa regclosekey regcreatekeyexa regsetvalueexa regclosekey ntdelayexecution regcreatekeyexa regsetvalueexa regclosekey regcreatekeyexa regsetvalueexa regclosekey regcreatekeyexa regsetvalueexa regclosekey ntdelayexecution regcreatekeyexa regsetvalueexa regclosekey regcreatekeyexa regsetvalueexa regclosekey regcreatekeyexa regsetvalueexa regclosekey ntdelayexecution regcreatekeyexa regsetvalueexa regclosekey regcreatekeyexa regsetvalueexa regclosekey regcreatekeyexa regsetvalueexa regclosekey ntdelayexecution regcreatekeyexa regsetvalueexa regclosekey regcreatekeyexa regsetvalueexa regclosekey regcreatekeyexa regsetvalueexa regclosekey ntdelayexecution regcreatekeyexa regsetvalueexa regclosekey regcreatekeyexa regsetvalueexa regclosekey regcreatekeyexa regsetvalueexa regclosekey ntdelayexecution regcreatekeyexa regsetvalueexa regclosekey regcreatekeyexa regsetvalueexa regclosekey regcreatekeyexa regsetvalueexa regclosekey ntdelayexecution regcreatekeyexa regsetvalueexa regclosekey regcreatekeyexa regsetvalueexa regclosekey regcreatekeyexa regsetvalueexa regclosekey ntdelayexecution regcreatekeyexa regsetvalueexa regclosekey regcreatekeyexa regsetvalueexa regclosekey regcreatekeyexa regsetvalueexa regclosekey ntdelayexecution regcreatekeyexa regsetvalueexa regclosekey regcreatekeyexa regsetvalueexa regclosekey regcreatekeyexa regsetvalueexa regclosekey ntdelayexecution socket connect closesocket ntdelayexecution regcreatekeyexa regsetvalueexa regclosekey regcreatekeyexa regsetvalueexa regclosekey regcreatekeyexa regsetvalueexa regclosekey ntdelayexecution regcreatekeyexa regsetvalueexa regclosekey regcreatekeyexa regsetvalueexa regclosekey regcreatekeyexa regsetvalueexa regclosekey ntdelayexecution regcreatekeyexa regsetvalueexa regclosekey regcreatekeyexa regsetvalueexa regclosekey regcreatekeyexa regsetvalueexa regclosekey ntdelayexecution regcreatekeyexa regsetvalueexa regclosekey regcreatekeyexa regsetvalueexa regclosekey regcreatekeyexa regsetvalueexa regclosekey ntdelayexecution regcreatekeyexa regsetvalueexa regclosekey regcreatekeyexa regsetvalueexa regclosekey regcreatekeyexa regsetvalueexa regclosekey ntdelayexecution regcreatekeyexa regsetvalueexa regclosekey regcreatekeyexa regsetvalueexa regclosekey regcreatekeyexa regsetvalueexa regclosekey ntdelayexecution regcreatekeyexa regsetvalueexa regclosekey regcreatekeyexa regsetvalueexa regclosekey regcreatekeyexa regsetvalueexa regclosekey ntdelayexecution regcreatekeyexa regsetvalueexa regclosekey regcreatekeyexa regsetvalueexa regclosekey regcreatekeyexa regsetvalueexa regclosekey ntdelayexecution regcreatekeyexa regsetvalueexa regclosekey regcreatekeyexa regsetvalueexa regclosekey regcreatekeyexa regsetvalueexa regclosekey ntdelayexecution regcreatekeyexa regsetvalueexa regclosekey regcreatekeyexa regsetvalueexa regclosekey regcreatekeyexa regsetvalueexa regclosekey ntdelayexecution regcreatekeyexa regsetvalueexa regclosekey regcreatekeyexa regsetvalueexa regclosekey regcreatekeyexa regsetvalueexa regclosekey ntdelayexecution regcreatekeyexa regsetvalueexa regclosekey regcreatekeyexa regsetvalueexa regclosekey regcreatekeyexa regsetvalueexa regclosekey ntdelayexecution regcreatekeyexa regsetvalueexa regclosekey regcreatekeyexa regsetvalueexa regclosekey regcreatekeyexa regsetvalueexa regclosekey ntdelayexecution regcreatekeyexa regsetvalueexa regclosekey regcreatekeyexa regsetvalueexa regclosekey regcreatekeyexa regsetvalueexa regclosekey ntdelayexecution regcreatekeyexa regsetvalueexa regclosekey regcreatekeyexa regsetvalueexa regclosekey regcreatekeyexa regsetvalueexa regclosekey ntdelayexecution regcreatekeyexa regsetvalueexa regclosekey regcreatekeyexa regsetvalueexa regclosekey regcreatekeyexa regsetvalueexa regclosekey ntdelayexecution socket connect closesocket ntdelayexecution regcreatekeyexa regsetvalueexa regclosekey regcreatekeyexa regsetvalueexa regclosekey regcreatekeyexa regsetvalueexa regclosekey ntdelayexecution regcreatekeyexa regsetvalueexa regclosekey regcreatekeyexa regsetvalueexa regclosekey regcreatekeyexa regsetvalueexa regclosekey ntdelayexecution regcreatekeyexa regsetvalueexa regclosekey regcreatekeyexa regsetvalueexa regclosekey regcreatekeyexa regsetvalueexa regclosekey ntdelayexecution regcreatekeyexa regsetvalueexa regclosekey regcreatekeyexa regsetvalueexa regclosekey regcreatekeyexa regsetvalueexa regclosekey ntdelayexecution regcreatekeyexa regsetvalueexa regclosekey regcreatekeyexa regsetvalueexa regclosekey regcreatekeyexa regsetvalueexa regclosekey ntdelayexecution regcreatekeyexa regsetvalueexa regclosekey regcreatekeyexa regsetvalueexa regclosekey regcreatekeyexa regsetvalueexa regclosekey ntdelayexecution regcreatekeyexa regsetvalueexa regclosekey regcreatekeyexa regsetvalueexa regclosekey regcreatekeyexa regsetvalueexa regclosekey ntdelayexecution regcreatekeyexa regsetvalueexa regclosekey regcreatekeyexa regsetvalueexa regclosekey regcreatekeyexa regsetvalueexa regclosekey ntdelayexecution regcreatekeyexa regsetvalueexa regclosekey regcreatekeyexa regsetvalueexa regclosekey regcreatekeyexa regsetvalueexa regclosekey ntdelayexecution regcreatekeyexa regsetvalueexa regclosekey regcreatekeyexa regsetvalueexa regclosekey regcreatekeyexa regsetvalueexa regclosekey ntdelayexecution regcreatekeyexa regsetvalueexa regclosekey regcreatekeyexa regsetvalueexa regclosekey regcreatekeyexa regsetvalueexa regclosekey ntdelayexecution regcreatekeyexa regsetvalueexa regclosekey regcreatekeyexa regsetvalueexa regclosekey regcreatekeyexa regsetvalueexa regclosekey ntdelayexecution regcreatekeyexa regsetvalueexa regclosekey regcreatekeyexa regsetvalueexa regclosekey regcreatekeyexa regsetvalueexa regclosekey ntdelayexecution regcreatekeyexa regsetvalueexa regclosekey regcreatekeyexa regsetvalueexa regclosekey regcreatekeyexa regsetvalueexa regclosekey ntdelayexecution regcreatekeyexa regsetvalueexa regclosekey regcreatekeyexa regsetvalueexa regclosekey regcreatekeyexa regsetvalueexa regclosekey ntdelayexecution regcreatekeyexa regsetvalueexa regclosekey regcreatekeyexa regsetvalueexa regclosekey regcreatekeyexa regsetvalueexa regclosekey ntdelayexecution socket connect closesocket ntdelayexecution regcreatekeyexa regsetvalueexa regclosekey regcreatekeyexa regsetvalueexa regclosekey regcreatekeyexa regsetvalueexa regclosekey ntdelayexecution regcreatekeyexa regsetvalueexa regclosekey regcreatekeyexa regsetvalueexa regclosekey regcreatekeyexa regsetvalueexa regclosekey ntdelayexecution regcreatekeyexa regsetvalueexa regclosekey regcreatekeyexa regsetvalueexa regclosekey regcreatekeyexa regsetvalueexa regclosekey ntdelayexecution regcreatekeyexa regsetvalueexa regclosekey regcreatekeyexa regsetvalueexa regclosekey regcreatekeyexa regsetvalueexa regclosekey ntdelayexecution regcreatekeyexa regsetvalueexa regclosekey regcreatekeyexa regsetvalueexa regclosekey regcreatekeyexa regsetvalueexa regclosekey ntdelayexecution regcreatekeyexa regsetvalueexa regclosekey regcreatekeyexa regsetvalueexa regclosekey regcreatekeyexa regsetvalueexa regclosekey ntdelayexecution regcreatekeyexa regsetvalueexa regclosekey regcreatekeyexa regsetvalueexa regclosekey regcreatekeyexa regsetvalueexa regclosekey ntdelayexecution regcreatekeyexa regsetvalueexa regclosekey regcreatekeyexa regsetvalueexa regclosekey regcreatekeyexa regsetvalueexa regclosekey ntdelayexecution regcreatekeyexa regsetvalueexa regclosekey regcreatekeyexa regsetvalueexa regclosekey regcreatekeyexa regsetvalueexa regclosekey ntdelayexecution regcreatekeyexa regsetvalueexa regclosekey regcreatekeyexa regsetvalueexa regclosekey regcreatekeyexa regsetvalueexa regclosekey ntdelayexecution regcreatekeyexa regsetvalueexa regclosekey regcreatekeyexa regsetvalueexa regclosekey regcreatekeyexa regsetvalueexa regclosekey ntdelayexecution regcreatekeyexa regsetvalueexa regclosekey regcreatekeyexa regsetvalueexa regclosekey regcreatekeyexa regsetvalueexa regclosekey ntdelayexecution regcreatekeyexa regsetvalueexa regclosekey regcreatekeyexa regsetvalueexa regclosekey regcreatekeyexa regsetvalueexa regclosekey ntdelayexecution regcreatekeyexa regsetvalueexa regclosekey regcreatekeyexa regsetvalueexa regclosekey regcreatekeyexa regsetvalueexa regclosekey ntdelayexecution regcreatekeyexa regsetvalueexa regclosekey regcreatekeyexa regsetvalueexa regclosekey regcreatekeyexa regsetvalueexa regclosekey ntdelayexecution regcreatekeyexa regsetvalueexa regclosekey regcreatekeyexa regsetvalueexa regclosekey regcreatekeyexa regsetvalueexa regclosekey ntdelayexecution socket connect closesocket ntdelayexecution regcreatekeyexa regsetvalueexa regclosekey regcreatekeyexa regsetvalueexa regclosekey regcreatekeyexa regsetvalueexa regclosekey ntdelayexecution regcreatekeyexa regsetvalueexa regclosekey regcreatekeyexa regsetvalueexa regclosekey regcreatekeyexa regsetvalueexa regclosekey ntdelayexecution regcreatekeyexa regsetvalueexa regclosekey regcreatekeyexa regsetvalueexa regclosekey regcreatekeyexa regsetvalueexa regclosekey ntdelayexecution regcreatekeyexa regsetvalueexa regclosekey regcreatekeyexa regsetvalueexa regclosekey regcreatekeyexa regsetvalueexa regclosekey ntdelayexecution regcreatekeyexa regsetvalueexa regclosekey regcreatekeyexa regsetvalueexa regclosekey regcreatekeyexa regsetvalueexa regclosekey ntdelayexecution regcreatekeyexa regsetvalueexa regclosekey regcreatekeyexa regsetvalueexa regclosekey regcreatekeyexa regsetvalueexa regclosekey ntdelayexecution regcreatekeyexa regsetvalueexa regclosekey regcreatekeyexa regsetvalueexa regclosekey regcreatekeyexa regsetvalueexa regclosekey ntdelayexecution regcreatekeyexa regsetvalueexa regclosekey regcreatekeyexa regsetvalueexa regclosekey regcreatekeyexa regsetvalueexa regclosekey ntdelayexecution regcreatekeyexa regsetvalueexa regclosekey regcreatekeyexa regsetvalueexa regclosekey regcreatekeyexa regsetvalueexa regclosekey ntdelayexecution regcreatekeyexa regsetvalueexa regclosekey regcreatekeyexa regsetvalueexa regclosekey regcreatekeyexa regsetvalueexa regclosekey ntdelayexecution regcreatekeyexa regsetvalueexa regclosekey regcreatekeyexa regsetvalueexa regclosekey regcreatekeyexa regsetvalueexa regclosekey ntdelayexecution regcreatekeyexa regsetvalueexa regclosekey regcreatekeyexa regsetvalueexa regclosekey regcreatekeyexa regsetvalueexa regclosekey ntdelayexecution regcreatekeyexa regsetvalueexa regclosekey regcreatekeyexa regsetvalueexa regclosekey regcreatekeyexa regsetvalueexa regclosekey ntdelayexecution regcreatekeyexa regsetvalueexa regclosekey regcreatekeyexa regsetvalueexa regclosekey regcreatekeyexa regsetvalueexa regclosekey ntdelayexecution regcreatekeyexa regsetvalueexa regclosekey regcreatekeyexa regsetvalueexa regclosekey regcreatekeyexa regsetvalueexa regclosekey ntdelayexecution regcreatekeyexa regsetvalueexa regclosekey regcreatekeyexa regsetvalueexa regclosekey regcreatekeyexa regsetvalueexa regclosekey ntdelayexecution socket connect closesocket ntdelayexecution regcreatekeyexa regsetvalueexa regclosekey regcreatekeyexa regsetvalueexa regclosekey regcreatekeyexa regsetvalueexa regclosekey ntdelayexecution regcreatekeyexa regsetvalueexa regclosekey regcreatekeyexa regsetvalueexa regclosekey regcreatekeyexa regsetvalueexa regclosekey ntdelayexecution regcreatekeyexa regsetvalueexa regclosekey regcreatekeyexa regsetvalueexa regclosekey regcreatekeyexa regsetvalueexa regclosekey ntdelayexecution regcreatekeyexa regsetvalueexa regclosekey regcreatekeyexa regsetvalueexa regclosekey regcreatekeyexa regsetvalueexa regclosekey ntdelayexecution regcreatekeyexa regsetvalueexa regclosekey regcreatekeyexa regsetvalueexa regclosekey regcreatekeyexa regsetvalueexa regclosekey ntdelayexecution regcreatekeyexa regsetvalueexa regclosekey regcreatekeyexa regsetvalueexa regclosekey regcreatekeyexa regsetvalueexa regclosekey ntdelayexecution regcreatekeyexa regsetvalueexa regclosekey regcreatekeyexa regsetvalueexa regclosekey regcreatekeyexa regsetvalueexa regclosekey ntdelayexecution regcreatekeyexa regsetvalueexa regclosekey regcreatekeyexa regsetvalueexa regclosekey regcreatekeyexa regsetvalueexa regclosekey ntdelayexecution regcreatekeyexa regsetvalueexa regclosekey regcreatekeyexa regsetvalueexa regclosekey regcreatekeyexa regsetvalueexa regclosekey\n",
      "messageboxtimeouta ldrgetdllhandle ldrgetprocedureaddress ldrgetprocedureaddress ldrgetdllhandle ldrgetprocedureaddress ldrgetprocedureaddress ldrgetprocedureaddress ldrgetprocedureaddress ntallocatevirtualmemory ldrgetdllhandle ldrgetprocedureaddress ldrgetprocedureaddress ldrgetdllhandle ldrgetprocedureaddress ldrgetdllhandle ldrgetprocedureaddress ldrgetdllhandle ldrgetprocedureaddress ldrgetdllhandle ldrgetdllhandle ldrloaddll ldrgetprocedureaddress ldrgetdllhandle ldrgetprocedureaddress ldrgetdllhandle ldrgetprocedureaddress ldrgetdllhandle ldrgetdllhandle getsystemtimeasfiletime regopenkeyexa regqueryvalueexa regclosekey regopenkeyexa regqueryvalueexa regclosekey regopenkeyexw regqueryvalueexw regclosekey ntclose ntclose ldrloaddll ldrgetprocedureaddress ldrgetdllhandle ldrgetdllhandle getsysteminfo ldrloaddll ldrgetprocedureaddress ntprotectvirtualmemory ntprotectvirtualmemory ntprotectvirtualmemory __exception__ ntterminateprocess\n",
      "ldrgetdllhandle ldrgetprocedureaddress ldrgetprocedureaddress ntallocatevirtualmemory ntallocatevirtualmemory ntfreevirtualmemory ntallocatevirtualmemory ntfreevirtualmemory ntallocatevirtualmemory ntfreevirtualmemory ntallocatevirtualmemory ntfreevirtualmemory ntfreevirtualmemory ldrgetdllhandle ldrgetprocedureaddress ldrgetprocedureaddress ldrgetprocedureaddress ldrgetprocedureaddress ldrgetprocedureaddress ldrgetprocedureaddress ldrgetprocedureaddress ldrgetprocedureaddress ldrgetprocedureaddress ldrgetprocedureaddress ldrgetprocedureaddress ldrgetprocedureaddress ldrgetprocedureaddress ldrgetprocedureaddress ldrgetprocedureaddress ldrgetprocedureaddress ldrgetprocedureaddress ldrgetprocedureaddress ldrgetprocedureaddress ldrgetprocedureaddress ldrgetprocedureaddress ldrgetprocedureaddress ldrgetprocedureaddress ldrgetprocedureaddress ldrgetprocedureaddress ldrgetprocedureaddress ldrgetprocedureaddress ldrgetprocedureaddress ldrgetprocedureaddress ldrgetprocedureaddress ldrgetprocedureaddress ldrgetprocedureaddress ldrgetprocedureaddress ldrgetprocedureaddress ldrgetprocedureaddress ldrgetprocedureaddress ldrgetprocedureaddress ldrgetprocedureaddress ldrgetprocedureaddress ldrgetprocedureaddress ldrgetprocedureaddress ldrgetprocedureaddress ldrgetprocedureaddress ldrgetprocedureaddress ldrgetdllhandle ldrgetprocedureaddress ldrgetprocedureaddress ldrgetprocedureaddress ldrgetprocedureaddress ldrgetdllhandle ldrgetprocedureaddress ldrgetprocedureaddress ldrgetprocedureaddress ldrgetdllhandle ldrgetprocedureaddress ldrgetprocedureaddress ldrgetprocedureaddress ldrgetdllhandle ldrgetprocedureaddress ldrgetprocedureaddress ldrgetprocedureaddress ldrgetprocedureaddress ldrgetdllhandle ldrgetprocedureaddress ldrgetprocedureaddress ldrgetprocedureaddress ldrgetprocedureaddress ldrgetprocedureaddress ldrgetprocedureaddress ldrgetdllhandle ldrgetprocedureaddress ldrgetprocedureaddress ldrgetprocedureaddress ldrgetprocedureaddress ldrgetprocedureaddress ldrgetprocedureaddress ldrgetprocedureaddress ldrgetprocedureaddress ldrgetprocedureaddress ldrgetprocedureaddress ldrgetprocedureaddress ldrgetprocedureaddress ldrgetprocedureaddress ldrgetprocedureaddress ldrgetprocedureaddress ldrgetprocedureaddress ldrgetprocedureaddress ldrgetprocedureaddress ldrgetprocedureaddress ldrgetprocedureaddress ldrgetprocedureaddress ldrgetprocedureaddress ldrgetprocedureaddress ldrgetprocedureaddress ldrgetprocedureaddress ldrgetprocedureaddress ldrgetprocedureaddress ldrgetprocedureaddress ldrgetprocedureaddress ldrgetprocedureaddress ldrgetprocedureaddress ldrgetprocedureaddress ldrgetprocedureaddress ldrgetprocedureaddress ldrgetprocedureaddress ldrgetprocedureaddress ldrgetprocedureaddress ldrgetprocedureaddress ldrgetprocedureaddress ldrgetprocedureaddress ldrgetprocedureaddress ldrgetprocedureaddress ldrgetprocedureaddress ldrgetprocedureaddress ldrgetprocedureaddress ldrgetprocedureaddress ldrgetprocedureaddress ldrgetprocedureaddress ldrgetprocedureaddress ldrgetprocedureaddress ldrgetprocedureaddress ldrgetprocedureaddress ldrgetprocedureaddress ldrgetprocedureaddress ldrgetprocedureaddress ldrgetprocedureaddress ldrgetprocedureaddress ldrgetprocedureaddress ldrgetprocedureaddress ldrgetdllhandle ldrgetprocedureaddress ldrgetprocedureaddress ldrgetprocedureaddress ldrgetprocedureaddress ldrgetprocedureaddress ldrgetdllhandle ldrgetprocedureaddress ldrgetdllhandle ldrgetprocedureaddress ldrgetdllhandle ldrgetprocedureaddress ldrgetprocedureaddress ldrgetprocedureaddress ldrgetprocedureaddress ldrgetprocedureaddress ldrgetprocedureaddress ldrgetprocedureaddress ldrgetprocedureaddress ldrgetdllhandle ldrgetprocedureaddress ldrgetprocedureaddress ldrgetprocedureaddress ldrgetprocedureaddress ldrgetprocedureaddress ldrgetprocedureaddress regopenkeyexa regopenkeyexa regopenkeyexa ntopenkey ntqueryvaluekey ntclose ntopenkey ntqueryvaluekey ntclose ntclose ntqueryattributesfile ntqueryattributesfile ntqueryattributesfile ntqueryattributesfile loadstringa ntallocatevirtualmemory ntallocatevirtualmemory loadstringa loadstringa loadstringa loadstringa loadstringa loadstringa loadstringa loadstringa loadstringa loadstringa loadstringa loadstringa loadstringa loadstringa loadstringa loadstringa loadstringa loadstringa loadstringa loadstringa loadstringa loadstringa loadstringa loadstringa loadstringa loadstringa loadstringa loadstringa loadstringa loadstringa ldrgetdllhandle ldrgetprocedureaddress ldrgetdllhandle ldrgetprocedureaddress ldrgetprocedureaddress ldrgetprocedureaddress ldrgetprocedureaddress ldrgetprocedureaddress ldrgetprocedureaddress ldrgetprocedureaddress ldrgetprocedureaddress ldrgetprocedureaddress ldrgetprocedureaddress ldrgetprocedureaddress ldrgetprocedureaddress ldrgetprocedureaddress ldrgetprocedureaddress ldrgetprocedureaddress ldrgetprocedureaddress ldrgetprocedureaddress ldrgetprocedureaddress ldrgetprocedureaddress ldrgetprocedureaddress ldrgetprocedureaddress ldrgetprocedureaddress getsystemdirectorya ntopenfile ntclose ldrloaddll ldrgetprocedureaddress readprocessmemory readprocessmemory readprocessmemory readprocessmemory readprocessmemory ldrloaddll ldrgetprocedureaddress regcreatekeyexa regqueryvalueexa regclosekey regopenkeyexa regcreatekeyexa regclosekey regcreatekeyexa regsetvalueexa regsetvalueexa regsetvalueexa regsetvalueexa regsetvalueexa regsetvalueexa regqueryvalueexa regqueryvalueexa regqueryvalueexa regqueryvalueexa regqueryvalueexa regqueryvalueexa regqueryvalueexa regqueryvalueexa regqueryvalueexa regqueryvalueexa regqueryvalueexa regqueryvalueexa ldrloaddll ldrgetprocedureaddress ldrgetprocedureaddress ldrgetprocedureaddress ldrgetprocedureaddress ldrgetprocedureaddress ldrgetprocedureaddress ldrgetprocedureaddress ldrgetprocedureaddress ldrgetprocedureaddress ldrgetprocedureaddress ldrgetprocedureaddress ldrgetprocedureaddress ldrgetprocedureaddress ldrgetprocedureaddress ldrgetprocedureaddress ldrgetprocedureaddress ldrgetprocedureaddress ldrgetprocedureaddress ldrgetprocedureaddress ldrgetprocedureaddress ldrgetprocedureaddress ldrgetprocedureaddress ldrgetprocedureaddress ldrgetprocedureaddress ldrgetprocedureaddress ldrgetprocedureaddress ldrgetprocedureaddress ldrgetprocedureaddress ldrgetprocedureaddress ldrgetprocedureaddress ldrgetprocedureaddress ldrgetprocedureaddress ldrgetprocedureaddress ldrgetprocedureaddress ldrgetprocedureaddress ldrgetprocedureaddress ldrgetprocedureaddress ldrgetprocedureaddress ldrgetprocedureaddress ldrgetprocedureaddress ldrgetprocedureaddress ldrgetprocedureaddress ldrgetprocedureaddress ldrgetprocedureaddress ldrgetprocedureaddress ldrgetprocedureaddress ldrgetprocedureaddress ldrgetprocedureaddress ldrgetprocedureaddress ldrgetprocedureaddress ldrgetprocedureaddress ldrgetprocedureaddress ldrgetprocedureaddress ldrgetprocedureaddress ldrgetprocedureaddress ldrgetprocedureaddress ldrgetprocedureaddress ldrgetprocedureaddress ldrgetprocedureaddress ldrgetprocedureaddress ldrgetprocedureaddress ldrgetprocedureaddress ldrgetprocedureaddress ldrgetprocedureaddress ldrgetprocedureaddress ldrgetprocedureaddress ldrgetprocedureaddress ldrgetprocedureaddress ldrgetprocedureaddress ldrgetprocedureaddress ldrgetprocedureaddress ldrgetprocedureaddress ldrgetprocedureaddress ldrgetprocedureaddress ldrgetprocedureaddress ldrgetprocedureaddress ldrgetprocedureaddress ldrgetprocedureaddress ldrgetprocedureaddress ldrgetprocedureaddress ldrgetprocedureaddress ldrgetprocedureaddress ldrgetprocedureaddress ldrgetprocedureaddress ldrgetprocedureaddress ldrgetprocedureaddress ldrgetprocedureaddress ldrgetprocedureaddress ldrgetprocedureaddress ldrgetprocedureaddress ldrgetprocedureaddress ldrgetprocedureaddress ldrgetprocedureaddress ldrgetprocedureaddress ldrgetprocedureaddress ldrgetprocedureaddress ldrgetprocedureaddress ldrgetprocedureaddress ldrgetprocedureaddress ldrgetprocedureaddress ldrgetprocedureaddress ldrgetprocedureaddress ldrgetprocedureaddress ldrgetprocedureaddress ldrgetprocedureaddress ldrgetprocedureaddress ldrgetprocedureaddress ldrgetprocedureaddress ldrgetprocedureaddress ldrgetprocedureaddress ldrgetprocedureaddress readprocessmemory readprocessmemory readprocessmemory readprocessmemory readprocessmemory ldrloaddll ldrgetprocedureaddress regopenkeyexa regcreatekeyexa regclosekey regcreatekeyexa regsetvalueexa regsetvalueexa regsetvalueexa regsetvalueexa regsetvalueexa regsetvalueexa regqueryvalueexa regqueryvalueexa regqueryvalueexa regqueryvalueexa regqueryvalueexa regqueryvalueexa regqueryvalueexa regqueryvalueexa regqueryvalueexa regqueryvalueexa regqueryvalueexa regqueryvalueexa regqueryvalueexa regqueryvalueexa regqueryvalueexa regqueryvalueexa regqueryvalueexa regqueryvalueexa ldrgetprocedureaddress ldrgetdllhandle createthread regqueryvalueexa regqueryvalueexa regqueryvalueexa regqueryvalueexa regqueryvalueexa regqueryvalueexa regqueryvalueexa regqueryvalueexa regqueryvalueexa regqueryvalueexa regqueryvalueexa regqueryvalueexa ldrloaddll ldrgetprocedureaddress openscmanagera ldrgetprocedureaddress openservicea ldrgetprocedureaddress ldrloaddll ldrgetprocedureaddress ldrgetprocedureaddress openscmanagera openservicea ldrgetprocedureaddress uuidcreate ntopenthread ldrunloaddll ntallocatevirtualmemory ntduplicateobject ntallocatevirtualmemory ldrunloaddll ntclose ntopenthread ldrunloaddll ldrunloaddll getaddrinfo socket bind getsockname connect ntduplicateobject ntallocatevirtualmemory ntallocatevirtualmemory ntclose ldrloaddll ldrgetprocedureaddress coinitializeex coinitializeex ldrgetdllhandle ldrgetprocedureaddress ldrgetprocedureaddress ntduplicateobject ldrloaddll ldrgetprocedureaddress ldrloaddll ldrgetprocedureaddress ntduplicateobject ntallocatevirtualmemory ntopensection ntduplicateobject ntallocatevirtualmemory regcreatekeyexa regqueryvalueexa regqueryvalueexa regclosekey ntduplicateobject regqueryinfokeyw regqueryinfokeyw ntclose ntclose ntallocatevirtualmemory ntclose ntclose ntdeviceiocontrolfile ntclose ntallocatevirtualmemory ntdeviceiocontrolfile ntclose ntdeviceiocontrolfile ntclose regqueryinfokeyw regqueryinfokeyw regqueryinfokeyw ldrloaddll ldrgetprocedureaddress ldrloaddll ldrgetprocedureaddress ldrloaddll ldrgetprocedureaddress ldrloaddll ldrgetprocedureaddress regcreatekeyexw regopenkeyexw regopenkeyexw regqueryvalueexw regqueryvalueexw regclosekey regclosekey regcreatekeyexw regopenkeyexw regopenkeyexw regqueryvalueexw regqueryvalueexw regclosekey regclosekey regcreatekeyexw regopenkeyexw regopenkeyexw regopenkeyexw regqueryvalueexw regqueryvalueexw regclosekey regclosekey ldrloaddll ldrgetprocedureaddress ldrloaddll ldrgetprocedureaddress ldrgetprocedureaddress ldrgetprocedureaddress regcreatekeyexw regopenkeyexw regopenkeyexw regqueryvalueexw regqueryvalueexw regclosekey regclosekey ldrgetprocedureaddress getaddrinfo regcreatekeyexw regopenkeyexw regopenkeyexw regqueryvalueexw regqueryvalueexw regclosekey regclosekey getaddrinfo ldrgetprocedureaddress cocreateinstance cocreateinstance ntopenkey ntclose regopenkeyexw regclosekey regopenkeyexw regqueryvalueexw regclosekey regclosekey ntopenkey ntclose regopenkeyexw regclosekey regopenkeyexw regqueryvalueexw regclosekey regclosekey ldrgetprocedureaddress ldrloaddll ldrgetprocedureaddress ldrgetprocedureaddress ntopenkey ntclose regopenkeyexw regclosekey regopenkeyexw regqueryvalueexw regclosekey regclosekey regopenkeyexw regopenkeyexw ntquerykey ntquerykey regopenkeyexw regopenkeyexw regopenkeyexw regclosekey regqueryvalueexw regqueryvalueexw regopenkeyexw regqueryvalueexw regqueryvalueexw regqueryvalueexw regqueryvalueexw regclosekey regopenkeyexw regopenkeyexw regclosekey ntopenkey ntclose regopenkeyexw regclosekey regopenkeyexw regclosekey ldrloaddll ldrgetprocedureaddress ldrgetprocedureaddress ldrloaddll ldrgetprocedureaddress regopenkeyexw ldrgetprocedureaddress ldrgetprocedureaddress ldrgetprocedureaddress ntopenkey ntclose regopenkeyexw regclosekey regopenkeyexw regqueryvalueexw regclosekey regclosekey ntopenkey ntclose regopenkeyexw regclosekey regopenkeyexw regqueryvalueexw regclosekey regclosekey ntdeviceiocontrolfile ntclose ntallocatevirtualmemory ntdeviceiocontrolfile ntclose ntdeviceiocontrolfile ntclose ntdeviceiocontrolfile ntclose ntdeviceiocontrolfile ntclose ntdeviceiocontrolfile ntclose ntdeviceiocontrolfile ntclose ntdeviceiocontrolfile ntclose ntdeviceiocontrolfile ntclose regqueryvalueexa ldrloaddll seterrormode ldrloaddll ldrgetprocedureaddress seterrormode seterrormode ldrloaddll ldrgetprocedureaddress seterrormode getadaptersaddresses getadaptersaddresses ldrgetprocedureaddress ntdeviceiocontrolfile ntclose ntdeviceiocontrolfile ntclose getaddrinfo ldrunloaddll select ntclose select select select select select select select select\n",
      "ldrloaddll ldrgetprocedureaddress ldrgetprocedureaddress ldrgetprocedureaddress ldrgetprocedureaddress ldrgetprocedureaddress ldrgetprocedureaddress ldrgetprocedureaddress ldrgetprocedureaddress ldrgetprocedureaddress ldrgetprocedureaddress ldrgetprocedureaddress ldrgetprocedureaddress ldrgetprocedureaddress ldrgetprocedureaddress ldrgetprocedureaddress ldrgetprocedureaddress ldrgetprocedureaddress ldrgetprocedureaddress ldrgetprocedureaddress ldrgetprocedureaddress ldrgetprocedureaddress ldrgetprocedureaddress ldrgetprocedureaddress ldrgetprocedureaddress ldrgetprocedureaddress ldrgetprocedureaddress ldrgetprocedureaddress ldrgetprocedureaddress ldrgetprocedureaddress ldrgetprocedureaddress ldrgetprocedureaddress ldrgetprocedureaddress ldrgetprocedureaddress ldrgetprocedureaddress ldrgetprocedureaddress ldrgetprocedureaddress ldrgetprocedureaddress ldrgetprocedureaddress ldrgetprocedureaddress ldrgetprocedureaddress ldrgetprocedureaddress ldrgetprocedureaddress ldrgetprocedureaddress ldrgetprocedureaddress ldrgetprocedureaddress ldrgetprocedureaddress ldrgetprocedureaddress ldrgetprocedureaddress ldrgetprocedureaddress ldrgetprocedureaddress ldrgetprocedureaddress ldrgetprocedureaddress ldrgetprocedureaddress ldrgetprocedureaddress ldrgetprocedureaddress ldrgetprocedureaddress ldrgetprocedureaddress ldrgetprocedureaddress ldrgetprocedureaddress ldrgetprocedureaddress ldrgetprocedureaddress ldrgetprocedureaddress ldrgetprocedureaddress ldrgetprocedureaddress ldrgetprocedureaddress ldrgetprocedureaddress ldrgetprocedureaddress ldrgetprocedureaddress ldrgetprocedureaddress ldrgetprocedureaddress ldrgetprocedureaddress ldrgetprocedureaddress ldrgetprocedureaddress ldrgetprocedureaddress ldrgetprocedureaddress ldrgetprocedureaddress ldrgetprocedureaddress ldrgetprocedureaddress ldrgetprocedureaddress ldrgetprocedureaddress ldrgetprocedureaddress ldrgetprocedureaddress ldrgetprocedureaddress ldrgetprocedureaddress ldrgetprocedureaddress ldrgetprocedureaddress ldrgetprocedureaddress ldrgetprocedureaddress ldrgetprocedureaddress ldrgetprocedureaddress ldrgetprocedureaddress ntallocatevirtualmemory seterrormode loadstringa oleinitialize ldrloaddll ldrgetprocedureaddress ntallocatevirtualmemory ntfreevirtualmemory ntallocatevirtualmemory ntallocatevirtualmemory getsysteminfo ntallocatevirtualmemory ntallocatevirtualmemory ntallocatevirtualmemory ntallocatevirtualmemory ntallocatevirtualmemory ntallocatevirtualmemory ntallocatevirtualmemory ntprotectvirtualmemory ldrgetdllhandle ldrgetprocedureaddress ldrgetprocedureaddress ldrgetprocedureaddress ldrgetprocedureaddress ldrgetprocedureaddress ldrgetprocedureaddress ldrgetprocedureaddress ldrgetprocedureaddress ldrgetprocedureaddress ldrgetprocedureaddress ldrgetprocedureaddress ldrgetprocedureaddress ldrgetprocedureaddress ldrgetprocedureaddress ldrgetprocedureaddress ldrgetprocedureaddress ldrgetprocedureaddress ldrgetprocedureaddress ldrgetprocedureaddress ldrgetprocedureaddress ldrgetprocedureaddress ldrgetprocedureaddress ldrgetprocedureaddress ldrgetprocedureaddress ldrgetprocedureaddress ldrgetprocedureaddress ldrgetprocedureaddress ldrgetprocedureaddress ldrgetprocedureaddress ldrgetprocedureaddress ldrgetprocedureaddress ldrgetprocedureaddress ldrgetprocedureaddress ldrgetprocedureaddress ldrgetprocedureaddress ldrgetprocedureaddress ldrgetprocedureaddress ldrgetprocedureaddress ldrgetprocedureaddress ldrgetprocedureaddress ldrgetprocedureaddress ldrgetprocedureaddress ldrgetprocedureaddress ldrgetprocedureaddress ldrgetprocedureaddress ldrgetprocedureaddress ldrgetprocedureaddress ldrgetprocedureaddress ldrgetprocedureaddress ldrgetprocedureaddress ldrgetprocedureaddress ldrgetprocedureaddress ldrgetprocedureaddress ldrgetprocedureaddress ldrgetprocedureaddress ldrgetprocedureaddress ldrgetdllhandle ldrgetprocedureaddress ldrgetprocedureaddress getsystemmetrics searchpathw ldrloaddll ldrgetprocedureaddress findresourceexw loadresource findresourceexw loadresource ldrgetdllhandle ldrgetprocedureaddress ldrgetprocedureaddress ldrgetprocedureaddress ldrgetprocedureaddress ldrgetprocedureaddress ldrgetprocedureaddress getsystemmetrics getsystemmetrics getsystemmetrics getsystemmetrics getsystemmetrics getsystemmetrics findresourceexw loadresource findresourceexw loadresource ntclose ntclose ntopenkey ntqueryvaluekey getfileattributesw ntqueryvaluekey getfileattributesw ntqueryvaluekey getfileattributesw ntqueryvaluekey getfileattributesw getsystemmetrics regopenkeyexa setwindowshookexa ntallocatevirtualmemory ntallocatevirtualmemory ntallocatevirtualmemory ntallocatevirtualmemory ntallocatevirtualmemory ntallocatevirtualmemory ntallocatevirtualmemory ntallocatevirtualmemory ntallocatevirtualmemory ntallocatevirtualmemory ntallocatevirtualmemory ntallocatevirtualmemory ntprotectvirtualmemory ntallocatevirtualmemory ntallocatevirtualmemory ntallocatevirtualmemory ntallocatevirtualmemory ntprotectvirtualmemory ntallocatevirtualmemory regopenkeyexa ntcreatesection ntmapviewofsection ntallocatevirtualmemory gettemppathw ldrloaddll ldrgetprocedureaddress cryptacquirecontextw ldrgetprocedureaddress ntcreatefile getfiletype getfilesize setfilepointer setendoffile setfilepointer globalmemorystatus ntcreatesection ntmapviewofsection ntclose ntqueryinformationfile ntallocatevirtualmemory ntallocatevirtualmemory getsystemmetrics getsystemmetrics ntallocatevirtualmemory ntallocatevirtualmemory getsystemmetrics ntallocatevirtualmemory getsystemmetrics getsystemmetrics ldrloaddll ldrgetprocedureaddress getsystemmetrics getsystemmetrics ldrgetdllhandle ldrgetprocedureaddress ntopenkey ntclose ntopensection ntmapviewofsection regopenkeyexw regqueryvalueexw regclosekey ldrloaddll ldrgetprocedureaddress ldrgetprocedureaddress ntopensection ntmapviewofsection ntopenkey ntclose regopenkeyexw regclosekey regopenkeyexw regqueryvalueexw regclosekey regclosekey ntopenkey ntclose regopenkeyexw regclosekey regopenkeyexw regqueryvalueexw regclosekey regclosekey regopenkeyexw regopenkeyexw ntquerykey ntquerykey regopenkeyexw regqueryvalueexw regclosekey regopenkeyexw regqueryvalueexw regclosekey regqueryvalueexw regqueryvalueexw regopenkeyexw regqueryvalueexw regqueryvalueexw regqueryvalueexw regqueryvalueexw regclosekey regopenkeyexw regopenkeyexw regclosekey cocreateinstance getfileattributesw getsystemdirectoryw getfileattributesw gettemppathw getfileattributesw __exception__ getfileattributesw findfirstfileexw ntclose getfileattributesw findfirstfileexw ntclose findfirstfileexw ntclose ntcreatefile getfiletype ntcreatefile ntclose __exception__ ntcreatefile getfiletype ntcreatefile ntclose __exception__ ntopenkey ntclose regopenkeyexw regclosekey regopenkeyexw regqueryvalueexw regclosekey regclosekey ntopenkey ntclose regopenkeyexw regclosekey regopenkeyexw regqueryvalueexw regclosekey regclosekey regopenkeyexw regopenkeyexw ntquerykey ntquerykey regopenkeyexw regqueryvalueexw regclosekey regopenkeyexw regqueryvalueexw regclosekey regqueryvalueexw regqueryvalueexw regopenkeyexw regqueryvalueexw regqueryvalueexw regqueryvalueexw regqueryvalueexw regclosekey regopenkeyexw regopenkeyexw regclosekey cocreateinstance ntopenkey ntclose regopenkeyexw regclosekey regopenkeyexw regopenkeyexw regopenkeyexw regopenkeyexw regopenkeyexw regopenkeyexw regclosekey regclosekey regopenkeyexw regopenkeyexw regqueryvalueexw ntclose ntcreatefile setfilepointer ntreadfile setfilepointer setfilepointer ntreadfile ntreadfile setfilepointer ntreadfile ntreadfile ntreadfile setfilepointer setfilepointer ntreadfile ntreadfile setfilepointer setfilepointer ntreadfile setfilepointer ntreadfile setfilepointer setfilepointer ntreadfile ntreadfile setfilepointer setfilepointer setfilepointer setfilepointer ntreadfile setfilepointer ntreadfile setfilepointer setfilepointer setfilepointer ntreadfile ntreadfile setfilepointer setfilepointer ntreadfile getfilesize ntcreatesection ntmapviewofsection regclosekey regclosekey regclosekey regclosekey regcreatekeyexa regsetvalueexa regclosekey __exception__ regcreatekeyexa regsetvalueexa regclosekey cocreateinstance ntcreatefile ntwritefile ntwritefile ntwritefile ntwritefile ntwritefile ntwritefile ntwritefile ntwritefile ntwritefile ntwritefile ntwritefile ntwritefile ntwritefile ntwritefile ntwritefile ntwritefile ntwritefile ntwritefile ntwritefile ntwritefile ntwritefile ntwritefile ntclose seterrormode ldrloaddll seterrormode ldrgetprocedureaddress ntallocatevirtualmemory ntallocatevirtualmemory getsystemwindowsdirectoryw getsystemwindowsdirectoryw getsystemwindowsdirectoryw loadstringw getsystemwindowsdirectoryw getsystemdirectoryw regopenkeyexw ldrloaddll ldrgetprocedureaddress regqueryvalueexw regclosekey regopenkeyexw regqueryvalueexw regclosekey ntcreatemutant ntcreatemutant getnativesysteminfo getsystemwindowsdirectoryw getsystemwindowsdirectoryw ntclose ldrloaddll ldrgetprocedureaddress ldrloaddll ntquerysysteminformation regopenkeyexa regqueryvalueexa regclosekey ntopenkey ntqueryvaluekey ntclose ntopenkey ntqueryvaluekey ntclose ntopenkey ntqueryvaluekey ntclose regopenkeyexw globalmemorystatusex ntopenkey ntopenkey ntqueryvaluekey ntclose ntduplicateobject ldrgetprocedureaddress ntduplicateobject getvolumenameforvolumemountpointw ntclose regopenkeyexw regopenkeyexw regclosekey regqueryvalueexw regclosekey regopenkeyexw regopenkeyexw regclosekey regqueryvalueexw regclosekey ntduplicateobject ntclose getvolumenameforvolumemountpointw ntclose regopenkeyexw regopenkeyexw regclosekey regqueryvalueexw regclosekey regopenkeyexw regopenkeyexw regclosekey regqueryvalueexw regclosekey ntduplicateobject ntclose getvolumenameforvolumemountpointw ntclose regopenkeyexw regopenkeyexw regclosekey regqueryvalueexw regclosekey regopenkeyexw regopenkeyexw regclosekey regqueryvalueexw regclosekey getvolumepathnamesforvolumenamew getvolumepathnamesforvolumenamew ntclose getvolumepathnamesforvolumenamew getvolumepathnamesforvolumenamew ntclose getvolumepathnamesforvolumenamew getvolumepathnamesforvolumenamew getvolumepathnamesforvolumenamew getvolumepathnamesforvolumenamew ntclose ldrgetprocedureaddress ldrunloaddll ntclose shgetspecialfolderlocation seterrormode ldrloaddll seterrormode ldrgetprocedureaddress coinitializeex ldrgetprocedureaddress couninitialize cocreateinstance getfileattributesw getfileattributesw getfileattributesw findfirstfileexw ntquerydirectoryfile getfileattributesw ntallocatevirtualmemory ntallocatevirtualmemory getfileattributesw findfirstfileexw ntclose findfirstfileexw ntclose findfirstfileexw ntclose findfirstfileexw ntclose findfirstfileexw ntclose findfirstfileexw ntclose findfirstfileexw ntclose findfirstfileexw ntclose cocreateinstance getfileattributesw getfileattributesw getfileattributesw findfirstfileexw ntquerydirectoryfile getfileattributesw getfileattributesw findfirstfileexw ntclose findfirstfileexw ntclose findfirstfileexw ntclose findfirstfileexw ntclose findfirstfileexw ntclose findfirstfileexw ntclose findfirstfileexw ntclose findfirstfileexw ntclose findfirstfileexw ntclose getfileattributesw getfileattributesw findfirstfileexw ntclose findfirstfileexw ntclose findfirstfileexw ntclose findfirstfileexw ntclose findfirstfileexw ntclose findfirstfileexw ntclose findfirstfileexw ntclose findfirstfileexw ntclose findfirstfileexw ntclose ntquerydirectoryfile ntclose getfileattributesw findfirstfileexw ntclose findfirstfileexw ntclose findfirstfileexw ntclose findfirstfileexw ntclose findfirstfileexw ntclose findfirstfileexw ntclose findfirstfileexw ntclose findfirstfileexw ntclose cocreateinstance getfileattributesw getfileattributesw getfileattributesw findfirstfileexw ntquerydirectoryfile getfileattributesw getfileattributesw findfirstfileexw ntclose findfirstfileexw ntclose findfirstfileexw ntclose findfirstfileexw ntclose findfirstfileexw ntclose findfirstfileexw ntclose findfirstfileexw ntclose findfirstfileexw ntclose findfirstfileexw ntclose cocreateinstance getfileattributesw getfileattributesw getfileattributesw findfirstfileexw ntquerydirectoryfile getfileattributesw getfileattributesw findfirstfileexw ntclose findfirstfileexw ntclose findfirstfileexw ntclose findfirstfileexw ntclose findfirstfileexw ntclose findfirstfileexw ntclose findfirstfileexw ntclose findfirstfileexw ntclose findfirstfileexw ntclose findfirstfileexw ntclose getfileattributesw getfileattributesw findfirstfileexw ntclose findfirstfileexw ntclose findfirstfileexw ntclose findfirstfileexw ntclose findfirstfileexw ntclose findfirstfileexw ntclose findfirstfileexw ntclose findfirstfileexw ntclose findfirstfileexw ntclose findfirstfileexw ntclose getfileattributesw getfileattributesw findfirstfileexw ntclose findfirstfileexw ntclose findfirstfileexw ntclose findfirstfileexw ntclose findfirstfileexw ntclose findfirstfileexw ntclose findfirstfileexw ntclose findfirstfileexw ntclose findfirstfileexw ntclose findfirstfileexw ntclose getfileattributesw getfileattributesw findfirstfileexw ntclose findfirstfileexw ntclose findfirstfileexw ntclose findfirstfileexw ntclose findfirstfileexw ntclose findfirstfileexw ntclose findfirstfileexw ntclose findfirstfileexw ntclose findfirstfileexw ntclose findfirstfileexw ntclose ntquerydirectoryfile ntclose getfileattributesw findfirstfileexw ntclose findfirstfileexw ntclose findfirstfileexw ntclose findfirstfileexw ntclose findfirstfileexw ntclose findfirstfileexw ntclose findfirstfileexw ntclose findfirstfileexw ntclose findfirstfileexw ntclose cocreateinstance getfileattributesw getfileattributesw getfileattributesw findfirstfileexw ntquerydirectoryfile ntquerydirectoryfile ntclose getfileattributesw getfileattributesw findfirstfileexw ntclose findfirstfileexw ntclose findfirstfileexw ntclose findfirstfileexw ntclose findfirstfileexw ntclose findfirstfileexw ntclose findfirstfileexw ntclose findfirstfileexw ntclose findfirstfileexw ntclose cocreateinstance getfileattributesw getfileattributesw getfileattributesw findfirstfileexw ntquerydirectoryfile getfileattributesw getfileattributesw findfirstfileexw ntclose findfirstfileexw ntclose findfirstfileexw ntclose findfirstfileexw ntclose findfirstfileexw ntclose findfirstfileexw ntclose findfirstfileexw ntclose findfirstfileexw ntclose findfirstfileexw ntclose findfirstfileexw ntclose getfileattributesw getfileattributesw findfirstfileexw ntclose findfirstfileexw ntclose findfirstfileexw ntclose findfirstfileexw ntclose findfirstfileexw ntclose findfirstfileexw ntclose findfirstfileexw ntclose findfirstfileexw ntclose findfirstfileexw ntclose findfirstfileexw ntclose getfileattributesw getfileattributesw findfirstfileexw ntclose findfirstfileexw ntclose findfirstfileexw ntclose findfirstfileexw ntclose findfirstfileexw ntclose findfirstfileexw ntclose findfirstfileexw ntclose findfirstfileexw ntclose findfirstfileexw ntclose findfirstfileexw ntclose ntquerydirectoryfile ntclose getfileattributesw findfirstfileexw ntclose findfirstfileexw ntclose findfirstfileexw ntclose findfirstfileexw ntclose findfirstfileexw ntclose findfirstfileexw ntclose findfirstfileexw ntclose findfirstfileexw ntclose findfirstfileexw ntclose cocreateinstance getfileattributesw getfileattributesw getfileattributesw findfirstfileexw ntquerydirectoryfile ntquerydirectoryfile ntclose getfileattributesw getfileattributesw findfirstfileexw ntclose findfirstfileexw ntclose findfirstfileexw ntclose findfirstfileexw ntclose findfirstfileexw ntclose findfirstfileexw ntclose findfirstfileexw ntclose findfirstfileexw ntclose findfirstfileexw ntclose cocreateinstance getfileattributesw getfileattributesw getfileattributesw findfirstfileexw ntquerydirectoryfile getfileattributesw getfileattributesw findfirstfileexw ntclose findfirstfileexw ntclose findfirstfileexw ntclose findfirstfileexw ntclose findfirstfileexw ntclose findfirstfileexw ntclose findfirstfileexw ntclose findfirstfileexw ntclose findfirstfileexw ntclose findfirstfileexw ntclose getfileattributesw getfileattributesw findfirstfileexw ntclose findfirstfileexw ntclose findfirstfileexw ntclose findfirstfileexw ntclose findfirstfileexw ntclose findfirstfileexw ntclose findfirstfileexw ntclose findfirstfileexw ntclose findfirstfileexw ntclose findfirstfileexw ntclose getfileattributesw getfileattributesw findfirstfileexw ntclose findfirstfileexw ntclose findfirstfileexw ntclose findfirstfileexw ntclose findfirstfileexw ntclose findfirstfileexw ntclose findfirstfileexw ntclose findfirstfileexw ntclose findfirstfileexw ntclose findfirstfileexw ntclose ntquerydirectoryfile ntclose getfileattributesw findfirstfileexw ntclose findfirstfileexw ntclose findfirstfileexw ntclose findfirstfileexw ntclose findfirstfileexw ntclose findfirstfileexw ntclose findfirstfileexw ntclose findfirstfileexw ntclose findfirstfileexw ntclose cocreateinstance getfileattributesw getfileattributesw getfileattributesw findfirstfileexw ntquerydirectoryfile ntquerydirectoryfile ntclose getfileattributesw getfileattributesw findfirstfileexw ntclose findfirstfileexw ntclose findfirstfileexw ntclose findfirstfileexw ntclose findfirstfileexw ntclose findfirstfileexw ntclose findfirstfileexw ntclose findfirstfileexw ntclose findfirstfileexw ntclose cocreateinstance getfileattributesw getfileattributesw getfileattributesw findfirstfileexw ntquerydirectoryfile getfileattributesw getfileattributesw findfirstfileexw ntclose findfirstfileexw ntclose findfirstfileexw ntclose findfirstfileexw ntclose findfirstfileexw ntclose findfirstfileexw ntclose findfirstfileexw ntclose findfirstfileexw ntclose findfirstfileexw ntclose findfirstfileexw ntclose getfileattributesw getfileattributesw findfirstfileexw ntclose findfirstfileexw ntclose findfirstfileexw ntclose findfirstfileexw ntclose findfirstfileexw ntclose findfirstfileexw ntclose findfirstfileexw ntclose findfirstfileexw ntclose findfirstfileexw ntclose findfirstfileexw ntclose getfileattributesw getfileattributesw findfirstfileexw ntclose findfirstfileexw ntclose findfirstfileexw ntclose findfirstfileexw ntclose findfirstfileexw ntclose findfirstfileexw ntclose findfirstfileexw ntclose findfirstfileexw ntclose findfirstfileexw ntclose findfirstfileexw ntclose ntquerydirectoryfile ntclose getfileattributesw findfirstfileexw ntclose findfirstfileexw ntclose findfirstfileexw ntclose findfirstfileexw ntclose findfirstfileexw ntclose findfirstfileexw ntclose findfirstfileexw ntclose findfirstfileexw ntclose findfirstfileexw ntclose cocreateinstance getfileattributesw getfileattributesw getfileattributesw findfirstfileexw ntquerydirectoryfile ntquerydirectoryfile ntclose ntquerydirectoryfile ntclose getfileattributesw getfileattributesw findfirstfileexw ntclose findfirstfileexw ntclose findfirstfileexw ntclose findfirstfileexw ntclose findfirstfileexw ntclose findfirstfileexw ntclose findfirstfileexw ntclose findfirstfileexw ntclose cocreateinstance getfileattributesw getfileattributesw getfileattributesw findfirstfileexw ntquerydirectoryfile getfileattributesw getfileattributesw findfirstfileexw ntclose findfirstfileexw ntclose findfirstfileexw ntclose findfirstfileexw ntclose findfirstfileexw ntclose findfirstfileexw ntclose findfirstfileexw ntclose findfirstfileexw ntclose findfirstfileexw ntclose getfileattributesw getfileattributesw findfirstfileexw ntclose findfirstfileexw ntclose findfirstfileexw ntclose findfirstfileexw ntclose findfirstfileexw ntclose findfirstfileexw ntclose findfirstfileexw ntclose findfirstfileexw ntclose findfirstfileexw ntclose ntquerydirectoryfile ntclose getfileattributesw findfirstfileexw ntclose findfirstfileexw ntclose findfirstfileexw ntclose findfirstfileexw ntclose findfirstfileexw ntclose findfirstfileexw ntclose findfirstfileexw ntclose findfirstfileexw ntclose cocreateinstance getfileattributesw getfileattributesw getfileattributesw findfirstfileexw ntquerydirectoryfile getfileattributesw getfileattributesw findfirstfileexw ntclose findfirstfileexw ntclose findfirstfileexw ntclose findfirstfileexw ntclose findfirstfileexw ntclose findfirstfileexw ntclose findfirstfileexw ntclose findfirstfileexw ntclose findfirstfileexw ntclose cocreateinstance getfileattributesw getfileattributesw getfileattributesw findfirstfileexw ntquerydirectoryfile getfileattributesw getfileattributesw findfirstfileexw ntclose findfirstfileexw ntclose findfirstfileexw ntclose findfirstfileexw ntclose findfirstfileexw ntclose findfirstfileexw ntclose findfirstfileexw ntclose findfirstfileexw ntclose findfirstfileexw ntclose findfirstfileexw ntclose getfileattributesw getfileattributesw findfirstfileexw ntclose findfirstfileexw ntclose findfirstfileexw ntclose findfirstfileexw ntclose findfirstfileexw ntclose findfirstfileexw ntclose findfirstfileexw ntclose findfirstfileexw ntclose findfirstfileexw ntclose findfirstfileexw ntclose ntquerydirectoryfile ntclose getfileattributesw findfirstfileexw ntclose findfirstfileexw ntclose findfirstfileexw ntclose findfirstfileexw ntclose findfirstfileexw ntclose findfirstfileexw ntclose findfirstfileexw ntclose findfirstfileexw ntclose findfirstfileexw ntclose cocreateinstance getfileattributesw getfileattributesw getfileattributesw findfirstfileexw ntquerydirectoryfile getfileattributesw getfileattributesw findfirstfileexw ntclose findfirstfileexw ntclose findfirstfileexw ntclose findfirstfileexw ntclose findfirstfileexw ntclose findfirstfileexw ntclose findfirstfileexw ntclose findfirstfileexw ntclose findfirstfileexw ntclose findfirstfileexw ntclose cocreateinstance getfileattributesw getfileattributesw getfileattributesw findfirstfileexw ntquerydirectoryfile getfileattributesw getfileattributesw findfirstfileexw ntclose findfirstfileexw ntclose findfirstfileexw ntclose findfirstfileexw ntclose findfirstfileexw ntclose findfirstfileexw ntclose findfirstfileexw ntclose findfirstfileexw ntclose findfirstfileexw ntclose findfirstfileexw ntclose findfirstfileexw ntclose getfileattributesw getfileattributesw findfirstfileexw ntclose findfirstfileexw ntclose findfirstfileexw ntclose findfirstfileexw ntclose findfirstfileexw ntclose findfirstfileexw ntclose findfirstfileexw ntclose findfirstfileexw ntclose findfirstfileexw ntclose findfirstfileexw ntclose findfirstfileexw ntclose getfileattributesw getfileattributesw findfirstfileexw ntclose findfirstfileexw ntclose findfirstfileexw ntclose findfirstfileexw ntclose findfirstfileexw ntclose findfirstfileexw ntclose findfirstfileexw ntclose findfirstfileexw ntclose findfirstfileexw ntclose findfirstfileexw ntclose findfirstfileexw ntclose getfileattributesw getfileattributesw findfirstfileexw ntclose findfirstfileexw ntclose findfirstfileexw ntclose findfirstfileexw ntclose findfirstfileexw ntclose findfirstfileexw ntclose findfirstfileexw ntclose findfirstfileexw ntclose findfirstfileexw ntclose findfirstfileexw ntclose findfirstfileexw ntclose getfileattributesw getfileattributesw findfirstfileexw ntclose findfirstfileexw ntclose findfirstfileexw ntclose findfirstfileexw ntclose findfirstfileexw ntclose findfirstfileexw ntclose findfirstfileexw ntclose findfirstfileexw ntclose findfirstfileexw ntclose findfirstfileexw ntclose findfirstfileexw ntclose getfileattributesw getfileattributesw findfirstfileexw ntclose findfirstfileexw ntclose findfirstfileexw ntclose findfirstfileexw ntclose findfirstfileexw ntclose findfirstfileexw ntclose findfirstfileexw ntclose findfirstfileexw ntclose findfirstfileexw ntclose findfirstfileexw ntclose findfirstfileexw ntclose getfileattributesw getfileattributesw findfirstfileexw ntclose findfirstfileexw ntclose findfirstfileexw ntclose findfirstfileexw ntclose findfirstfileexw ntclose findfirstfileexw ntclose findfirstfileexw ntclose findfirstfileexw ntclose findfirstfileexw ntclose findfirstfileexw ntclose findfirstfileexw ntclose getfileattributesw getfileattributesw findfirstfileexw ntclose findfirstfileexw ntclose findfirstfileexw ntclose findfirstfileexw ntclose findfirstfileexw ntclose findfirstfileexw ntclose findfirstfileexw ntclose findfirstfileexw ntclose findfirstfileexw ntclose findfirstfileexw ntclose findfirstfileexw ntclose getfileattributesw getfileattributesw findfirstfileexw ntclose findfirstfileexw ntclose findfirstfileexw ntclose findfirstfileexw ntclose findfirstfileexw ntclose findfirstfileexw ntclose findfirstfileexw ntclose findfirstfileexw ntclose findfirstfileexw ntclose findfirstfileexw ntclose findfirstfileexw ntclose getfileattributesw getfileattributesw findfirstfileexw ntclose findfirstfileexw ntclose findfirstfileexw ntclose findfirstfileexw ntclose findfirstfileexw ntclose findfirstfileexw ntclose findfirstfileexw ntclose findfirstfileexw ntclose findfirstfileexw ntclose findfirstfileexw ntclose findfirstfileexw ntclose getfileattributesw getfileattributesw findfirstfileexw ntclose findfirstfileexw ntclose findfirstfileexw ntclose findfirstfileexw ntclose findfirstfileexw ntclose findfirstfileexw ntclose findfirstfileexw ntclose findfirstfileexw ntclose findfirstfileexw ntclose findfirstfileexw ntclose findfirstfileexw ntclose getfileattributesw getfileattributesw findfirstfileexw ntclose findfirstfileexw ntclose findfirstfileexw ntclose findfirstfileexw ntclose findfirstfileexw ntclose findfirstfileexw ntclose findfirstfileexw ntclose findfirstfileexw ntclose findfirstfileexw ntclose findfirstfileexw ntclose findfirstfileexw ntclose getfileattributesw getfileattributesw findfirstfileexw ntclose findfirstfileexw ntclose findfirstfileexw ntclose findfirstfileexw ntclose findfirstfileexw ntclose findfirstfileexw ntclose findfirstfileexw ntclose findfirstfileexw ntclose findfirstfileexw ntclose findfirstfileexw ntclose findfirstfileexw ntclose getfileattributesw getfileattributesw findfirstfileexw ntclose findfirstfileexw ntclose findfirstfileexw ntclose findfirstfileexw ntclose findfirstfileexw ntclose findfirstfileexw ntclose findfirstfileexw ntclose findfirstfileexw ntclose findfirstfileexw ntclose findfirstfileexw ntclose findfirstfileexw ntclose getfileattributesw getfileattributesw findfirstfileexw ntclose findfirstfileexw ntclose findfirstfileexw ntclose findfirstfileexw ntclose findfirstfileexw ntclose findfirstfileexw ntclose findfirstfileexw ntclose findfirstfileexw ntclose findfirstfileexw ntclose findfirstfileexw ntclose findfirstfileexw ntclose getfileattributesw getfileattributesw findfirstfileexw ntclose findfirstfileexw ntclose findfirstfileexw ntclose findfirstfileexw ntclose findfirstfileexw ntclose findfirstfileexw ntclose findfirstfileexw ntclose findfirstfileexw ntclose findfirstfileexw ntclose findfirstfileexw ntclose findfirstfileexw ntclose getfileattributesw getfileattributesw findfirstfileexw ntclose findfirstfileexw ntclose findfirstfileexw ntclose findfirstfileexw ntclose findfirstfileexw ntclose findfirstfileexw ntclose findfirstfileexw ntclose findfirstfileexw ntclose findfirstfileexw ntclose findfirstfileexw ntclose findfirstfileexw ntclose getfileattributesw getfileattributesw findfirstfileexw ntclose findfirstfileexw ntclose findfirstfileexw ntclose findfirstfileexw ntclose findfirstfileexw ntclose findfirstfileexw ntclose findfirstfileexw ntclose findfirstfileexw ntclose findfirstfileexw ntclose findfirstfileexw ntclose findfirstfileexw ntclose getfileattributesw getfileattributesw findfirstfileexw ntclose findfirstfileexw ntclose findfirstfileexw ntclose findfirstfileexw ntclose findfirstfileexw ntclose findfirstfileexw ntclose findfirstfileexw ntclose findfirstfileexw ntclose findfirstfileexw ntclose findfirstfileexw ntclose findfirstfileexw ntclose getfileattributesw getfileattributesw findfirstfileexw ntclose findfirstfileexw ntclose findfirstfileexw ntclose findfirstfileexw ntclose findfirstfileexw ntclose findfirstfileexw ntclose findfirstfileexw ntclose findfirstfileexw ntclose findfirstfileexw ntclose findfirstfileexw ntclose findfirstfileexw ntclose getfileattributesw getfileattributesw findfirstfileexw ntclose findfirstfileexw ntclose findfirstfileexw ntclose findfirstfileexw ntclose findfirstfileexw ntclose findfirstfileexw ntclose findfirstfileexw ntclose findfirstfileexw ntclose findfirstfileexw ntclose findfirstfileexw ntclose findfirstfileexw ntclose getfileattributesw getfileattributesw findfirstfileexw ntclose findfirstfileexw ntclose findfirstfileexw ntclose findfirstfileexw ntclose findfirstfileexw ntclose findfirstfileexw ntclose findfirstfileexw ntclose findfirstfileexw ntclose findfirstfileexw ntclose findfirstfileexw ntclose findfirstfileexw ntclose getfileattributesw getfileattributesw findfirstfileexw ntclose findfirstfileexw ntclose findfirstfileexw ntclose findfirstfileexw ntclose findfirstfileexw ntclose findfirstfileexw ntclose findfirstfileexw ntclose findfirstfileexw ntclose findfirstfileexw ntclose findfirstfileexw ntclose findfirstfileexw ntclose getfileattributesw getfileattributesw findfirstfileexw ntclose findfirstfileexw ntclose findfirstfileexw ntclose findfirstfileexw ntclose findfirstfileexw ntclose findfirstfileexw ntclose findfirstfileexw ntclose findfirstfileexw ntclose findfirstfileexw ntclose findfirstfileexw ntclose findfirstfileexw ntclose getfileattributesw getfileattributesw findfirstfileexw ntclose findfirstfileexw ntclose findfirstfileexw ntclose findfirstfileexw ntclose findfirstfileexw ntclose findfirstfileexw ntclose findfirstfileexw ntclose findfirstfileexw ntclose findfirstfileexw ntclose findfirstfileexw ntclose findfirstfileexw ntclose getfileattributesw getfileattributesw findfirstfileexw ntclose findfirstfileexw ntclose findfirstfileexw ntclose findfirstfileexw ntclose findfirstfileexw ntclose findfirstfileexw ntclose findfirstfileexw ntclose findfirstfileexw ntclose findfirstfileexw ntclose findfirstfileexw ntclose findfirstfileexw ntclose getfileattributesw getfileattributesw findfirstfileexw ntclose findfirstfileexw ntclose findfirstfileexw ntclose findfirstfileexw ntclose findfirstfileexw ntclose findfirstfileexw ntclose findfirstfileexw ntclose findfirstfileexw ntclose findfirstfileexw ntclose findfirstfileexw ntclose findfirstfileexw ntclose getfileattributesw getfileattributesw findfirstfileexw ntclose findfirstfileexw ntclose findfirstfileexw ntclose findfirstfileexw ntclose findfirstfileexw ntclose findfirstfileexw ntclose findfirstfileexw ntclose findfirstfileexw ntclose findfirstfileexw ntclose findfirstfileexw ntclose findfirstfileexw ntclose getfileattributesw getfileattributesw findfirstfileexw ntclose findfirstfileexw ntclose findfirstfileexw ntclose findfirstfileexw ntclose findfirstfileexw ntclose findfirstfileexw ntclose findfirstfileexw ntclose findfirstfileexw ntclose findfirstfileexw ntclose findfirstfileexw ntclose findfirstfileexw ntclose getfileattributesw getfileattributesw findfirstfileexw ntclose findfirstfileexw ntclose findfirstfileexw ntclose findfirstfileexw ntclose findfirstfileexw ntclose findfirstfileexw ntclose findfirstfileexw ntclose findfirstfileexw ntclose findfirstfileexw ntclose findfirstfileexw ntclose findfirstfileexw ntclose getfileattributesw getfileattributesw findfirstfileexw ntclose findfirstfileexw ntclose findfirstfileexw ntclose findfirstfileexw ntclose findfirstfileexw ntclose findfirstfileexw ntclose findfirstfileexw ntclose findfirstfileexw ntclose findfirstfileexw ntclose findfirstfileexw ntclose findfirstfileexw ntclose ntquerydirectoryfile getfileattributesw getfileattributesw findfirstfileexw ntclose findfirstfileexw ntclose findfirstfileexw ntclose findfirstfileexw ntclose findfirstfileexw ntclose findfirstfileexw ntclose findfirstfileexw ntclose findfirstfileexw ntclose findfirstfileexw ntclose findfirstfileexw ntclose findfirstfileexw ntclose getfileattributesw getfileattributesw findfirstfileexw ntclose findfirstfileexw ntclose findfirstfileexw ntclose findfirstfileexw ntclose findfirstfileexw ntclose findfirstfileexw ntclose findfirstfileexw ntclose findfirstfileexw ntclose findfirstfileexw ntclose findfirstfileexw ntclose findfirstfileexw ntclose getfileattributesw getfileattributesw findfirstfileexw ntclose findfirstfileexw ntclose findfirstfileexw ntclose findfirstfileexw ntclose findfirstfileexw ntclose findfirstfileexw ntclose findfirstfileexw ntclose findfirstfileexw ntclose findfirstfileexw ntclose findfirstfileexw ntclose findfirstfileexw ntclose getfileattributesw getfileattributesw findfirstfileexw ntclose findfirstfileexw ntclose findfirstfileexw ntclose findfirstfileexw ntclose findfirstfileexw ntclose findfirstfileexw ntclose findfirstfileexw ntclose findfirstfileexw ntclose findfirstfileexw ntclose findfirstfileexw ntclose findfirstfileexw ntclose getfileattributesw getfileattributesw findfirstfileexw ntclose findfirstfileexw ntclose findfirstfileexw ntclose findfirstfileexw ntclose findfirstfileexw ntclose findfirstfileexw ntclose findfirstfileexw ntclose findfirstfileexw ntclose findfirstfileexw ntclose findfirstfileexw ntclose findfirstfileexw ntclose getfileattributesw getfileattributesw findfirstfileexw ntclose findfirstfileexw ntclose findfirstfileexw ntclose findfirstfileexw ntclose findfirstfileexw ntclose findfirstfileexw ntclose findfirstfileexw ntclose findfirstfileexw ntclose findfirstfileexw ntclose findfirstfileexw ntclose findfirstfileexw ntclose getfileattributesw getfileattributesw findfirstfileexw ntclose findfirstfileexw ntclose findfirstfileexw ntclose findfirstfileexw ntclose findfirstfileexw ntclose findfirstfileexw ntclose findfirstfileexw ntclose findfirstfileexw ntclose findfirstfileexw ntclose findfirstfileexw ntclose findfirstfileexw ntclose getfileattributesw getfileattributesw findfirstfileexw ntclose findfirstfileexw ntclose findfirstfileexw ntclose findfirstfileexw ntclose findfirstfileexw ntclose findfirstfileexw ntclose findfirstfileexw ntclose findfirstfileexw ntclose findfirstfileexw ntclose findfirstfileexw ntclose findfirstfileexw ntclose getfileattributesw getfileattributesw findfirstfileexw ntclose findfirstfileexw ntclose findfirstfileexw ntclose findfirstfileexw ntclose findfirstfileexw ntclose findfirstfileexw ntclose findfirstfileexw ntclose findfirstfileexw ntclose findfirstfileexw ntclose findfirstfileexw ntclose findfirstfileexw ntclose getfileattributesw getfileattributesw findfirstfileexw ntclose findfirstfileexw ntclose findfirstfileexw ntclose findfirstfileexw ntclose findfirstfileexw ntclose findfirstfileexw ntclose findfirstfileexw ntclose findfirstfileexw ntclose findfirstfileexw ntclose findfirstfileexw ntclose findfirstfileexw ntclose getfileattributesw getfileattributesw findfirstfileexw ntclose findfirstfileexw ntclose findfirstfileexw ntclose findfirstfileexw ntclose findfirstfileexw ntclose findfirstfileexw ntclose findfirstfileexw ntclose findfirstfileexw ntclose findfirstfileexw ntclose findfirstfileexw ntclose findfirstfileexw ntclose getfileattributesw findfirstfileexw ntclose findfirstfileexw ntclose findfirstfileexw ntclose findfirstfileexw ntclose findfirstfileexw ntclose findfirstfileexw ntclose findfirstfileexw ntclose findfirstfileexw ntclose findfirstfileexw ntclose findfirstfileexw ntclose findfirstfileexw ntclose ntcreatefile getfiletype ntreadfile ntreadfile ntclose getfileattributesw getfileattributesw findfirstfileexw ntclose findfirstfileexw ntclose findfirstfileexw ntclose findfirstfileexw ntclose findfirstfileexw ntclose findfirstfileexw ntclose findfirstfileexw ntclose findfirstfileexw ntclose findfirstfileexw ntclose findfirstfileexw ntclose findfirstfileexw ntclose getfileattributesw getfileattributesw findfirstfileexw ntclose findfirstfileexw ntclose findfirstfileexw ntclose findfirstfileexw ntclose findfirstfileexw ntclose findfirstfileexw ntclose findfirstfileexw ntclose findfirstfileexw ntclose findfirstfileexw ntclose findfirstfileexw ntclose findfirstfileexw ntclose getfileattributesw findfirstfileexw ntclose findfirstfileexw ntclose findfirstfileexw ntclose findfirstfileexw ntclose findfirstfileexw ntclose findfirstfileexw ntclose findfirstfileexw ntclose findfirstfileexw ntclose findfirstfileexw ntclose findfirstfileexw ntclose findfirstfileexw ntclose ntcreatefile getfiletype ntreadfile ntreadfile ntreadfile ntreadfile ntreadfile ntreadfile ntreadfile ntreadfile ntreadfile ntreadfile ntreadfile ntreadfile ntreadfile ntreadfile ntreadfile ntreadfile ntreadfile ntreadfile ntreadfile ntreadfile ntreadfile ntreadfile ntreadfile ntreadfile ntreadfile ntreadfile ntreadfile ntreadfile ntreadfile ntreadfile ntreadfile ntreadfile ntreadfile ntreadfile ntreadfile ntreadfile ntreadfile ntreadfile ntreadfile ntreadfile ntreadfile ntreadfile ntfreevirtualmemory ntfreevirtualmemory ntreadfile ntallocatevirtualmemory ntreadfile ntreadfile ntreadfile ntreadfile ntreadfile ntreadfile ntreadfile ntreadfile ntreadfile ntreadfile ntreadfile ntreadfile ntreadfile ntreadfile ntreadfile ntreadfile ntreadfile ntreadfile ntreadfile ntreadfile ntreadfile ntreadfile ntreadfile ntallocatevirtualmemory ntallocatevirtualmemory ntreadfile ntreadfile ntreadfile ntreadfile ntreadfile ntreadfile ntreadfile ntreadfile ntreadfile ntreadfile ntreadfile ntreadfile ntreadfile ntreadfile ntreadfile ntreadfile ntreadfile ntreadfile ntreadfile ntreadfile ntreadfile ntreadfile ntreadfile ntreadfile ntreadfile ntreadfile ntreadfile ntreadfile ntreadfile ntreadfile ntallocatevirtualmemory ntallocatevirtualmemory ntreadfile ntreadfile ntreadfile ntreadfile ntreadfile ntallocatevirtualmemory ntreadfile ntreadfile ntreadfile ntreadfile ntreadfile ntreadfile ntreadfile ntreadfile ntreadfile ntreadfile ntreadfile ntreadfile ntreadfile ntreadfile ntreadfile ntreadfile ntreadfile ntreadfile ntreadfile ntreadfile ntreadfile ntreadfile ntreadfile ntreadfile ntreadfile ntreadfile ntreadfile ntreadfile ntreadfile ntreadfile ntreadfile ntreadfile ntreadfile ntreadfile ntreadfile ntreadfile ntreadfile ntreadfile ntreadfile ntreadfile ntreadfile ntreadfile ntreadfile ntreadfile ntreadfile ntreadfile ntreadfile ntreadfile ntreadfile ntreadfile ntreadfile ntreadfile ntreadfile ntreadfile ntreadfile ntreadfile ntreadfile ntreadfile ntreadfile ntreadfile ntreadfile ntreadfile ntreadfile ntreadfile ntreadfile ntreadfile ntreadfile ntreadfile ntreadfile ntreadfile ntreadfile ntallocatevirtualmemory ntreadfile ntclose getfileattributesw getfileattributesw findfirstfileexw ntclose findfirstfileexw ntclose findfirstfileexw ntclose findfirstfileexw ntclose findfirstfileexw ntclose findfirstfileexw ntclose findfirstfileexw ntclose findfirstfileexw ntclose findfirstfileexw ntclose findfirstfileexw ntclose findfirstfileexw ntclose getfileattributesw getfileattributesw findfirstfileexw ntclose findfirstfileexw ntclose findfirstfileexw ntclose findfirstfileexw ntclose findfirstfileexw ntclose findfirstfileexw ntclose findfirstfileexw ntclose findfirstfileexw ntclose findfirstfileexw ntclose findfirstfileexw ntclose findfirstfileexw ntclose getfileattributesw getfileattributesw findfirstfileexw ntclose findfirstfileexw ntclose findfirstfileexw ntclose findfirstfileexw ntclose findfirstfileexw ntclose findfirstfileexw ntclose findfirstfileexw ntclose findfirstfileexw ntclose findfirstfileexw ntclose findfirstfileexw ntclose findfirstfileexw ntclose ntquerydirectoryfile ntclose ntfreevirtualmemory getfileattributesw findfirstfileexw ntclose findfirstfileexw ntclose findfirstfileexw ntclose findfirstfileexw ntclose findfirstfileexw ntclose findfirstfileexw ntclose findfirstfileexw ntclose findfirstfileexw ntclose findfirstfileexw ntclose findfirstfileexw ntclose cocreateinstance getfileattributesw getfileattributesw getfileattributesw findfirstfileexw ntquerydirectoryfile ntquerydirectoryfile ntquerydirectoryfile ntclose getfileattributesw getfileattributesw findfirstfileexw ntclose findfirstfileexw ntclose findfirstfileexw ntclose findfirstfileexw ntclose findfirstfileexw ntclose findfirstfileexw ntclose findfirstfileexw ntclose findfirstfileexw ntclose findfirstfileexw ntclose findfirstfileexw ntclose cocreateinstance getfileattributesw getfileattributesw getfileattributesw findfirstfileexw ntquerydirectoryfile getfileattributesw getfileattributesw findfirstfileexw ntclose findfirstfileexw ntclose findfirstfileexw ntclose findfirstfileexw ntclose findfirstfileexw ntclose findfirstfileexw ntclose findfirstfileexw ntclose findfirstfileexw ntclose findfirstfileexw ntclose findfirstfileexw ntclose findfirstfileexw ntclose getfileattributesw getfileattributesw findfirstfileexw ntclose findfirstfileexw ntclose findfirstfileexw ntclose findfirstfileexw ntclose findfirstfileexw ntclose findfirstfileexw ntclose findfirstfileexw ntclose findfirstfileexw ntclose findfirstfileexw ntclose findfirstfileexw ntclose findfirstfileexw ntclose getfileattributesw getfileattributesw findfirstfileexw ntclose findfirstfileexw ntclose findfirstfileexw ntclose findfirstfileexw ntclose findfirstfileexw ntclose findfirstfileexw ntclose findfirstfileexw ntclose findfirstfileexw ntclose findfirstfileexw ntclose findfirstfileexw ntclose findfirstfileexw ntclose getfileattributesw getfileattributesw findfirstfileexw ntclose findfirstfileexw ntclose findfirstfileexw ntclose findfirstfileexw ntclose findfirstfileexw ntclose findfirstfileexw ntclose findfirstfileexw ntclose findfirstfileexw ntclose findfirstfileexw ntclose findfirstfileexw ntclose findfirstfileexw ntclose getfileattributesw getfileattributesw findfirstfileexw ntclose findfirstfileexw ntclose findfirstfileexw ntclose findfirstfileexw ntclose findfirstfileexw ntclose findfirstfileexw ntclose findfirstfileexw ntclose findfirstfileexw ntclose findfirstfileexw ntclose findfirstfileexw ntclose findfirstfileexw ntclose getfileattributesw getfileattributesw findfirstfileexw ntclose findfirstfileexw ntclose findfirstfileexw ntclose findfirstfileexw ntclose findfirstfileexw ntclose findfirstfileexw ntclose findfirstfileexw ntclose findfirstfileexw ntclose findfirstfileexw ntclose findfirstfileexw ntclose findfirstfileexw ntclose getfileattributesw getfileattributesw findfirstfileexw ntclose findfirstfileexw ntclose findfirstfileexw ntclose findfirstfileexw ntclose findfirstfileexw ntclose findfirstfileexw ntclose findfirstfileexw ntclose findfirstfileexw ntclose findfirstfileexw ntclose findfirstfileexw ntclose findfirstfileexw ntclose getfileattributesw getfileattributesw findfirstfileexw ntclose findfirstfileexw ntclose findfirstfileexw ntclose findfirstfileexw ntclose findfirstfileexw ntclose findfirstfileexw ntclose findfirstfileexw ntclose findfirstfileexw ntclose findfirstfileexw ntclose findfirstfileexw ntclose findfirstfileexw ntclose getfileattributesw getfileattributesw findfirstfileexw ntclose findfirstfileexw ntclose findfirstfileexw ntclose findfirstfileexw ntclose findfirstfileexw ntclose findfirstfileexw ntclose findfirstfileexw ntclose findfirstfileexw ntclose findfirstfileexw ntclose findfirstfileexw ntclose findfirstfileexw ntclose getfileattributesw getfileattributesw findfirstfileexw ntclose findfirstfileexw ntclose findfirstfileexw ntclose findfirstfileexw ntclose findfirstfileexw ntclose findfirstfileexw ntclose findfirstfileexw ntclose findfirstfileexw ntclose findfirstfileexw ntclose findfirstfileexw ntclose findfirstfileexw ntclose getfileattributesw getfileattributesw findfirstfileexw ntclose findfirstfileexw ntclose findfirstfileexw ntclose findfirstfileexw ntclose findfirstfileexw ntclose findfirstfileexw ntclose findfirstfileexw ntclose findfirstfileexw ntclose findfirstfileexw ntclose findfirstfileexw ntclose findfirstfileexw ntclose getfileattributesw getfileattributesw findfirstfileexw ntclose findfirstfileexw ntclose findfirstfileexw ntclose findfirstfileexw ntclose findfirstfileexw ntclose findfirstfileexw ntclose findfirstfileexw ntclose findfirstfileexw ntclose findfirstfileexw ntclose findfirstfileexw ntclose findfirstfileexw ntclose getfileattributesw getfileattributesw findfirstfileexw ntclose findfirstfileexw ntclose findfirstfileexw ntclose findfirstfileexw ntclose findfirstfileexw ntclose findfirstfileexw ntclose findfirstfileexw ntclose findfirstfileexw ntclose findfirstfileexw ntclose findfirstfileexw ntclose findfirstfileexw ntclose getfileattributesw getfileattributesw findfirstfileexw ntclose findfirstfileexw ntclose findfirstfileexw ntclose findfirstfileexw ntclose findfirstfileexw ntclose findfirstfileexw ntclose findfirstfileexw ntclose findfirstfileexw ntclose findfirstfileexw ntclose findfirstfileexw ntclose findfirstfileexw ntclose getfileattributesw getfileattributesw findfirstfileexw ntclose findfirstfileexw ntclose findfirstfileexw ntclose findfirstfileexw ntclose findfirstfileexw ntclose findfirstfileexw ntclose findfirstfileexw ntclose findfirstfileexw ntclose findfirstfileexw ntclose findfirstfileexw ntclose findfirstfileexw ntclose getfileattributesw getfileattributesw findfirstfileexw ntclose findfirstfileexw ntclose findfirstfileexw ntclose findfirstfileexw ntclose findfirstfileexw ntclose findfirstfileexw ntclose findfirstfileexw ntclose findfirstfileexw ntclose findfirstfileexw ntclose findfirstfileexw ntclose findfirstfileexw ntclose getfileattributesw getfileattributesw findfirstfileexw ntclose findfirstfileexw ntclose findfirstfileexw ntclose findfirstfileexw ntclose findfirstfileexw ntclose findfirstfileexw ntclose findfirstfileexw ntclose findfirstfileexw ntclose findfirstfileexw ntclose findfirstfileexw ntclose findfirstfileexw ntclose getfileattributesw getfileattributesw findfirstfileexw ntclose findfirstfileexw ntclose findfirstfileexw ntclose findfirstfileexw ntclose findfirstfileexw ntclose findfirstfileexw ntclose findfirstfileexw ntclose findfirstfileexw ntclose findfirstfileexw ntclose findfirstfileexw ntclose findfirstfileexw ntclose getfileattributesw getfileattributesw findfirstfileexw ntclose findfirstfileexw ntclose findfirstfileexw ntclose findfirstfileexw ntclose findfirstfileexw ntclose findfirstfileexw ntclose findfirstfileexw ntclose findfirstfileexw ntclose findfirstfileexw ntclose findfirstfileexw ntclose findfirstfileexw ntclose getfileattributesw getfileattributesw findfirstfileexw ntclose findfirstfileexw ntclose findfirstfileexw ntclose findfirstfileexw ntclose findfirstfileexw ntclose findfirstfileexw ntclose findfirstfileexw ntclose findfirstfileexw ntclose findfirstfileexw ntclose findfirstfileexw ntclose findfirstfileexw ntclose getfileattributesw getfileattributesw findfirstfileexw ntclose findfirstfileexw ntclose findfirstfileexw ntclose findfirstfileexw ntclose findfirstfileexw ntclose findfirstfileexw ntclose findfirstfileexw ntclose findfirstfileexw ntclose findfirstfileexw ntclose findfirstfileexw ntclose findfirstfileexw ntclose getfileattributesw getfileattributesw findfirstfileexw ntclose findfirstfileexw ntclose findfirstfileexw ntclose findfirstfileexw ntclose findfirstfileexw ntclose findfirstfileexw ntclose findfirstfileexw ntclose findfirstfileexw ntclose findfirstfileexw ntclose findfirstfileexw ntclose findfirstfileexw ntclose getfileattributesw getfileattributesw findfirstfileexw ntclose findfirstfileexw ntclose findfirstfileexw ntclose findfirstfileexw ntclose findfirstfileexw ntclose findfirstfileexw ntclose findfirstfileexw ntclose findfirstfileexw ntclose findfirstfileexw ntclose findfirstfileexw ntclose findfirstfileexw ntclose getfileattributesw getfileattributesw findfirstfileexw ntclose findfirstfileexw ntclose findfirstfileexw ntclose findfirstfileexw ntclose findfirstfileexw ntclose findfirstfileexw ntclose findfirstfileexw ntclose findfirstfileexw ntclose findfirstfileexw ntclose findfirstfileexw ntclose findfirstfileexw ntclose getfileattributesw getfileattributesw findfirstfileexw ntclose findfirstfileexw ntclose findfirstfileexw ntclose findfirstfileexw ntclose findfirstfileexw ntclose findfirstfileexw ntclose findfirstfileexw ntclose findfirstfileexw ntclose findfirstfileexw ntclose findfirstfileexw ntclose findfirstfileexw ntclose getfileattributesw getfileattributesw findfirstfileexw ntclose findfirstfileexw ntclose findfirstfileexw ntclose findfirstfileexw ntclose findfirstfileexw ntclose findfirstfileexw ntclose findfirstfileexw ntclose findfirstfileexw ntclose findfirstfileexw ntclose findfirstfileexw ntclose findfirstfileexw ntclose getfileattributesw getfileattributesw findfirstfileexw ntclose findfirstfileexw ntclose findfirstfileexw ntclose findfirstfileexw ntclose findfirstfileexw ntclose findfirstfileexw ntclose findfirstfileexw ntclose findfirstfileexw ntclose findfirstfileexw ntclose findfirstfileexw ntclose findfirstfileexw ntclose getfileattributesw getfileattributesw findfirstfileexw ntclose findfirstfileexw ntclose findfirstfileexw ntclose findfirstfileexw ntclose findfirstfileexw ntclose findfirstfileexw ntclose findfirstfileexw ntclose findfirstfileexw ntclose findfirstfileexw ntclose findfirstfileexw ntclose findfirstfileexw ntclose getfileattributesw getfileattributesw findfirstfileexw ntclose findfirstfileexw ntclose findfirstfileexw ntclose findfirstfileexw ntclose findfirstfileexw ntclose findfirstfileexw ntclose findfirstfileexw ntclose findfirstfileexw ntclose findfirstfileexw ntclose findfirstfileexw ntclose findfirstfileexw ntclose getfileattributesw getfileattributesw findfirstfileexw ntclose findfirstfileexw ntclose findfirstfileexw ntclose findfirstfileexw ntclose findfirstfileexw ntclose findfirstfileexw ntclose findfirstfileexw ntclose findfirstfileexw ntclose findfirstfileexw ntclose findfirstfileexw ntclose findfirstfileexw ntclose getfileattributesw getfileattributesw findfirstfileexw ntclose findfirstfileexw ntclose findfirstfileexw ntclose findfirstfileexw ntclose findfirstfileexw ntclose findfirstfileexw ntclose findfirstfileexw ntclose findfirstfileexw ntclose findfirstfileexw ntclose findfirstfileexw ntclose findfirstfileexw ntclose ntquerydirectoryfile getfileattributesw getfileattributesw findfirstfileexw ntclose findfirstfileexw ntclose findfirstfileexw ntclose findfirstfileexw ntclose findfirstfileexw ntclose findfirstfileexw ntclose findfirstfileexw ntclose findfirstfileexw ntclose findfirstfileexw ntclose findfirstfileexw ntclose findfirstfileexw ntclose getfileattributesw getfileattributesw findfirstfileexw ntclose findfirstfileexw ntclose findfirstfileexw ntclose findfirstfileexw ntclose findfirstfileexw ntclose findfirstfileexw ntclose findfirstfileexw ntclose findfirstfileexw ntclose findfirstfileexw ntclose findfirstfileexw ntclose findfirstfileexw ntclose getfileattributesw getfileattributesw findfirstfileexw ntclose findfirstfileexw ntclose findfirstfileexw ntclose findfirstfileexw ntclose findfirstfileexw ntclose findfirstfileexw ntclose findfirstfileexw ntclose findfirstfileexw ntclose findfirstfileexw ntclose findfirstfileexw ntclose findfirstfileexw ntclose getfileattributesw getfileattributesw findfirstfileexw ntclose findfirstfileexw ntclose findfirstfileexw ntclose findfirstfileexw ntclose findfirstfileexw ntclose findfirstfileexw ntclose findfirstfileexw ntclose findfirstfileexw ntclose findfirstfileexw ntclose findfirstfileexw ntclose findfirstfileexw ntclose getfileattributesw getfileattributesw findfirstfileexw ntclose findfirstfileexw ntclose findfirstfileexw ntclose findfirstfileexw ntclose findfirstfileexw ntclose findfirstfileexw ntclose findfirstfileexw ntclose findfirstfileexw ntclose findfirstfileexw ntclose findfirstfileexw ntclose findfirstfileexw ntclose getfileattributesw getfileattributesw findfirstfileexw ntclose findfirstfileexw ntclose findfirstfileexw ntclose findfirstfileexw ntclose findfirstfileexw ntclose findfirstfileexw ntclose findfirstfileexw ntclose findfirstfileexw ntclose findfirstfileexw ntclose findfirstfileexw ntclose findfirstfileexw ntclose getfileattributesw getfileattributesw findfirstfileexw ntclose findfirstfileexw ntclose findfirstfileexw ntclose findfirstfileexw ntclose findfirstfileexw ntclose findfirstfileexw ntclose findfirstfileexw ntclose findfirstfileexw ntclose findfirstfileexw ntclose findfirstfileexw ntclose findfirstfileexw ntclose getfileattributesw getfileattributesw findfirstfileexw ntclose findfirstfileexw ntclose findfirstfileexw ntclose findfirstfileexw ntclose findfirstfileexw ntclose findfirstfileexw ntclose findfirstfileexw ntclose findfirstfileexw ntclose findfirstfileexw ntclose findfirstfileexw ntclose findfirstfileexw ntclose getfileattributesw getfileattributesw findfirstfileexw ntclose findfirstfileexw ntclose findfirstfileexw ntclose findfirstfileexw ntclose findfirstfileexw ntclose findfirstfileexw ntclose findfirstfileexw ntclose findfirstfileexw ntclose findfirstfileexw ntclose findfirstfileexw ntclose findfirstfileexw ntclose getfileattributesw getfileattributesw findfirstfileexw ntclose findfirstfileexw ntclose findfirstfileexw ntclose findfirstfileexw ntclose findfirstfileexw ntclose findfirstfileexw ntclose findfirstfileexw ntclose findfirstfileexw ntclose findfirstfileexw ntclose findfirstfileexw ntclose findfirstfileexw ntclose getfileattributesw getfileattributesw findfirstfileexw ntclose findfirstfileexw ntclose findfirstfileexw ntclose findfirstfileexw ntclose findfirstfileexw ntclose findfirstfileexw ntclose findfirstfileexw ntclose findfirstfileexw ntclose findfirstfileexw ntclose findfirstfileexw ntclose findfirstfileexw ntclose getfileattributesw getfileattributesw findfirstfileexw ntclose findfirstfileexw ntclose findfirstfileexw ntclose findfirstfileexw ntclose findfirstfileexw ntclose findfirstfileexw ntclose findfirstfileexw ntclose findfirstfileexw ntclose findfirstfileexw ntclose findfirstfileexw ntclose findfirstfileexw ntclose getfileattributesw getfileattributesw findfirstfileexw ntclose findfirstfileexw ntclose findfirstfileexw ntclose findfirstfileexw ntclose findfirstfileexw ntclose findfirstfileexw ntclose findfirstfileexw ntclose findfirstfileexw ntclose findfirstfileexw ntclose findfirstfileexw ntclose findfirstfileexw ntclose getfileattributesw getfileattributesw findfirstfileexw ntclose findfirstfileexw ntclose findfirstfileexw ntclose findfirstfileexw ntclose findfirstfileexw ntclose findfirstfileexw ntclose findfirstfileexw ntclose findfirstfileexw ntclose findfirstfileexw ntclose findfirstfileexw ntclose findfirstfileexw ntclose getfileattributesw getfileattributesw findfirstfileexw ntclose findfirstfileexw ntclose findfirstfileexw ntclose findfirstfileexw ntclose findfirstfileexw ntclose findfirstfileexw ntclose findfirstfileexw ntclose findfirstfileexw ntclose findfirstfileexw ntclose findfirstfileexw ntclose findfirstfileexw ntclose getfileattributesw findfirstfileexw ntclose findfirstfileexw ntclose findfirstfileexw ntclose findfirstfileexw ntclose findfirstfileexw ntclose findfirstfileexw ntclose findfirstfileexw ntclose findfirstfileexw ntclose findfirstfileexw ntclose findfirstfileexw ntclose findfirstfileexw ntclose ntcreatefile getfiletype ntreadfile ntreadfile ntreadfile ntreadfile ntreadfile ntreadfile ntreadfile ntreadfile ntreadfile ntreadfile ntreadfile ntreadfile ntreadfile ntreadfile ntreadfile ntreadfile ntreadfile ntreadfile ntreadfile ntreadfile ntreadfile ntreadfile ntreadfile ntreadfile ntreadfile ntreadfile ntreadfile ntreadfile ntreadfile ntreadfile ntreadfile ntreadfile ntreadfile ntclose ntquerydirectoryfile ntclose getfileattributesw findfirstfileexw ntclose findfirstfileexw ntclose findfirstfileexw ntclose findfirstfileexw ntclose findfirstfileexw ntclose findfirstfileexw ntclose findfirstfileexw ntclose findfirstfileexw ntclose findfirstfileexw ntclose findfirstfileexw ntclose cocreateinstance getfileattributesw getfileattributesw getfileattributesw findfirstfileexw ntquerydirectoryfile ntquerydirectoryfile ntquerydirectoryfile ntclose getfileattributesw getfileattributesw findfirstfileexw ntclose findfirstfileexw ntclose findfirstfileexw ntclose findfirstfileexw ntclose findfirstfileexw ntclose findfirstfileexw ntclose findfirstfileexw ntclose findfirstfileexw ntclose findfirstfileexw ntclose findfirstfileexw ntclose cocreateinstance getfileattributesw getfileattributesw getfileattributesw findfirstfileexw ntquerydirectoryfile getfileattributesw getfileattributesw findfirstfileexw ntclose findfirstfileexw ntclose findfirstfileexw ntclose findfirstfileexw ntclose findfirstfileexw ntclose findfirstfileexw ntclose findfirstfileexw ntclose findfirstfileexw ntclose findfirstfileexw ntclose findfirstfileexw ntclose findfirstfileexw ntclose getfileattributesw getfileattributesw findfirstfileexw ntclose findfirstfileexw ntclose findfirstfileexw ntclose findfirstfileexw ntclose findfirstfileexw ntclose findfirstfileexw ntclose findfirstfileexw ntclose findfirstfileexw ntclose findfirstfileexw ntclose findfirstfileexw ntclose findfirstfileexw ntclose getfileattributesw getfileattributesw findfirstfileexw ntclose findfirstfileexw ntclose findfirstfileexw ntclose findfirstfileexw ntclose findfirstfileexw ntclose findfirstfileexw ntclose findfirstfileexw ntclose findfirstfileexw ntclose findfirstfileexw ntclose findfirstfileexw ntclose findfirstfileexw ntclose getfileattributesw getfileattributesw findfirstfileexw ntclose findfirstfileexw ntclose findfirstfileexw ntclose findfirstfileexw ntclose findfirstfileexw ntclose findfirstfileexw ntclose findfirstfileexw ntclose findfirstfileexw ntclose findfirstfileexw ntclose findfirstfileexw ntclose findfirstfileexw ntclose getfileattributesw getfileattributesw findfirstfileexw ntclose findfirstfileexw ntclose findfirstfileexw ntclose findfirstfileexw ntclose findfirstfileexw ntclose findfirstfileexw ntclose findfirstfileexw ntclose findfirstfileexw ntclose findfirstfileexw ntclose findfirstfileexw ntclose findfirstfileexw ntclose getfileattributesw getfileattributesw findfirstfileexw ntclose findfirstfileexw ntclose findfirstfileexw ntclose findfirstfileexw ntclose findfirstfileexw ntclose findfirstfileexw ntclose findfirstfileexw ntclose findfirstfileexw ntclose findfirstfileexw ntclose findfirstfileexw ntclose findfirstfileexw ntclose getfileattributesw getfileattributesw findfirstfileexw ntclose findfirstfileexw ntclose findfirstfileexw ntclose findfirstfileexw ntclose findfirstfileexw ntclose findfirstfileexw ntclose findfirstfileexw ntclose findfirstfileexw ntclose findfirstfileexw ntclose findfirstfileexw ntclose findfirstfileexw ntclose getfileattributesw getfileattributesw findfirstfileexw ntclose findfirstfileexw ntclose findfirstfileexw ntclose findfirstfileexw ntclose findfirstfileexw ntclose findfirstfileexw ntclose findfirstfileexw ntclose findfirstfileexw ntclose findfirstfileexw ntclose findfirstfileexw ntclose findfirstfileexw ntclose getfileattributesw getfileattributesw findfirstfileexw ntclose findfirstfileexw ntclose findfirstfileexw ntclose findfirstfileexw ntclose findfirstfileexw ntclose findfirstfileexw ntclose findfirstfileexw ntclose findfirstfileexw ntclose findfirstfileexw ntclose findfirstfileexw ntclose findfirstfileexw ntclose getfileattributesw getfileattributesw findfirstfileexw ntclose findfirstfileexw ntclose findfirstfileexw ntclose findfirstfileexw ntclose findfirstfileexw ntclose findfirstfileexw ntclose findfirstfileexw ntclose findfirstfileexw ntclose findfirstfileexw ntclose findfirstfileexw ntclose findfirstfileexw ntclose getfileattributesw getfileattributesw findfirstfileexw ntclose findfirstfileexw ntclose findfirstfileexw ntclose findfirstfileexw ntclose findfirstfileexw ntclose findfirstfileexw ntclose findfirstfileexw ntclose findfirstfileexw ntclose findfirstfileexw ntclose findfirstfileexw ntclose findfirstfileexw ntclose getfileattributesw getfileattributesw findfirstfileexw ntclose findfirstfileexw ntclose findfirstfileexw ntclose findfirstfileexw ntclose findfirstfileexw ntclose findfirstfileexw ntclose findfirstfileexw ntclose findfirstfileexw ntclose findfirstfileexw ntclose findfirstfileexw ntclose findfirstfileexw ntclose getfileattributesw getfileattributesw findfirstfileexw ntclose findfirstfileexw ntclose findfirstfileexw ntclose findfirstfileexw ntclose findfirstfileexw ntclose findfirstfileexw ntclose findfirstfileexw ntclose findfirstfileexw ntclose findfirstfileexw ntclose findfirstfileexw ntclose findfirstfileexw ntclose getfileattributesw getfileattributesw findfirstfileexw ntclose findfirstfileexw ntclose findfirstfileexw ntclose findfirstfileexw ntclose findfirstfileexw ntclose findfirstfileexw ntclose findfirstfileexw ntclose findfirstfileexw ntclose findfirstfileexw ntclose findfirstfileexw ntclose findfirstfileexw ntclose getfileattributesw getfileattributesw findfirstfileexw ntclose findfirstfileexw ntclose findfirstfileexw ntclose findfirstfileexw ntclose findfirstfileexw ntclose findfirstfileexw ntclose findfirstfileexw ntclose findfirstfileexw ntclose findfirstfileexw ntclose findfirstfileexw ntclose findfirstfileexw ntclose getfileattributesw getfileattributesw findfirstfileexw ntclose findfirstfileexw ntclose findfirstfileexw ntclose findfirstfileexw ntclose findfirstfileexw ntclose findfirstfileexw ntclose findfirstfileexw ntclose findfirstfileexw ntclose findfirstfileexw ntclose findfirstfileexw ntclose findfirstfileexw ntclose getfileattributesw getfileattributesw findfirstfileexw ntclose findfirstfileexw ntclose findfirstfileexw ntclose findfirstfileexw ntclose findfirstfileexw ntclose findfirstfileexw ntclose findfirstfileexw ntclose findfirstfileexw ntclose findfirstfileexw ntclose findfirstfileexw ntclose findfirstfileexw ntclose getfileattributesw getfileattributesw findfirstfileexw ntclose findfirstfileexw ntclose findfirstfileexw ntclose findfirstfileexw ntclose findfirstfileexw ntclose findfirstfileexw ntclose findfirstfileexw ntclose findfirstfileexw ntclose findfirstfileexw ntclose findfirstfileexw ntclose findfirstfileexw ntclose getfileattributesw getfileattributesw findfirstfileexw ntclose findfirstfileexw ntclose findfirstfileexw ntclose findfirstfileexw ntclose findfirstfileexw ntclose findfirstfileexw ntclose findfirstfileexw ntclose findfirstfileexw ntclose findfirstfileexw ntclose findfirstfileexw ntclose findfirstfileexw ntclose getfileattributesw getfileattributesw findfirstfileexw ntclose findfirstfileexw ntclose findfirstfileexw ntclose findfirstfileexw ntclose findfirstfileexw ntclose findfirstfileexw ntclose findfirstfileexw ntclose findfirstfileexw ntclose findfirstfileexw ntclose findfirstfileexw ntclose findfirstfileexw ntclose getfileattributesw findfirstfileexw ntclose findfirstfileexw ntclose findfirstfileexw ntclose findfirstfileexw ntclose findfirstfileexw ntclose findfirstfileexw ntclose findfirstfileexw ntclose findfirstfileexw ntclose findfirstfileexw ntclose findfirstfileexw ntclose findfirstfileexw ntclose ntcreatefile getfiletype ntreadfile ntreadfile ntreadfile ntclose getfileattributesw getfileattributesw findfirstfileexw ntclose findfirstfileexw ntclose findfirstfileexw ntclose findfirstfileexw ntclose findfirstfileexw ntclose findfirstfileexw ntclose findfirstfileexw ntclose findfirstfileexw ntclose findfirstfileexw ntclose findfirstfileexw ntclose findfirstfileexw ntclose getfileattributesw getfileattributesw findfirstfileexw ntclose findfirstfileexw ntclose findfirstfileexw ntclose findfirstfileexw ntclose findfirstfileexw ntclose findfirstfileexw ntclose findfirstfileexw ntclose findfirstfileexw ntclose findfirstfileexw ntclose findfirstfileexw ntclose findfirstfileexw ntclose getfileattributesw getfileattributesw findfirstfileexw ntclose findfirstfileexw ntclose findfirstfileexw ntclose findfirstfileexw ntclose findfirstfileexw ntclose findfirstfileexw ntclose findfirstfileexw ntclose findfirstfileexw ntclose findfirstfileexw ntclose findfirstfileexw ntclose findfirstfileexw ntclose getfileattributesw getfileattributesw findfirstfileexw ntclose findfirstfileexw ntclose findfirstfileexw ntclose findfirstfileexw ntclose findfirstfileexw ntclose findfirstfileexw ntclose findfirstfileexw ntclose findfirstfileexw ntclose findfirstfileexw ntclose findfirstfileexw ntclose findfirstfileexw ntclose getfileattributesw getfileattributesw findfirstfileexw ntclose findfirstfileexw ntclose findfirstfileexw ntclose findfirstfileexw ntclose findfirstfileexw ntclose findfirstfileexw ntclose findfirstfileexw ntclose findfirstfileexw ntclose findfirstfileexw ntclose findfirstfileexw ntclose findfirstfileexw ntclose getfileattributesw getfileattributesw findfirstfileexw ntclose findfirstfileexw ntclose findfirstfileexw ntclose findfirstfileexw ntclose findfirstfileexw ntclose findfirstfileexw ntclose findfirstfileexw ntclose findfirstfileexw ntclose findfirstfileexw ntclose findfirstfileexw ntclose findfirstfileexw ntclose getfileattributesw getfileattributesw findfirstfileexw ntclose findfirstfileexw ntclose findfirstfileexw ntclose findfirstfileexw ntclose findfirstfileexw ntclose findfirstfileexw ntclose findfirstfileexw ntclose findfirstfileexw ntclose findfirstfileexw ntclose findfirstfileexw ntclose findfirstfileexw ntclose getfileattributesw getfileattributesw findfirstfileexw ntclose findfirstfileexw ntclose findfirstfileexw ntclose findfirstfileexw ntclose findfirstfileexw ntclose findfirstfileexw ntclose findfirstfileexw ntclose findfirstfileexw ntclose findfirstfileexw ntclose findfirstfileexw ntclose findfirstfileexw ntclose getfileattributesw getfileattributesw findfirstfileexw ntclose findfirstfileexw ntclose findfirstfileexw ntclose findfirstfileexw ntclose findfirstfileexw ntclose findfirstfileexw ntclose findfirstfileexw ntclose findfirstfileexw ntclose findfirstfileexw ntclose findfirstfileexw ntclose findfirstfileexw ntclose getfileattributesw getfileattributesw findfirstfileexw ntclose findfirstfileexw ntclose findfirstfileexw ntclose findfirstfileexw ntclose findfirstfileexw ntclose findfirstfileexw ntclose findfirstfileexw ntclose findfirstfileexw ntclose findfirstfileexw ntclose findfirstfileexw ntclose findfirstfileexw ntclose ntquerydirectoryfile getfileattributesw getfileattributesw findfirstfileexw ntclose findfirstfileexw ntclose findfirstfileexw ntclose findfirstfileexw ntclose findfirstfileexw ntclose findfirstfileexw ntclose findfirstfileexw ntclose findfirstfileexw ntclose findfirstfileexw ntclose findfirstfileexw ntclose findfirstfileexw ntclose getfileattributesw getfileattributesw findfirstfileexw ntclose findfirstfileexw ntclose findfirstfileexw ntclose findfirstfileexw ntclose findfirstfileexw ntclose findfirstfileexw ntclose findfirstfileexw ntclose findfirstfileexw ntclose findfirstfileexw ntclose findfirstfileexw ntclose findfirstfileexw ntclose getfileattributesw getfileattributesw findfirstfileexw ntclose findfirstfileexw ntclose findfirstfileexw ntclose findfirstfileexw ntclose findfirstfileexw ntclose findfirstfileexw ntclose findfirstfileexw ntclose findfirstfileexw ntclose findfirstfileexw ntclose findfirstfileexw ntclose findfirstfileexw ntclose getfileattributesw getfileattributesw findfirstfileexw ntclose findfirstfileexw ntclose findfirstfileexw ntclose findfirstfileexw ntclose findfirstfileexw ntclose findfirstfileexw ntclose findfirstfileexw ntclose findfirstfileexw ntclose findfirstfileexw ntclose findfirstfileexw ntclose findfirstfileexw ntclose getfileattributesw getfileattributesw findfirstfileexw ntclose findfirstfileexw ntclose findfirstfileexw ntclose findfirstfileexw ntclose findfirstfileexw ntclose findfirstfileexw ntclose findfirstfileexw ntclose findfirstfileexw ntclose findfirstfileexw ntclose findfirstfileexw ntclose findfirstfileexw ntclose getfileattributesw getfileattributesw findfirstfileexw ntclose findfirstfileexw ntclose findfirstfileexw ntclose findfirstfileexw ntclose findfirstfileexw ntclose findfirstfileexw ntclose findfirstfileexw ntclose findfirstfileexw ntclose findfirstfileexw ntclose findfirstfileexw ntclose findfirstfileexw ntclose getfileattributesw getfileattributesw findfirstfileexw ntclose findfirstfileexw ntclose findfirstfileexw ntclose findfirstfileexw ntclose findfirstfileexw ntclose findfirstfileexw ntclose findfirstfileexw ntclose findfirstfileexw ntclose findfirstfileexw ntclose findfirstfileexw ntclose findfirstfileexw ntclose getfileattributesw getfileattributesw findfirstfileexw ntclose findfirstfileexw ntclose findfirstfileexw ntclose findfirstfileexw ntclose findfirstfileexw ntclose findfirstfileexw ntclose findfirstfileexw ntclose findfirstfileexw ntclose findfirstfileexw ntclose findfirstfileexw ntclose findfirstfileexw ntclose getfileattributesw getfileattributesw findfirstfileexw ntclose findfirstfileexw ntclose findfirstfileexw ntclose findfirstfileexw ntclose findfirstfileexw ntclose findfirstfileexw ntclose findfirstfileexw ntclose findfirstfileexw ntclose findfirstfileexw ntclose findfirstfileexw ntclose findfirstfileexw ntclose getfileattributesw getfileattributesw findfirstfileexw ntclose findfirstfileexw ntclose findfirstfileexw ntclose findfirstfileexw ntclose findfirstfileexw ntclose findfirstfileexw ntclose findfirstfileexw ntclose findfirstfileexw ntclose findfirstfileexw ntclose findfirstfileexw ntclose findfirstfileexw ntclose getfileattributesw getfileattributesw findfirstfileexw ntclose findfirstfileexw ntclose findfirstfileexw ntclose findfirstfileexw ntclose findfirstfileexw ntclose findfirstfileexw ntclose findfirstfileexw ntclose findfirstfileexw ntclose findfirstfileexw ntclose findfirstfileexw ntclose findfirstfileexw ntclose getfileattributesw getfileattributesw findfirstfileexw ntclose findfirstfileexw ntclose findfirstfileexw ntclose findfirstfileexw ntclose findfirstfileexw ntclose findfirstfileexw ntclose findfirstfileexw ntclose findfirstfileexw ntclose findfirstfileexw ntclose findfirstfileexw ntclose findfirstfileexw ntclose getfileattributesw getfileattributesw findfirstfileexw ntclose findfirstfileexw ntclose findfirstfileexw ntclose findfirstfileexw ntclose findfirstfileexw ntclose findfirstfileexw ntclose findfirstfileexw ntclose findfirstfileexw ntclose findfirstfileexw ntclose findfirstfileexw ntclose findfirstfileexw ntclose getfileattributesw getfileattributesw findfirstfileexw ntclose findfirstfileexw ntclose findfirstfileexw ntclose findfirstfileexw ntclose findfirstfileexw ntclose findfirstfileexw ntclose findfirstfileexw ntclose findfirstfileexw ntclose findfirstfileexw ntclose findfirstfileexw ntclose findfirstfileexw ntclose getfileattributesw getfileattributesw findfirstfileexw ntclose findfirstfileexw ntclose findfirstfileexw ntclose findfirstfileexw ntclose findfirstfileexw ntclose findfirstfileexw ntclose findfirstfileexw ntclose findfirstfileexw ntclose findfirstfileexw ntclose findfirstfileexw ntclose findfirstfileexw ntclose getfileattributesw getfileattributesw findfirstfileexw ntclose findfirstfileexw ntclose findfirstfileexw ntclose findfirstfileexw ntclose findfirstfileexw ntclose findfirstfileexw ntclose findfirstfileexw ntclose findfirstfileexw ntclose findfirstfileexw ntclose findfirstfileexw ntclose findfirstfileexw ntclose getfileattributesw getfileattributesw findfirstfileexw ntclose findfirstfileexw ntclose findfirstfileexw ntclose findfirstfileexw ntclose findfirstfileexw ntclose findfirstfileexw ntclose findfirstfileexw ntclose findfirstfileexw ntclose findfirstfileexw ntclose findfirstfileexw ntclose findfirstfileexw ntclose ntquerydirectoryfile ntclose getfileattributesw findfirstfileexw ntclose findfirstfileexw ntclose findfirstfileexw ntclose findfirstfileexw ntclose findfirstfileexw ntclose findfirstfileexw ntclose findfirstfileexw ntclose findfirstfileexw ntclose findfirstfileexw ntclose findfirstfileexw ntclose cocreateinstance getfileattributesw getfileattributesw getfileattributesw findfirstfileexw ntquerydirectoryfile ntquerydirectoryfile ntquerydirectoryfile ntclose getfileattributesw getfileattributesw findfirstfileexw ntclose findfirstfileexw ntclose findfirstfileexw ntclose findfirstfileexw ntclose findfirstfileexw ntclose findfirstfileexw ntclose findfirstfileexw ntclose findfirstfileexw ntclose findfirstfileexw ntclose findfirstfileexw ntclose cocreateinstance getfileattributesw getfileattributesw getfileattributesw findfirstfileexw ntquerydirectoryfile getfileattributesw getfileattributesw findfirstfileexw ntclose findfirstfileexw ntclose findfirstfileexw ntclose findfirstfileexw ntclose findfirstfileexw ntclose findfirstfileexw ntclose findfirstfileexw ntclose findfirstfileexw ntclose findfirstfileexw ntclose findfirstfileexw ntclose findfirstfileexw ntclose getfileattributesw getfileattributesw findfirstfileexw ntclose findfirstfileexw ntclose findfirstfileexw ntclose findfirstfileexw ntclose findfirstfileexw ntclose findfirstfileexw ntclose findfirstfileexw ntclose findfirstfileexw ntclose findfirstfileexw ntclose findfirstfileexw ntclose findfirstfileexw ntclose getfileattributesw getfileattributesw findfirstfileexw ntclose findfirstfileexw ntclose findfirstfileexw ntclose findfirstfileexw ntclose findfirstfileexw ntclose findfirstfileexw ntclose findfirstfileexw ntclose findfirstfileexw ntclose findfirstfileexw ntclose findfirstfileexw ntclose findfirstfileexw ntclose getfileattributesw getfileattributesw findfirstfileexw ntclose findfirstfileexw ntclose findfirstfileexw ntclose findfirstfileexw ntclose findfirstfileexw ntclose findfirstfileexw ntclose findfirstfileexw ntclose findfirstfileexw ntclose findfirstfileexw ntclose findfirstfileexw ntclose findfirstfileexw ntclose getfileattributesw getfileattributesw findfirstfileexw ntclose findfirstfileexw ntclose findfirstfileexw ntclose findfirstfileexw ntclose findfirstfileexw ntclose findfirstfileexw ntclose findfirstfileexw ntclose findfirstfileexw ntclose findfirstfileexw ntclose findfirstfileexw ntclose findfirstfileexw ntclose getfileattributesw getfileattributesw findfirstfileexw ntclose findfirstfileexw ntclose findfirstfileexw ntclose findfirstfileexw ntclose findfirstfileexw ntclose findfirstfileexw ntclose findfirstfileexw ntclose findfirstfileexw ntclose findfirstfileexw ntclose findfirstfileexw ntclose findfirstfileexw ntclose getfileattributesw getfileattributesw findfirstfileexw ntclose findfirstfileexw ntclose findfirstfileexw ntclose findfirstfileexw ntclose findfirstfileexw ntclose findfirstfileexw ntclose findfirstfileexw ntclose findfirstfileexw ntclose findfirstfileexw ntclose findfirstfileexw ntclose findfirstfileexw ntclose getfileattributesw getfileattributesw findfirstfileexw ntclose findfirstfileexw ntclose findfirstfileexw ntclose findfirstfileexw ntclose findfirstfileexw ntclose findfirstfileexw ntclose findfirstfileexw ntclose findfirstfileexw ntclose findfirstfileexw ntclose findfirstfileexw ntclose findfirstfileexw ntclose getfileattributesw getfileattributesw findfirstfileexw ntclose findfirstfileexw ntclose findfirstfileexw ntclose findfirstfileexw ntclose findfirstfileexw ntclose findfirstfileexw ntclose findfirstfileexw ntclose findfirstfileexw ntclose findfirstfileexw ntclose findfirstfileexw ntclose findfirstfileexw ntclose getfileattributesw getfileattributesw findfirstfileexw ntclose findfirstfileexw ntclose findfirstfileexw ntclose findfirstfileexw ntclose findfirstfileexw ntclose findfirstfileexw ntclose findfirstfileexw ntclose findfirstfileexw ntclose findfirstfileexw ntclose findfirstfileexw ntclose findfirstfileexw ntclose getfileattributesw getfileattributesw findfirstfileexw ntclose findfirstfileexw ntclose findfirstfileexw ntclose findfirstfileexw ntclose findfirstfileexw ntclose findfirstfileexw ntclose findfirstfileexw ntclose findfirstfileexw ntclose findfirstfileexw ntclose findfirstfileexw ntclose findfirstfileexw ntclose getfileattributesw getfileattributesw findfirstfileexw ntclose findfirstfileexw ntclose findfirstfileexw ntclose findfirstfileexw ntclose findfirstfileexw ntclose findfirstfileexw ntclose findfirstfileexw ntclose findfirstfileexw ntclose findfirstfileexw ntclose findfirstfileexw ntclose findfirstfileexw ntclose getfileattributesw getfileattributesw findfirstfileexw ntclose findfirstfileexw ntclose findfirstfileexw ntclose findfirstfileexw ntclose findfirstfileexw ntclose findfirstfileexw ntclose findfirstfileexw ntclose findfirstfileexw ntclose findfirstfileexw ntclose findfirstfileexw ntclose findfirstfileexw ntclose getfileattributesw getfileattributesw findfirstfileexw ntclose findfirstfileexw ntclose findfirstfileexw ntclose findfirstfileexw ntclose findfirstfileexw ntclose findfirstfileexw ntclose findfirstfileexw ntclose findfirstfileexw ntclose findfirstfileexw ntclose findfirstfileexw ntclose findfirstfileexw ntclose getfileattributesw getfileattributesw findfirstfileexw ntclose findfirstfileexw ntclose findfirstfileexw ntclose findfirstfileexw ntclose findfirstfileexw ntclose findfirstfileexw ntclose findfirstfileexw ntclose findfirstfileexw ntclose findfirstfileexw ntclose findfirstfileexw ntclose findfirstfileexw ntclose getfileattributesw getfileattributesw findfirstfileexw ntclose findfirstfileexw ntclose findfirstfileexw ntclose findfirstfileexw ntclose findfirstfileexw ntclose findfirstfileexw ntclose findfirstfileexw ntclose findfirstfileexw ntclose findfirstfileexw ntclose findfirstfileexw ntclose findfirstfileexw ntclose getfileattributesw getfileattributesw findfirstfileexw ntclose findfirstfileexw ntclose findfirstfileexw ntclose findfirstfileexw ntclose findfirstfileexw ntclose findfirstfileexw ntclose findfirstfileexw ntclose findfirstfileexw ntclose findfirstfileexw ntclose findfirstfileexw ntclose findfirstfileexw ntclose getfileattributesw getfileattributesw findfirstfileexw ntclose findfirstfileexw ntclose findfirstfileexw ntclose findfirstfileexw ntclose findfirstfileexw ntclose findfirstfileexw ntclose findfirstfileexw ntclose findfirstfileexw ntclose findfirstfileexw ntclose findfirstfileexw ntclose findfirstfileexw ntclose getfileattributesw getfileattributesw findfirstfileexw ntclose findfirstfileexw ntclose findfirstfileexw ntclose findfirstfileexw ntclose findfirstfileexw ntclose findfirstfileexw ntclose findfirstfileexw ntclose findfirstfileexw ntclose findfirstfileexw ntclose findfirstfileexw ntclose findfirstfileexw ntclose getfileattributesw getfileattributesw findfirstfileexw ntclose findfirstfileexw ntclose findfirstfileexw ntclose findfirstfileexw ntclose findfirstfileexw ntclose findfirstfileexw ntclose findfirstfileexw ntclose findfirstfileexw ntclose findfirstfileexw ntclose findfirstfileexw ntclose findfirstfileexw ntclose getfileattributesw getfileattributesw findfirstfileexw ntclose findfirstfileexw ntclose findfirstfileexw ntclose findfirstfileexw ntclose findfirstfileexw ntclose findfirstfileexw ntclose findfirstfileexw ntclose findfirstfileexw ntclose findfirstfileexw ntclose findfirstfileexw ntclose findfirstfileexw ntclose getfileattributesw getfileattributesw findfirstfileexw ntclose findfirstfileexw ntclose findfirstfileexw ntclose findfirstfileexw ntclose findfirstfileexw ntclose findfirstfileexw ntclose findfirstfileexw ntclose findfirstfileexw ntclose findfirstfileexw ntclose findfirstfileexw ntclose findfirstfileexw ntclose getfileattributesw getfileattributesw findfirstfileexw ntclose findfirstfileexw ntclose findfirstfileexw ntclose findfirstfileexw ntclose findfirstfileexw ntclose findfirstfileexw ntclose findfirstfileexw ntclose findfirstfileexw ntclose findfirstfileexw ntclose findfirstfileexw ntclose findfirstfileexw ntclose getfileattributesw getfileattributesw findfirstfileexw ntclose findfirstfileexw ntclose findfirstfileexw ntclose findfirstfileexw ntclose findfirstfileexw ntclose findfirstfileexw ntclose findfirstfileexw ntclose findfirstfileexw ntclose findfirstfileexw ntclose findfirstfileexw ntclose findfirstfileexw ntclose getfileattributesw getfileattributesw findfirstfileexw ntclose findfirstfileexw ntclose findfirstfileexw ntclose findfirstfileexw ntclose findfirstfileexw ntclose findfirstfileexw ntclose findfirstfileexw ntclose findfirstfileexw ntclose findfirstfileexw ntclose findfirstfileexw ntclose findfirstfileexw ntclose getfileattributesw getfileattributesw findfirstfileexw ntclose findfirstfileexw ntclose findfirstfileexw ntclose findfirstfileexw ntclose findfirstfileexw ntclose findfirstfileexw ntclose findfirstfileexw ntclose findfirstfileexw ntclose findfirstfileexw ntclose findfirstfileexw ntclose findfirstfileexw ntclose getfileattributesw getfileattributesw findfirstfileexw ntclose findfirstfileexw ntclose findfirstfileexw ntclose findfirstfileexw ntclose findfirstfileexw ntclose findfirstfileexw ntclose findfirstfileexw ntclose findfirstfileexw ntclose findfirstfileexw ntclose findfirstfileexw ntclose findfirstfileexw ntclose getfileattributesw getfileattributesw findfirstfileexw ntclose findfirstfileexw ntclose findfirstfileexw ntclose findfirstfileexw ntclose findfirstfileexw ntclose findfirstfileexw ntclose findfirstfileexw ntclose findfirstfileexw ntclose findfirstfileexw ntclose findfirstfileexw ntclose findfirstfileexw ntclose getfileattributesw getfileattributesw findfirstfileexw ntclose findfirstfileexw ntclose findfirstfileexw ntclose findfirstfileexw ntclose findfirstfileexw ntclose findfirstfileexw ntclose findfirstfileexw ntclose findfirstfileexw ntclose findfirstfileexw ntclose findfirstfileexw ntclose findfirstfileexw ntclose getfileattributesw getfileattributesw findfirstfileexw ntclose findfirstfileexw ntclose findfirstfileexw ntclose findfirstfileexw ntclose findfirstfileexw ntclose findfirstfileexw ntclose findfirstfileexw ntclose findfirstfileexw ntclose findfirstfileexw ntclose findfirstfileexw ntclose findfirstfileexw ntclose ntquerydirectoryfile getfileattributesw getfileattributesw findfirstfileexw ntclose findfirstfileexw ntclose findfirstfileexw ntclose findfirstfileexw ntclose findfirstfileexw ntclose findfirstfileexw ntclose findfirstfileexw ntclose findfirstfileexw ntclose findfirstfileexw ntclose findfirstfileexw ntclose findfirstfileexw ntclose getfileattributesw getfileattributesw findfirstfileexw ntclose findfirstfileexw ntclose findfirstfileexw ntclose findfirstfileexw ntclose findfirstfileexw ntclose findfirstfileexw ntclose findfirstfileexw ntclose findfirstfileexw ntclose findfirstfileexw ntclose findfirstfileexw ntclose findfirstfileexw ntclose getfileattributesw getfileattributesw findfirstfileexw ntclose findfirstfileexw ntclose findfirstfileexw ntclose findfirstfileexw ntclose findfirstfileexw ntclose findfirstfileexw ntclose findfirstfileexw ntclose findfirstfileexw ntclose findfirstfileexw ntclose findfirstfileexw ntclose findfirstfileexw ntclose getfileattributesw getfileattributesw findfirstfileexw ntclose findfirstfileexw ntclose findfirstfileexw ntclose findfirstfileexw ntclose findfirstfileexw ntclose findfirstfileexw ntclose findfirstfileexw ntclose findfirstfileexw ntclose findfirstfileexw ntclose findfirstfileexw ntclose findfirstfileexw ntclose getfileattributesw getfileattributesw findfirstfileexw ntclose findfirstfileexw ntclose findfirstfileexw ntclose findfirstfileexw ntclose findfirstfileexw ntclose findfirstfileexw ntclose findfirstfileexw ntclose findfirstfileexw ntclose findfirstfileexw ntclose findfirstfileexw ntclose findfirstfileexw ntclose getfileattributesw getfileattributesw findfirstfileexw ntclose findfirstfileexw ntclose findfirstfileexw ntclose findfirstfileexw ntclose findfirstfileexw ntclose findfirstfileexw ntclose findfirstfileexw ntclose findfirstfileexw ntclose findfirstfileexw ntclose findfirstfileexw ntclose findfirstfileexw ntclose getfileattributesw getfileattributesw findfirstfileexw ntclose findfirstfileexw ntclose findfirstfileexw ntclose findfirstfileexw ntclose findfirstfileexw ntclose findfirstfileexw ntclose findfirstfileexw ntclose findfirstfileexw ntclose findfirstfileexw ntclose findfirstfileexw ntclose findfirstfileexw ntclose getfileattributesw getfileattributesw findfirstfileexw ntclose findfirstfileexw ntclose findfirstfileexw ntclose findfirstfileexw ntclose findfirstfileexw ntclose findfirstfileexw ntclose findfirstfileexw ntclose findfirstfileexw ntclose findfirstfileexw ntclose findfirstfileexw ntclose findfirstfileexw ntclose getfileattributesw getfileattributesw findfirstfileexw ntclose findfirstfileexw ntclose findfirstfileexw ntclose findfirstfileexw ntclose findfirstfileexw ntclose findfirstfileexw ntclose findfirstfileexw ntclose findfirstfileexw ntclose findfirstfileexw ntclose findfirstfileexw ntclose findfirstfileexw ntclose getfileattributesw getfileattributesw findfirstfileexw ntclose findfirstfileexw ntclose findfirstfileexw ntclose findfirstfileexw ntclose findfirstfileexw ntclose findfirstfileexw ntclose findfirstfileexw ntclose findfirstfileexw ntclose findfirstfileexw ntclose findfirstfileexw ntclose findfirstfileexw ntclose getfileattributesw getfileattributesw findfirstfileexw ntclose findfirstfileexw ntclose findfirstfileexw ntclose findfirstfileexw ntclose findfirstfileexw ntclose findfirstfileexw ntclose findfirstfileexw ntclose findfirstfileexw ntclose findfirstfileexw ntclose findfirstfileexw ntclose findfirstfileexw ntclose getfileattributesw getfileattributesw findfirstfileexw ntclose findfirstfileexw ntclose findfirstfileexw ntclose findfirstfileexw ntclose findfirstfileexw ntclose findfirstfileexw ntclose findfirstfileexw ntclose findfirstfileexw ntclose findfirstfileexw ntclose findfirstfileexw ntclose findfirstfileexw ntclose getfileattributesw getfileattributesw findfirstfileexw ntclose findfirstfileexw ntclose findfirstfileexw ntclose findfirstfileexw ntclose findfirstfileexw ntclose findfirstfileexw ntclose findfirstfileexw ntclose findfirstfileexw ntclose findfirstfileexw ntclose findfirstfileexw ntclose findfirstfileexw ntclose getfileattributesw getfileattributesw findfirstfileexw ntclose findfirstfileexw ntclose findfirstfileexw ntclose findfirstfileexw ntclose findfirstfileexw ntclose findfirstfileexw ntclose findfirstfileexw ntclose findfirstfileexw ntclose findfirstfileexw ntclose findfirstfileexw ntclose findfirstfileexw ntclose getfileattributesw getfileattributesw findfirstfileexw ntclose findfirstfileexw ntclose findfirstfileexw ntclose findfirstfileexw ntclose findfirstfileexw ntclose findfirstfileexw ntclose findfirstfileexw ntclose findfirstfileexw ntclose findfirstfileexw ntclose findfirstfileexw ntclose findfirstfileexw ntclose getfileattributesw getfileattributesw findfirstfileexw ntclose findfirstfileexw ntclose findfirstfileexw ntclose findfirstfileexw ntclose findfirstfileexw ntclose findfirstfileexw ntclose findfirstfileexw ntclose findfirstfileexw ntclose findfirstfileexw ntclose findfirstfileexw ntclose findfirstfileexw ntclose getfileattributesw getfileattributesw findfirstfileexw ntclose findfirstfileexw ntclose findfirstfileexw ntclose findfirstfileexw ntclose findfirstfileexw ntclose findfirstfileexw ntclose findfirstfileexw ntclose findfirstfileexw ntclose findfirstfileexw ntclose findfirstfileexw ntclose findfirstfileexw ntclose ntquerydirectoryfile ntclose getfileattributesw findfirstfileexw ntclose findfirstfileexw ntclose findfirstfileexw ntclose findfirstfileexw ntclose findfirstfileexw ntclose findfirstfileexw ntclose findfirstfileexw ntclose findfirstfileexw ntclose findfirstfileexw ntclose findfirstfileexw ntclose cocreateinstance getfileattributesw getfileattributesw getfileattributesw findfirstfileexw ntquerydirectoryfile ntquerydirectoryfile ntquerydirectoryfile ntclose ntquerydirectoryfile ntclose ntquerydirectoryfile ntclose getfileattributesw getfileattributesw findfirstfileexw ntclose findfirstfileexw ntclose findfirstfileexw ntclose findfirstfileexw ntclose findfirstfileexw ntclose findfirstfileexw ntclose findfirstfileexw ntclose findfirstfileexw ntclose cocreateinstance getfileattributesw getfileattributesw getfileattributesw findfirstfileexw ntquerydirectoryfile ntquerydirectoryfile ntclose getfileattributesw findfirstfileexw ntclose findfirstfileexw ntclose findfirstfileexw ntclose findfirstfileexw ntclose findfirstfileexw ntclose findfirstfileexw ntclose findfirstfileexw ntclose findfirstfileexw ntclose cocreateinstance getfileattributesw getfileattributesw getfileattributesw findfirstfileexw ntallocatevirtualmemory ntquerydirectoryfile getfileattributesw getfileattributesw findfirstfileexw ntclose findfirstfileexw ntclose findfirstfileexw ntclose findfirstfileexw ntclose findfirstfileexw ntclose findfirstfileexw ntclose findfirstfileexw ntclose findfirstfileexw ntclose findfirstfileexw ntclose cocreateinstance getfileattributesw getfileattributesw getfileattributesw findfirstfileexw ntquerydirectoryfile ntquerydirectoryfile ntclose getfileattributesw findfirstfileexw ntclose findfirstfileexw ntclose findfirstfileexw ntclose findfirstfileexw ntclose findfirstfileexw ntclose findfirstfileexw ntclose findfirstfileexw ntclose findfirstfileexw ntclose findfirstfileexw ntclose cocreateinstance getfileattributesw getfileattributesw getfileattributesw findfirstfileexw ntquerydirectoryfile getfileattributesw getfileattributesw findfirstfileexw ntclose findfirstfileexw ntclose findfirstfileexw ntclose findfirstfileexw ntclose findfirstfileexw ntclose findfirstfileexw ntclose findfirstfileexw ntclose findfirstfileexw ntclose findfirstfileexw ntclose findfirstfileexw ntclose cocreateinstance getfileattributesw getfileattributesw getfileattributesw findfirstfileexw ntquerydirectoryfile ntquerydirectoryfile ntclose getfileattributesw findfirstfileexw ntclose findfirstfileexw ntclose findfirstfileexw ntclose findfirstfileexw ntclose findfirstfileexw ntclose findfirstfileexw ntclose findfirstfileexw ntclose findfirstfileexw ntclose findfirstfileexw ntclose findfirstfileexw ntclose cocreateinstance getfileattributesw getfileattributesw getfileattributesw findfirstfileexw ntquerydirectoryfile getfileattributesw getfileattributesw findfirstfileexw ntclose findfirstfileexw ntclose findfirstfileexw ntclose findfirstfileexw ntclose findfirstfileexw ntclose findfirstfileexw ntclose findfirstfileexw ntclose findfirstfileexw ntclose findfirstfileexw ntclose findfirstfileexw ntclose findfirstfileexw ntclose cocreateinstance getfileattributesw getfileattributesw getfileattributesw findfirstfileexw ntquerydirectoryfile ntquerydirectoryfile ntclose getfileattributesw findfirstfileexw ntclose findfirstfileexw ntclose findfirstfileexw ntclose findfirstfileexw ntclose findfirstfileexw ntclose findfirstfileexw ntclose findfirstfileexw ntclose findfirstfileexw ntclose findfirstfileexw ntclose findfirstfileexw ntclose findfirstfileexw ntclose cocreateinstance getfileattributesw getfileattributesw getfileattributesw findfirstfileexw ntquerydirectoryfile getfileattributesw getfileattributesw findfirstfileexw ntclose findfirstfileexw ntclose findfirstfileexw ntclose findfirstfileexw ntclose findfirstfileexw ntclose findfirstfileexw ntclose findfirstfileexw ntclose findfirstfileexw ntclose findfirstfileexw ntclose findfirstfileexw ntclose findfirstfileexw ntclose findfirstfileexw ntclose cocreateinstance getfileattributesw getfileattributesw getfileattributesw findfirstfileexw ntquerydirectoryfile ntquerydirectoryfile ntclose getfileattributesw findfirstfileexw ntclose findfirstfileexw ntclose findfirstfileexw ntclose findfirstfileexw ntclose findfirstfileexw ntclose findfirstfileexw ntclose findfirstfileexw ntclose findfirstfileexw ntclose findfirstfileexw ntclose findfirstfileexw ntclose findfirstfileexw ntclose findfirstfileexw ntclose cocreateinstance getfileattributesw getfileattributesw getfileattributesw findfirstfileexw ntquerydirectoryfile getfileattributesw getfileattributesw findfirstfileexw ntclose findfirstfileexw ntclose findfirstfileexw ntclose findfirstfileexw ntclose findfirstfileexw ntclose findfirstfileexw ntclose findfirstfileexw ntclose findfirstfileexw ntclose findfirstfileexw ntclose findfirstfileexw ntclose findfirstfileexw ntclose findfirstfileexw ntclose findfirstfileexw ntclose cocreateinstance getfileattributesw getfileattributesw getfileattributesw findfirstfileexw ntquerydirectoryfile ntquerydirectoryfile ntclose getfileattributesw findfirstfileexw ntclose findfirstfileexw ntclose findfirstfileexw ntclose findfirstfileexw ntclose findfirstfileexw ntclose findfirstfileexw ntclose findfirstfileexw ntclose findfirstfileexw ntclose findfirstfileexw ntclose findfirstfileexw ntclose findfirstfileexw ntclose findfirstfileexw ntclose findfirstfileexw ntclose cocreateinstance getfileattributesw getfileattributesw getfileattributesw findfirstfileexw ntquerydirectoryfile getfileattributesw getfileattributesw findfirstfileexw ntclose findfirstfileexw ntclose findfirstfileexw ntclose findfirstfileexw ntclose findfirstfileexw ntclose findfirstfileexw ntclose findfirstfileexw ntclose findfirstfileexw ntclose findfirstfileexw ntclose findfirstfileexw ntclose findfirstfileexw ntclose findfirstfileexw ntclose findfirstfileexw ntclose findfirstfileexw ntclose cocreateinstance getfileattributesw getfileattributesw getfileattributesw findfirstfileexw ntquerydirectoryfile ntquerydirectoryfile ntclose getfileattributesw findfirstfileexw ntclose findfirstfileexw ntclose findfirstfileexw ntclose findfirstfileexw ntclose findfirstfileexw ntclose findfirstfileexw ntclose findfirstfileexw ntclose findfirstfileexw ntclose findfirstfileexw ntclose findfirstfileexw ntclose findfirstfileexw ntclose findfirstfileexw ntclose findfirstfileexw ntclose findfirstfileexw ntclose cocreateinstance getfileattributesw getfileattributesw getfileattributesw findfirstfileexw ntquerydirectoryfile getfileattributesw getfileattributesw findfirstfileexw ntclose findfirstfileexw ntclose findfirstfileexw ntclose findfirstfileexw ntclose findfirstfileexw ntclose findfirstfileexw ntclose findfirstfileexw ntclose findfirstfileexw ntclose findfirstfileexw ntclose findfirstfileexw ntclose findfirstfileexw ntclose findfirstfileexw ntclose findfirstfileexw ntclose findfirstfileexw ntclose findfirstfileexw ntclose cocreateinstance getfileattributesw getfileattributesw getfileattributesw findfirstfileexw ntquerydirectoryfile ntquerydirectoryfile ntclose getfileattributesw findfirstfileexw ntclose findfirstfileexw ntclose findfirstfileexw ntclose findfirstfileexw ntclose findfirstfileexw ntclose findfirstfileexw ntclose findfirstfileexw ntclose findfirstfileexw ntclose findfirstfileexw ntclose findfirstfileexw ntclose findfirstfileexw ntclose findfirstfileexw ntclose findfirstfileexw ntclose findfirstfileexw ntclose findfirstfileexw ntclose cocreateinstance getfileattributesw getfileattributesw getfileattributesw findfirstfileexw ntquerydirectoryfile getfileattributesw getfileattributesw findfirstfileexw ntclose findfirstfileexw ntclose findfirstfileexw ntclose findfirstfileexw ntclose findfirstfileexw ntclose findfirstfileexw ntclose findfirstfileexw ntclose findfirstfileexw ntclose findfirstfileexw ntclose findfirstfileexw ntclose findfirstfileexw ntclose findfirstfileexw ntclose findfirstfileexw ntclose findfirstfileexw ntclose findfirstfileexw ntclose findfirstfileexw ntclose cocreateinstance getfileattributesw getfileattributesw getfileattributesw findfirstfileexw ntquerydirectoryfile ntquerydirectoryfile ntclose getfileattributesw findfirstfileexw ntclose findfirstfileexw ntclose findfirstfileexw ntclose findfirstfileexw ntclose findfirstfileexw ntclose findfirstfileexw ntclose findfirstfileexw ntclose findfirstfileexw ntclose findfirstfileexw ntclose findfirstfileexw ntclose findfirstfileexw ntclose findfirstfileexw ntclose findfirstfileexw ntclose findfirstfileexw ntclose findfirstfileexw ntclose findfirstfileexw ntclose cocreateinstance getfileattributesw getfileattributesw getfileattributesw findfirstfileexw ntquerydirectoryfile getfileattributesw getfileattributesw findfirstfileexw ntclose findfirstfileexw ntclose findfirstfileexw ntclose findfirstfileexw ntclose findfirstfileexw ntclose findfirstfileexw ntclose findfirstfileexw ntclose findfirstfileexw ntclose findfirstfileexw ntclose findfirstfileexw ntclose findfirstfileexw ntclose findfirstfileexw ntclose findfirstfileexw ntclose findfirstfileexw ntclose findfirstfileexw ntclose findfirstfileexw ntclose findfirstfileexw ntclose cocreateinstance getfileattributesw getfileattributesw getfileattributesw findfirstfileexw ntquerydirectoryfile ntquerydirectoryfile ntclose getfileattributesw findfirstfileexw ntclose findfirstfileexw ntclose findfirstfileexw ntclose findfirstfileexw ntclose findfirstfileexw ntclose findfirstfileexw ntclose findfirstfileexw ntclose findfirstfileexw ntclose findfirstfileexw ntclose findfirstfileexw ntclose findfirstfileexw ntclose findfirstfileexw ntclose findfirstfileexw ntclose findfirstfileexw ntclose findfirstfileexw ntclose findfirstfileexw ntclose findfirstfileexw ntclose cocreateinstance getfileattributesw getfileattributesw getfileattributesw findfirstfileexw ntquerydirectoryfile ntquerydirectoryfile ntclose ntquerydirectoryfile ntclose ntquerydirectoryfile ntclose ntquerydirectoryfile ntclose ntquerydirectoryfile ntclose ntquerydirectoryfile ntclose ntquerydirectoryfile ntclose ntquerydirectoryfile ntclose ntquerydirectoryfile ntclose ntquerydirectoryfile ntclose ntquerydirectoryfile ntclose __exception__ ntclose ntunmapviewofsection ntclose ntclose ntunmapviewofsection ntclose ldrloaddll ldrgetprocedureaddress ldrunloaddll ldrunloaddll regopenkeyexa regopenkeyexa regqueryvalueexa regclosekey regclosekey ntopenfile ntclose regopenkeyexa regopenkeyexa regclosekey ntopenfile ntclose getfileattributesw getfileattributesw getfileattributesw getfileattributesw ntopenkey ntqueryvaluekey ntclose ldrgetdllhandle ldrgetprocedureaddress ldrgetprocedureaddress ldrgetprocedureaddress ldrgetprocedureaddress ldrgetprocedureaddress ldrgetprocedureaddress ldrgetprocedureaddress ldrgetprocedureaddress ldrgetprocedureaddress ldrgetprocedureaddress ldrgetprocedureaddress ldrgetprocedureaddress ldrunloaddll ntclose getcursorpos unhookwindowshookex ntfreevirtualmemory ntfreevirtualmemory ntdelayexecution couninitialize ldrunloaddll ntterminateprocess ntterminateprocess ntclose ntclose ntclose ntclose ntclose ntclose ntclose ldrunloaddll ldrgetprocedureaddress ntclose ntunmapviewofsection ntclose ntclose ldrgetprocedureaddress regclosekey ntfreevirtualmemory ntfreevirtualmemory ntclose ntclose ntclose ntclose ntclose ntunmapviewofsection ntclose ntunmapviewofsection ntclose regclosekey ntclose ntclose ntallocatevirtualmemory ntclose ntunmapviewofsection ntclose ntclose ntclose ntclose ntfreevirtualmemory ntclose ntclose ntfreevirtualmemory ntfreevirtualmemory setfiletime ntunmapviewofsection ntclose setfilepointer setendoffile ntclose deletefilew ntclose ntclose ntunmapviewofsection ntclose ldrgetprocedureaddress ldrunloaddll ntopenkey ntqueryvaluekey ntclose ntclose ntclose ntclose ntclose ntterminateprocess\n"
     ]
    }
   ],
   "source": [
    "file_path = \"HybridMalwareDetector/data/all_analysis_data.txt\"\n",
    "\n",
    "# Read only a small portion safely\n",
    "with open(file_path, \"r\", encoding=\"utf-8\", errors=\"ignore\") as file:\n",
    "    for i in range(10):  # Read only 10 lines\n",
    "        print(file.readline().strip())"
   ]
  },
  {
   "cell_type": "code",
   "execution_count": 6,
   "id": "3f1c95c3-b329-41d0-8aa4-cbd7e34ba04c",
   "metadata": {},
   "outputs": [
    {
     "name": "stdout",
     "output_type": "stream",
     "text": [
      "🔍 Most Common API Calls: [('getasynckeystate', 36221591), ('ntdelayexecution', 13154471), ('ntclose', 7022327), ('process32nextw', 6279599), ('ntreadfile', 5911672), ('findfirstfileexw', 4094715), ('ntallocatevirtualmemory', 3877058), ('ntcreatefile', 3769954), ('copyfilea', 3257278), ('ntquerydirectoryfile', 3053164)]\n"
     ]
    }
   ],
   "source": [
    "from collections import Counter\n",
    "\n",
    "file_path = \"HybridMalwareDetector/data/all_analysis_data.txt\"\n",
    "api_counter = Counter()\n",
    "\n",
    "with open(file_path, \"r\", encoding=\"utf-8\", errors=\"ignore\") as file:\n",
    "    for _ in range(100000):  # Read only 100,000 lines for now\n",
    "        line = file.readline().strip()\n",
    "        if not line:\n",
    "            break\n",
    "        api_calls = line.split()\n",
    "        api_counter.update(api_calls)  # Count API call occurrences\n",
    "\n",
    "# Show top 10 most frequent API calls\n",
    "print(\"🔍 Most Common API Calls:\", api_counter.most_common(10))"
   ]
  },
  {
   "cell_type": "code",
   "execution_count": 7,
   "id": "cdb26f1d-3f0a-44c4-80f0-be71cdb5bfa4",
   "metadata": {},
   "outputs": [
    {
     "name": "stdout",
     "output_type": "stream",
     "text": [
      "                                                APIs\n",
      "0  [ldrloaddll, ldrgetprocedureaddress, ldrloaddl...\n",
      "1  [getsystemtimeasfiletime, ntallocatevirtualmem...\n",
      "2  [ldrgetdllhandle, ldrgetprocedureaddress, gets...\n",
      "3  [ldrloaddll, ldrgetprocedureaddress, ldrloaddl...\n",
      "4  [ldrloaddll, ldrgetprocedureaddress, ldrgetpro...\n"
     ]
    }
   ],
   "source": [
    "import pandas as pd\n",
    "\n",
    "# Load the dataset (adjust path if needed)\n",
    "file_path = \"HybridMalwareDetector/data/all_analysis_data.txt\"\n",
    "\n",
    "# Read the large text file line by line\n",
    "api_sequences = []\n",
    "with open(file_path, \"r\", encoding=\"utf-8\") as f:\n",
    "    for line in f:\n",
    "        api_sequences.append(line.strip().split())  # Split API calls into a list\n",
    "\n",
    "# Convert to DataFrame\n",
    "df = pd.DataFrame({\"APIs\": api_sequences})\n",
    "print(df.head())"
   ]
  },
  {
   "cell_type": "code",
   "execution_count": 8,
   "id": "6604afe4-350a-440f-8a56-1d0ca895f21f",
   "metadata": {},
   "outputs": [
    {
     "name": "stdout",
     "output_type": "stream",
     "text": [
      "🔥 Feature Extraction Done! API Feature File Saved as 'api_features.csv'.\n",
      "   __anomaly__  __exception__  accept  bind  certopensystemstorea  \\\n",
      "0            0              0       0     0                     0   \n",
      "1            0              3       0     0                     0   \n",
      "2            0              1       0     0                     0   \n",
      "3            0              0       0     0                     0   \n",
      "4            0              0       0     0                     0   \n",
      "\n",
      "   closesocket  cocreateinstance  cocreateinstanceex  cogetclassobject  \\\n",
      "0            0                 0                   0                 0   \n",
      "1            0                 0                   0                 0   \n",
      "2            0                 0                   0                 0   \n",
      "3            0                 0                   0                 0   \n",
      "4            0                 0                   0                 0   \n",
      "\n",
      "   coinitializeex  ...  uuidcreate  wnetgetprovidernamew  writeconsolea  \\\n",
      "0               0  ...           0                     0              0   \n",
      "1               1  ...           0                     0              0   \n",
      "2               0  ...           0                     0              0   \n",
      "3               1  ...           0                     0              0   \n",
      "4               0  ...           0                     0              0   \n",
      "\n",
      "   writeconsolew  writeprocessmemory  wsarecv  wsasend  wsasocketa  \\\n",
      "0              0                   0        0        0           0   \n",
      "1              0                   5        0        0           0   \n",
      "2              0                   0        0        0           0   \n",
      "3              0                   0        0        0           0   \n",
      "4              0                   0        0        0           0   \n",
      "\n",
      "   wsasocketw  wsastartup  \n",
      "0           0           0  \n",
      "1           0           0  \n",
      "2           0           0  \n",
      "3           0           0  \n",
      "4           0           1  \n",
      "\n",
      "[5 rows x 278 columns]\n"
     ]
    }
   ],
   "source": [
    "from sklearn.feature_extraction.text import CountVectorizer\n",
    "\n",
    "# Convert API call sequences into space-separated strings\n",
    "df[\"API_String\"] = df[\"APIs\"].apply(lambda x: \" \".join(x))\n",
    "\n",
    "# Create CountVectorizer to extract API frequency features\n",
    "vectorizer = CountVectorizer()\n",
    "X = vectorizer.fit_transform(df[\"API_String\"])\n",
    "\n",
    "# Convert sparse matrix to DataFrame\n",
    "feature_df = pd.DataFrame(X.toarray(), columns=vectorizer.get_feature_names_out())\n",
    "\n",
    "# Save features to CSV\n",
    "feature_df.to_csv(\"api_features.csv\", index=False)\n",
    "\n",
    "print(\"🔥 Feature Extraction Done! API Feature File Saved as 'api_features.csv'.\")\n",
    "print(feature_df.head())"
   ]
  },
  {
   "cell_type": "code",
   "execution_count": 10,
   "id": "2bbd1734-8279-4342-b8e9-2bd8242ef7fb",
   "metadata": {},
   "outputs": [
    {
     "name": "stdout",
     "output_type": "stream",
     "text": [
      "✅ Data Split Done! Train: 5685, Test: 1422\n"
     ]
    }
   ],
   "source": [
    "import pandas as pd\n",
    "from sklearn.model_selection import train_test_split\n",
    "\n",
    "# Load the extracted features\n",
    "feature_df = pd.read_csv(\"api_features.csv\")\n",
    "\n",
    "# Assign labels (1 = Malware, 0 = Benign)\n",
    "num_samples = len(feature_df)\n",
    "half_samples = num_samples // 2  # Get the first half count\n",
    "\n",
    "# Ensure the label assignment covers all samples\n",
    "feature_df[\"Label\"] = [1] * half_samples + [0] * (num_samples - half_samples)\n",
    "\n",
    "# Split features & labels\n",
    "X = feature_df.drop(columns=[\"Label\"])\n",
    "y = feature_df[\"Label\"]\n",
    "\n",
    "# Train-Test Split (80% Train, 20% Test)\n",
    "X_train, X_test, y_train, y_test = train_test_split(X, y, test_size=0.2, random_state=42)\n",
    "\n",
    "print(f\"✅ Data Split Done! Train: {len(X_train)}, Test: {len(X_test)}\")"
   ]
  },
  {
   "cell_type": "code",
   "execution_count": 2,
   "id": "e733b40e-a467-4e0f-be1c-8caf471fcffc",
   "metadata": {},
   "outputs": [
    {
     "name": "stdout",
     "output_type": "stream",
     "text": [
      "✅ Data Split Done! Train: 5685, Test: 1422\n",
      "✅ Random Forest Accuracy: 0.7525\n",
      "\n",
      "📜 Random Forest Report:\n",
      "               precision    recall  f1-score   support\n",
      "\n",
      "           0       0.74      0.77      0.76       707\n",
      "           1       0.76      0.73      0.75       715\n",
      "\n",
      "    accuracy                           0.75      1422\n",
      "   macro avg       0.75      0.75      0.75      1422\n",
      "weighted avg       0.75      0.75      0.75      1422\n",
      "\n"
     ]
    }
   ],
   "source": [
    "from sklearn.ensemble import RandomForestClassifier\n",
    "from sklearn.svm import SVC\n",
    "from sklearn.metrics import accuracy_score, classification_report\n",
    "\n",
    "# 🌲 Train the Random Forest Classifier\n",
    "rf_model = RandomForestClassifier(n_estimators=100, random_state=42)\n",
    "rf_model.fit(X_train, y_train)\n",
    "\n",
    "# 🎯 Make Predictions\n",
    "rf_preds = rf_model.predict(X_test)\n",
    "\n",
    "# 📊 Evaluate Performance\n",
    "rf_acc = accuracy_score(y_test, rf_preds)\n",
    "\n",
    "print(f\"✅ Random Forest Accuracy: {rf_acc:.4f}\")\n",
    "\n",
    "# 💡 Detailed Report\n",
    "print(\"\\n📜 Random Forest Report:\\n\", classification_report(y_test, rf_preds))"
   ]
  },
  {
   "cell_type": "code",
   "execution_count": 1,
   "id": "86593a4e-d7bb-4b4a-a607-8f0cfdd22d82",
   "metadata": {},
   "outputs": [
    {
     "name": "stdout",
     "output_type": "stream",
     "text": [
      "✅ Data Split Done! Train: 5685, Test: 1422\n",
      "✅ Random Forest Accuracy: 0.7525\n",
      "\n",
      "📜 Random Forest Report:\n",
      "               precision    recall  f1-score   support\n",
      "\n",
      "           0       0.74      0.77      0.76       707\n",
      "           1       0.76      0.73      0.75       715\n",
      "\n",
      "    accuracy                           0.75      1422\n",
      "   macro avg       0.75      0.75      0.75      1422\n",
      "weighted avg       0.75      0.75      0.75      1422\n",
      "\n",
      "✅ Fast SVM Accuracy: 0.5035\n",
      "\n",
      "📜 Fast SVM Report:\n",
      "               precision    recall  f1-score   support\n",
      "\n",
      "           0       0.50      0.28      0.36       707\n",
      "           1       0.50      0.72      0.59       715\n",
      "\n",
      "    accuracy                           0.50      1422\n",
      "   macro avg       0.50      0.50      0.48      1422\n",
      "weighted avg       0.50      0.50      0.48      1422\n",
      "\n"
     ]
    }
   ],
   "source": [
    "import pandas as pd\n",
    "from sklearn.model_selection import train_test_split\n",
    "\n",
    "# Load the extracted features\n",
    "feature_df = pd.read_csv(\"api_features.csv\")\n",
    "\n",
    "# Assign labels (1 = Malware, 0 = Benign)\n",
    "num_samples = len(feature_df)\n",
    "half_samples = num_samples // 2  # Get the first half count\n",
    "\n",
    "# Ensure the label assignment covers all samples\n",
    "feature_df[\"Label\"] = [1] * half_samples + [0] * (num_samples - half_samples)\n",
    "\n",
    "# Split features & labels\n",
    "X = feature_df.drop(columns=[\"Label\"])\n",
    "y = feature_df[\"Label\"]\n",
    "\n",
    "# Train-Test Split (80% Train, 20% Test)\n",
    "X_train, X_test, y_train, y_test = train_test_split(X, y, test_size=0.2, random_state=42)\n",
    "\n",
    "print(f\"✅ Data Split Done! Train: {len(X_train)}, Test: {len(X_test)}\")\n",
    "\n",
    "from sklearn.ensemble import RandomForestClassifier\n",
    "from sklearn.svm import SVC\n",
    "from sklearn.metrics import accuracy_score, classification_report\n",
    "\n",
    "# 🌲 Train the Random Forest Classifier\n",
    "rf_model = RandomForestClassifier(n_estimators=100, random_state=42)\n",
    "rf_model.fit(X_train, y_train)\n",
    "\n",
    "# 🎯 Make Predictions\n",
    "rf_preds = rf_model.predict(X_test)\n",
    "\n",
    "# 📊 Evaluate Performance\n",
    "rf_acc = accuracy_score(y_test, rf_preds)\n",
    "\n",
    "print(f\"✅ Random Forest Accuracy: {rf_acc:.4f}\")\n",
    "\n",
    "# 💡 Detailed Report\n",
    "print(\"\\n📜 Random Forest Report:\\n\", classification_report(y_test, rf_preds))\n",
    "\n",
    "from sklearn.linear_model import SGDClassifier\n",
    "\n",
    "# ⚡ Fast SVM Alternative (Stochastic Gradient Descent)\n",
    "sgd_svm = SGDClassifier(loss=\"hinge\", random_state=42, max_iter=1000, tol=1e-3)\n",
    "sgd_svm.fit(X_train, y_train)\n",
    "\n",
    "# 🎯 Make Predictions\n",
    "sgd_preds = sgd_svm.predict(X_test)\n",
    "\n",
    "# 📊 Evaluate Performance\n",
    "sgd_acc = accuracy_score(y_test, sgd_preds)\n",
    "print(f\"✅ Fast SVM Accuracy: {sgd_acc:.4f}\")\n",
    "\n",
    "# 💡 Detailed Report\n",
    "print(\"\\n📜 Fast SVM Report:\\n\", classification_report(y_test, sgd_preds))"
   ]
  },
  {
   "cell_type": "code",
   "execution_count": 4,
   "id": "a32833ae-8ceb-4c97-9004-9474976338fd",
   "metadata": {},
   "outputs": [
    {
     "name": "stdout",
     "output_type": "stream",
     "text": [
      "✅ Kernel SVM Accuracy: 0.6153305203938115\n"
     ]
    }
   ],
   "source": [
    "from sklearn.preprocessing import StandardScaler\n",
    "\n",
    "scaler = StandardScaler()\n",
    "X_train_scaled = scaler.fit_transform(X_train)\n",
    "X_test_scaled = scaler.transform(X_test)\n",
    "\n",
    "from sklearn.svm import SVC\n",
    "\n",
    "svm_model = SVC(kernel=\"rbf\", C=100, gamma=\"scale\", class_weight=\"balanced\", random_state=42)\n",
    "svm_model.fit(X_train_scaled, y_train)\n",
    "\n",
    "svm_preds = svm_model.predict(X_test_scaled)\n",
    "\n",
    "print(\"✅ Kernel SVM Accuracy:\", accuracy_score(y_test, svm_preds))"
   ]
  },
  {
   "cell_type": "code",
   "execution_count": 5,
   "id": "d2d4cfb1-8efc-4212-88c2-ebb464dfc49e",
   "metadata": {},
   "outputs": [],
   "source": [
    "from sklearn.decomposition import PCA\n",
    "\n",
    "pca = PCA(n_components=100)  # Adjust this number based on results\n",
    "X_train_pca = pca.fit_transform(X_train_scaled)\n",
    "X_test_pca = pca.transform(X_test_scaled)\n",
    "\n",
    "svm_model.fit(X_train_pca, y_train)\n",
    "svm_preds = svm_model.predict(X_test_pca)\n"
   ]
  },
  {
   "cell_type": "code",
   "execution_count": 6,
   "id": "723e3ccf-2983-4ca8-ad6d-31affa7fae6f",
   "metadata": {},
   "outputs": [
    {
     "name": "stdout",
     "output_type": "stream",
     "text": [
      "✅ Kernel SVM Accuracy: 0.6153305203938115\n"
     ]
    }
   ],
   "source": [
    "from sklearn.preprocessing import StandardScaler\n",
    "\n",
    "scaler = StandardScaler()\n",
    "X_train_scaled = scaler.fit_transform(X_train)\n",
    "X_test_scaled = scaler.transform(X_test)\n",
    "\n",
    "from sklearn.svm import SVC\n",
    "\n",
    "svm_model = SVC(kernel=\"rbf\", C=100, gamma=\"scale\", class_weight=\"balanced\", random_state=42)\n",
    "svm_model.fit(X_train_scaled, y_train)\n",
    "\n",
    "svm_preds = svm_model.predict(X_test_scaled)\n",
    "\n",
    "print(\"✅ Kernel SVM Accuracy:\", accuracy_score(y_test, svm_preds))"
   ]
  },
  {
   "cell_type": "code",
   "execution_count": 13,
   "id": "f1ee09bd-3ab7-47c9-a601-1aad210eda62",
   "metadata": {},
   "outputs": [
    {
     "name": "stdout",
     "output_type": "stream",
     "text": [
      "✅ Random Forest Accuracy: 0.7525\n",
      "              precision    recall  f1-score   support\n",
      "\n",
      "           0       0.74      0.77      0.76       707\n",
      "           1       0.76      0.73      0.75       715\n",
      "\n",
      "    accuracy                           0.75      1422\n",
      "   macro avg       0.75      0.75      0.75      1422\n",
      "weighted avg       0.75      0.75      0.75      1422\n",
      "\n",
      "✅ Optimized SVM Accuracy: 0.6301\n",
      "              precision    recall  f1-score   support\n",
      "\n",
      "           0       0.71      0.44      0.54       707\n",
      "           1       0.60      0.82      0.69       715\n",
      "\n",
      "    accuracy                           0.63      1422\n",
      "   macro avg       0.65      0.63      0.62      1422\n",
      "weighted avg       0.65      0.63      0.62      1422\n",
      "\n",
      "✅ Results saved to 'model_results.csv' 🎉\n"
     ]
    }
   ],
   "source": [
    "import numpy as np\n",
    "import pandas as pd\n",
    "from sklearn.model_selection import train_test_split\n",
    "from sklearn.preprocessing import StandardScaler\n",
    "from sklearn.decomposition import PCA\n",
    "from sklearn.ensemble import RandomForestClassifier\n",
    "from sklearn.svm import SVC\n",
    "from sklearn.metrics import accuracy_score, classification_report\n",
    "\n",
    "# ✅ Load Data\n",
    "# Load the extracted features\n",
    "feature_df = pd.read_csv(\"api_features.csv\")\n",
    "\n",
    "# Assign labels (1 = Malware, 0 = Benign)\n",
    "num_samples = len(feature_df)\n",
    "half_samples = num_samples // 2  # Get the first half count\n",
    "\n",
    "# Ensure the label assignment covers all samples\n",
    "feature_df[\"Label\"] = [1] * half_samples + [0] * (num_samples - half_samples)\n",
    "\n",
    "# Split features & labels\n",
    "X = feature_df.drop(columns=[\"Label\"])\n",
    "y = feature_df[\"Label\"]\n",
    "\n",
    "# ✅ Split Data\n",
    "X_train, X_test, y_train, y_test = train_test_split(X, y, test_size=0.2, random_state=42)\n",
    "\n",
    "# ✅ Standardize Features\n",
    "scaler = StandardScaler()\n",
    "X_train_scaled = scaler.fit_transform(X_train)\n",
    "X_test_scaled = scaler.transform(X_test)\n",
    "\n",
    "# ✅ Apply PCA (Dimensionality Reduction)\n",
    "pca = PCA(n_components=100)  # Adjust for performance\n",
    "X_train_pca = pca.fit_transform(X_train_scaled)\n",
    "X_test_pca = pca.transform(X_test_scaled)\n",
    "\n",
    "# ✅ Train Random Forest\n",
    "rf_model = RandomForestClassifier(n_estimators=100, random_state=42)\n",
    "rf_model.fit(X_train, y_train)\n",
    "rf_preds = rf_model.predict(X_test)\n",
    "\n",
    "# ✅ Train Optimized SVM\n",
    "svm_model = SVC(kernel=\"rbf\", C=100, gamma=\"auto\", class_weight=\"balanced\", random_state=42)\n",
    "svm_model.fit(X_train, y_train)\n",
    "svm_preds = svm_model.predict(X_test)\n",
    "\n",
    "# ✅ Evaluate Models\n",
    "rf_accuracy = accuracy_score(y_test, rf_preds)\n",
    "svm_accuracy = accuracy_score(y_test, svm_preds)\n",
    "\n",
    "print(f\"✅ Random Forest Accuracy: {rf_accuracy:.4f}\")\n",
    "print(classification_report(y_test, rf_preds))\n",
    "\n",
    "print(f\"✅ Optimized SVM Accuracy: {svm_accuracy:.4f}\")\n",
    "print(classification_report(y_test, svm_preds))\n",
    "\n",
    "# ✅ Save Results\n",
    "results = pd.DataFrame({\n",
    "    \"Model\": [\"Random Forest\", \"Optimized SVM\"],\n",
    "    \"Accuracy\": [rf_accuracy, svm_accuracy]\n",
    "})\n",
    "results.to_csv(\"model_results.csv\", index=False)\n",
    "print(\"✅ Results saved to 'model_results.csv' 🎉\")"
   ]
  },
  {
   "cell_type": "code",
   "execution_count": 14,
   "id": "8baf4437-e0bb-423c-b0aa-92e69dd2e91d",
   "metadata": {},
   "outputs": [
    {
     "name": "stdout",
     "output_type": "stream",
     "text": [
      "✅ Models saved successfully!\n"
     ]
    }
   ],
   "source": [
    "import joblib\n",
    "\n",
    "# Save the trained models\n",
    "joblib.dump(rf_model, \"random_forest_model.pkl\")\n",
    "joblib.dump(svm_model, \"svm_model.pkl\")\n",
    "\n",
    "print(\"✅ Models saved successfully!\")"
   ]
  },
  {
   "cell_type": "code",
   "execution_count": 1,
   "id": "a56a7a3a-6c12-480a-bf5b-f6b5e4f5dedd",
   "metadata": {},
   "outputs": [
    {
     "name": "stdout",
     "output_type": "stream",
     "text": [
      "Using device: cpu\n"
     ]
    }
   ],
   "source": [
    "import torch\n",
    "import torch.nn as nn\n",
    "import torch.optim as optim\n",
    "import torchvision\n",
    "import torchvision.transforms as transforms\n",
    "from torchvision import datasets\n",
    "from torch.utils.data import DataLoader\n",
    "\n",
    "# Set device\n",
    "device = torch.device(\"cuda\" if torch.cuda.is_available() else \"cpu\")\n",
    "print(f\"Using device: {device}\")\n",
    "\n",
    "# Define paths\n",
    "DATA_DIR = \"HybridMalwareDetector/data/CNN\"  # Change this to match your dataset path\n",
    "BATCH_SIZE = 32\n",
    "IMAGE_SIZE = (128, 128)  # Resize all images to 128x128"
   ]
  },
  {
   "cell_type": "code",
   "execution_count": 2,
   "id": "8a23dd8c-c4b1-4aab-bbd5-289296febda5",
   "metadata": {},
   "outputs": [
    {
     "name": "stdout",
     "output_type": "stream",
     "text": [
      "Classes: ['benign', 'malware']\n"
     ]
    }
   ],
   "source": [
    "transform = transforms.Compose([\n",
    "    transforms.Resize(IMAGE_SIZE),  # Resize images\n",
    "    transforms.ToTensor(),  # Convert images to tensors\n",
    "    transforms.Normalize((0.5,), (0.5,))  # Normalize to [-1, 1] range\n",
    "])\n",
    "\n",
    "# Load dataset\n",
    "train_data = datasets.ImageFolder(root=DATA_DIR, transform=transform)\n",
    "train_loader = DataLoader(train_data, batch_size=BATCH_SIZE, shuffle=True)\n",
    "\n",
    "# Class names (benign = 0, malware = 1)\n",
    "class_names = train_data.classes\n",
    "print(f\"Classes: {class_names}\")"
   ]
  },
  {
   "cell_type": "code",
   "execution_count": 4,
   "id": "37d628c6-84e0-4ad0-b6e3-49d44387dd7b",
   "metadata": {},
   "outputs": [],
   "source": [
    "criterion = nn.CrossEntropyLoss()\n",
    "optimizer = optim.Adam(model.parameters(), lr=0.001)"
   ]
  },
  {
   "cell_type": "code",
   "execution_count": 3,
   "id": "c9dc84ab-e995-40ae-86c3-7c8b0b835995",
   "metadata": {},
   "outputs": [],
   "source": [
    "class MalwareCNN(nn.Module):\n",
    "    def __init__(self):\n",
    "        super(MalwareCNN, self).__init__()\n",
    "        self.conv1 = nn.Conv2d(3, 32, kernel_size=3, stride=1, padding=1)\n",
    "        self.conv2 = nn.Conv2d(32, 64, kernel_size=3, stride=1, padding=1)\n",
    "        self.conv3 = nn.Conv2d(64, 128, kernel_size=3, stride=1, padding=1)\n",
    "        self.pool = nn.MaxPool2d(2, 2)\n",
    "        self.fc1 = nn.Linear(128 * 16 * 16, 512)\n",
    "        self.fc2 = nn.Linear(512, 2)  # Binary classification (benign/malware)\n",
    "        self.dropout = nn.Dropout(0.5)\n",
    "\n",
    "    def forward(self, x):\n",
    "        x = self.pool(torch.relu(self.conv1(x)))\n",
    "        x = self.pool(torch.relu(self.conv2(x)))\n",
    "        x = self.pool(torch.relu(self.conv3(x)))\n",
    "        x = x.view(-1, 128 * 16 * 16)\n",
    "        x = torch.relu(self.fc1(x))\n",
    "        x = self.dropout(x)\n",
    "        x = self.fc2(x)\n",
    "        return x\n",
    "\n",
    "# Initialize model\n",
    "model = MalwareCNN().to(device)"
   ]
  },
  {
   "cell_type": "code",
   "execution_count": 19,
   "id": "857f9714-d78f-4b85-9814-cf3353f19450",
   "metadata": {},
   "outputs": [
    {
     "name": "stdout",
     "output_type": "stream",
     "text": [
      "Epoch 1/10, Loss: 0.4557798067052689\n",
      "Epoch 2/10, Loss: 0.1420503889469529\n",
      "Epoch 3/10, Loss: 0.10084906432325759\n",
      "Epoch 4/10, Loss: 0.06939478855326596\n",
      "Epoch 5/10, Loss: 0.04822219567490155\n",
      "Epoch 6/10, Loss: 0.047507666365846926\n",
      "Epoch 7/10, Loss: 0.031044321808552083\n",
      "Epoch 8/10, Loss: 0.029487634569677915\n",
      "Epoch 9/10, Loss: 0.036184929644161305\n",
      "Epoch 10/10, Loss: 0.018839048909672817\n",
      "Training complete! 🎉\n"
     ]
    }
   ],
   "source": [
    "EPOCHS = 10\n",
    "\n",
    "for epoch in range(EPOCHS):\n",
    "    model.train()\n",
    "    running_loss = 0.0\n",
    "    for images, labels in train_loader:\n",
    "        images, labels = images.to(device), labels.to(device)\n",
    "\n",
    "        optimizer.zero_grad()\n",
    "        outputs = model(images)\n",
    "        loss = criterion(outputs, labels)\n",
    "        loss.backward()\n",
    "        optimizer.step()\n",
    "\n",
    "        running_loss += loss.item()\n",
    "\n",
    "    print(f\"Epoch {epoch+1}/{EPOCHS}, Loss: {running_loss/len(train_loader)}\")\n",
    "\n",
    "print(\"Training complete! 🎉\")"
   ]
  },
  {
   "cell_type": "code",
   "execution_count": 20,
   "id": "e000b201-32e1-44c8-92f8-7e6803e2edd5",
   "metadata": {},
   "outputs": [
    {
     "name": "stdout",
     "output_type": "stream",
     "text": [
      "Model saved successfully! 💾\n"
     ]
    }
   ],
   "source": [
    "torch.save(model.state_dict(), \"HybridMalwareDetector/ml_models/cnn_model.pth\")\n",
    "print(\"Model saved successfully! 💾\")"
   ]
  },
  {
   "cell_type": "code",
   "execution_count": 16,
   "id": "3108724f-94aa-4a98-95be-19b7e4796d03",
   "metadata": {},
   "outputs": [
    {
     "name": "stdout",
     "output_type": "stream",
     "text": [
      "Epoch [1/10], Loss: 0.2229\n",
      "Epoch [2/10], Loss: 0.1892\n",
      "Epoch [3/10], Loss: 0.0961\n",
      "Epoch [4/10], Loss: 0.2808\n",
      "Epoch [5/10], Loss: 0.4462\n",
      "Epoch [6/10], Loss: 0.0154\n",
      "Epoch [7/10], Loss: 0.0530\n",
      "Epoch [8/10], Loss: 0.0932\n",
      "Epoch [9/10], Loss: 0.0060\n",
      "Epoch [10/10], Loss: 0.0023\n",
      "Model training complete and saved!\n"
     ]
    }
   ],
   "source": [
    "!python \"HybridMalwareDetector/dynamic_analysis/train_cnn.py\""
   ]
  },
  {
   "cell_type": "code",
   "execution_count": 25,
   "id": "b39a9540-4153-4568-a941-eb734f97417c",
   "metadata": {},
   "outputs": [
    {
     "name": "stdout",
     "output_type": "stream",
     "text": [
      "conv1.weight: torch.Size([32, 3, 3, 3])\n",
      "conv1.bias: torch.Size([32])\n",
      "conv2.weight: torch.Size([64, 32, 3, 3])\n",
      "conv2.bias: torch.Size([64])\n",
      "conv3.weight: torch.Size([128, 64, 3, 3])\n",
      "conv3.bias: torch.Size([128])\n",
      "fc1.weight: torch.Size([512, 32768])\n",
      "fc1.bias: torch.Size([512])\n",
      "fc2.weight: torch.Size([2, 512])\n",
      "fc2.bias: torch.Size([2])\n"
     ]
    }
   ],
   "source": [
    "cnn_state_dict = torch.load(\"HybridMalwareDetector/ml_models/cnn_model.pth\")\n",
    "for key, value in cnn_state_dict.items():\n",
    "    print(f\"{key}: {value.shape}\")"
   ]
  },
  {
   "cell_type": "code",
   "execution_count": 62,
   "id": "8813185d-47b1-422b-b8ec-28f0f1bc934b",
   "metadata": {},
   "outputs": [
    {
     "name": "stdout",
     "output_type": "stream",
     "text": [
      "(9339, 4097)\n"
     ]
    }
   ],
   "source": [
    "import numpy as np\n",
    "\n",
    "# Load the dataset\n",
    "data = np.load(\"HybridMalwareDetector/data/malimg_dataset_64x64.npy\", allow_pickle=True)\n",
    "\n",
    "# Check shape\n",
    "print(data.shape)  # Should be (num_samples, 64, 64)"
   ]
  },
  {
   "cell_type": "code",
   "execution_count": 63,
   "id": "a5909fd8-6a66-4021-b821-1a342f4d521a",
   "metadata": {},
   "outputs": [],
   "source": [
    "X = data[:, :-1]  # Features (4096 pixels)\n",
    "y = data[:, -1]   # Labels (last column)"
   ]
  },
  {
   "cell_type": "code",
   "execution_count": 64,
   "id": "149fd0fd-8f78-4fc2-9f1c-9040793ecc25",
   "metadata": {},
   "outputs": [],
   "source": [
    "from sklearn.decomposition import PCA\n",
    "\n",
    "pca = PCA(n_components=278)  # Reduce to 300 features\n",
    "X_pca = pca.fit_transform(X)"
   ]
  },
  {
   "cell_type": "code",
   "execution_count": 65,
   "id": "ab0fb636-f925-4f4a-90fd-367f46f8cfe4",
   "metadata": {},
   "outputs": [
    {
     "name": "stdout",
     "output_type": "stream",
     "text": [
      "Accuracy: 0.8597430406852249\n"
     ]
    }
   ],
   "source": [
    "from sklearn.svm import SVC\n",
    "from sklearn.model_selection import train_test_split\n",
    "from sklearn.metrics import accuracy_score\n",
    "\n",
    "# Split dataset\n",
    "X_train, X_test, y_train, y_test = train_test_split(X_pca, y, test_size=0.2, random_state=42)\n",
    "\n",
    "# Train SVM\n",
    "svm = SVC(kernel=\"rbf\", C=1.0)\n",
    "svm.fit(X_train, y_train)\n",
    "\n",
    "# Evaluate\n",
    "y_pred = svm.predict(X_test)\n",
    "print(\"Accuracy:\", accuracy_score(y_test, y_pred))"
   ]
  },
  {
   "cell_type": "code",
   "execution_count": 66,
   "id": "694fe625-dbbc-4367-8946-35a45c74cdbc",
   "metadata": {},
   "outputs": [
    {
     "name": "stdout",
     "output_type": "stream",
     "text": [
      "SVM model saved successfully! 🎉\n"
     ]
    }
   ],
   "source": [
    "import joblib\n",
    "\n",
    "# Save the trained model\n",
    "joblib.dump(svm, \"svm_model.pkl\")\n",
    "\n",
    "print(\"SVM model saved successfully! 🎉\")"
   ]
  },
  {
   "cell_type": "code",
   "execution_count": 68,
   "id": "ef9cfc46-7ae1-414c-aaea-ff2888c1b191",
   "metadata": {},
   "outputs": [
    {
     "name": "stdout",
     "output_type": "stream",
     "text": [
      "Flattened size: 16384\n"
     ]
    }
   ],
   "source": [
    "!python \"HybridMalwareDetector/gui.py\""
   ]
  },
  {
   "cell_type": "code",
   "execution_count": null,
   "id": "d30827d4-d4a0-4411-aa25-bd46f404369e",
   "metadata": {},
   "outputs": [],
   "source": []
  }
 ],
 "metadata": {
  "kernelspec": {
   "display_name": "Python 3 (ipykernel)",
   "language": "python",
   "name": "python3"
  },
  "language_info": {
   "codemirror_mode": {
    "name": "ipython",
    "version": 3
   },
   "file_extension": ".py",
   "mimetype": "text/x-python",
   "name": "python",
   "nbconvert_exporter": "python",
   "pygments_lexer": "ipython3",
   "version": "3.10.6"
  }
 },
 "nbformat": 4,
 "nbformat_minor": 5
}
